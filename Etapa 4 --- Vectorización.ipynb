{
 "cells": [
  {
   "cell_type": "code",
   "execution_count": 122,
   "metadata": {},
   "outputs": [],
   "source": [
    "from sklearn.feature_extraction.text import CountVectorizer, TfidfVectorizer"
   ]
  },
  {
   "cell_type": "markdown",
   "metadata": {},
   "source": [
    "# Formas de caracterizar en contexto"
   ]
  },
  {
   "cell_type": "markdown",
   "metadata": {},
   "source": [
    "Haremos los siguientes experimentos para ver la mejor forma de caracterizar el contexto:\n",
    "    - bolsa de palabras (unigramas, bigramas, subwords, con y sin stopwords)\n",
    "    - Agregado por mi: tfidf con normalización porque los vectores son muy sparsos\n",
    "    - si hay interacción del usuario objetivo y cómo se representa\n",
    "    - si hay respuestas\n",
    "    - si hay multimedia y de qué tipo\n",
    "__COMPLETAR__"
   ]
  },
  {
   "cell_type": "markdown",
   "metadata": {},
   "source": [
    "Usaremos diferentes word embeddings, obtenidos de diferentes tipos de corpus: genéricos o específicos de lenguaje generado por usuario o específicos del corpus del que estamos aprendiendo.\n",
    "    - Es decir, tres diferentes tipos de word embeddings:\n",
    "      - SBWCE\n",
    "      - con el mismo corpus de chats\n",
    "      - con un corpus de twitter"
   ]
  },
  {
   "cell_type": "markdown",
   "metadata": {},
   "source": [
    "## Cargando los datos de entrenamiento"
   ]
  },
  {
   "cell_type": "code",
   "execution_count": 2,
   "metadata": {},
   "outputs": [],
   "source": [
    "import pandas as pd"
   ]
  },
  {
   "cell_type": "code",
   "execution_count": 3,
   "metadata": {},
   "outputs": [],
   "source": [
    "df = pd.read_csv('short_ans3.csv')"
   ]
  },
  {
   "cell_type": "markdown",
   "metadata": {},
   "source": [
    "Acordandonos de los datos.."
   ]
  },
  {
   "cell_type": "code",
   "execution_count": 4,
   "metadata": {},
   "outputs": [
    {
     "data": {
      "text/plain": [
       "1"
      ]
     },
     "execution_count": 4,
     "metadata": {},
     "output_type": "execute_result"
    }
   ],
   "source": [
    "sum(df.context.isnull())"
   ]
  },
  {
   "cell_type": "code",
   "execution_count": 5,
   "metadata": {},
   "outputs": [
    {
     "data": {
      "text/html": [
       "<div>\n",
       "<style>\n",
       "    .dataframe thead tr:only-child th {\n",
       "        text-align: right;\n",
       "    }\n",
       "\n",
       "    .dataframe thead th {\n",
       "        text-align: left;\n",
       "    }\n",
       "\n",
       "    .dataframe tbody tr th {\n",
       "        vertical-align: top;\n",
       "    }\n",
       "</style>\n",
       "<table border=\"1\" class=\"dataframe\">\n",
       "  <thead>\n",
       "    <tr style=\"text-align: right;\">\n",
       "      <th></th>\n",
       "      <th>idchat</th>\n",
       "      <th>context</th>\n",
       "      <th>label</th>\n",
       "    </tr>\n",
       "  </thead>\n",
       "  <tbody>\n",
       "    <tr>\n",
       "      <th>0</th>\n",
       "      <td>0</td>\n",
       "      <td>NaN</td>\n",
       "      <td>https://m.facebook.com/story.php?story_fbid=14...</td>\n",
       "    </tr>\n",
       "    <tr>\n",
       "      <th>1</th>\n",
       "      <td>0</td>\n",
       "      <td>https://m.facebook.com/story.php?story_fbid=14...</td>\n",
       "      <td>nonDef</td>\n",
       "    </tr>\n",
       "    <tr>\n",
       "      <th>2</th>\n",
       "      <td>1</td>\n",
       "      <td>😂😂😂😂😂😂😂😂😂😂. Que es este lugar 👀. Qur hace este...</td>\n",
       "      <td>Bienvenido</td>\n",
       "    </tr>\n",
       "    <tr>\n",
       "      <th>3</th>\n",
       "      <td>1</td>\n",
       "      <td>Bienvenido. Vengo a pasarle fotos obscenas e i...</td>\n",
       "      <td>👀</td>\n",
       "    </tr>\n",
       "    <tr>\n",
       "      <th>4</th>\n",
       "      <td>1</td>\n",
       "      <td>👀. El mundo de nunca jamas?)</td>\n",
       "      <td>😂😂</td>\n",
       "    </tr>\n",
       "    <tr>\n",
       "      <th>5</th>\n",
       "      <td>1</td>\n",
       "      <td>😂😂</td>\n",
       "      <td>😂😂😂</td>\n",
       "    </tr>\n",
       "    <tr>\n",
       "      <th>6</th>\n",
       "      <td>1</td>\n",
       "      <td>😂😂😂</td>\n",
       "      <td>Oh sii</td>\n",
       "    </tr>\n",
       "    <tr>\n",
       "      <th>7</th>\n",
       "      <td>1</td>\n",
       "      <td>Oh sii. Seremos niños por siempre</td>\n",
       "      <td>Quienes ? 👀😂</td>\n",
       "    </tr>\n",
       "    <tr>\n",
       "      <th>8</th>\n",
       "      <td>1</td>\n",
       "      <td>Quienes ? 👀😂</td>\n",
       "      <td>Yo</td>\n",
       "    </tr>\n",
       "    <tr>\n",
       "      <th>9</th>\n",
       "      <td>1</td>\n",
       "      <td>Yo. 😏</td>\n",
       "      <td>😏</td>\n",
       "    </tr>\n",
       "    <tr>\n",
       "      <th>10</th>\n",
       "      <td>1</td>\n",
       "      <td>😏</td>\n",
       "      <td>😏</td>\n",
       "    </tr>\n",
       "    <tr>\n",
       "      <th>11</th>\n",
       "      <td>1</td>\n",
       "      <td>😏</td>\n",
       "      <td>😏</td>\n",
       "    </tr>\n",
       "    <tr>\n",
       "      <th>12</th>\n",
       "      <td>1</td>\n",
       "      <td>😏. Jajaja Eso si que es bastante creativo. ¡Mu...</td>\n",
       "      <td>😎</td>\n",
       "    </tr>\n",
       "    <tr>\n",
       "      <th>13</th>\n",
       "      <td>1</td>\n",
       "      <td>😎</td>\n",
       "      <td>🌚</td>\n",
       "    </tr>\n",
       "    <tr>\n",
       "      <th>14</th>\n",
       "      <td>1</td>\n",
       "      <td>🌚. 🌚</td>\n",
       "      <td>😏</td>\n",
       "    </tr>\n",
       "    <tr>\n",
       "      <th>15</th>\n",
       "      <td>1</td>\n",
       "      <td>😏</td>\n",
       "      <td>Holaaa</td>\n",
       "    </tr>\n",
       "    <tr>\n",
       "      <th>16</th>\n",
       "      <td>1</td>\n",
       "      <td>Holaaa</td>\n",
       "      <td>Holaaaaa</td>\n",
       "    </tr>\n",
       "    <tr>\n",
       "      <th>17</th>\n",
       "      <td>1</td>\n",
       "      <td>Holaaaaa. 🇻🇪. Que yo me desaparezca, no hay li...</td>\n",
       "      <td>😱😱</td>\n",
       "    </tr>\n",
       "    <tr>\n",
       "      <th>18</th>\n",
       "      <td>1</td>\n",
       "      <td>😱😱. Quien?. Jajaj. mira qué adulador es nuestr...</td>\n",
       "      <td>😏</td>\n",
       "    </tr>\n",
       "    <tr>\n",
       "      <th>19</th>\n",
       "      <td>1</td>\n",
       "      <td>😏. 😄 siempre. Bueno no</td>\n",
       "      <td>Esperando este mensaje</td>\n",
       "    </tr>\n",
       "    <tr>\n",
       "      <th>20</th>\n",
       "      <td>1</td>\n",
       "      <td>Esperando este mensaje</td>\n",
       "      <td>😪</td>\n",
       "    </tr>\n",
       "    <tr>\n",
       "      <th>21</th>\n",
       "      <td>1</td>\n",
       "      <td>😪. 🤔. Siempre estuve acá vigilandolos👀?)</td>\n",
       "      <td>con quién no?</td>\n",
       "    </tr>\n",
       "    <tr>\n",
       "      <th>22</th>\n",
       "      <td>1</td>\n",
       "      <td>con quién no?</td>\n",
       "      <td>😄</td>\n",
       "    </tr>\n",
       "    <tr>\n",
       "      <th>23</th>\n",
       "      <td>1</td>\n",
       "      <td>😄. 🙈</td>\n",
       "      <td>más te vale</td>\n",
       "    </tr>\n",
       "    <tr>\n",
       "      <th>24</th>\n",
       "      <td>1</td>\n",
       "      <td>más te vale</td>\n",
       "      <td>Contigo</td>\n",
       "    </tr>\n",
       "    <tr>\n",
       "      <th>25</th>\n",
       "      <td>1</td>\n",
       "      <td>Contigo. 😂😂😂. 😏😏😏*</td>\n",
       "      <td>eso lo sé</td>\n",
       "    </tr>\n",
       "    <tr>\n",
       "      <th>26</th>\n",
       "      <td>1</td>\n",
       "      <td>eso lo sé. jajajajaja. sólo tiene ojos para ti</td>\n",
       "      <td>👀👀👀</td>\n",
       "    </tr>\n",
       "    <tr>\n",
       "      <th>27</th>\n",
       "      <td>1</td>\n",
       "      <td>👀👀👀</td>\n",
       "      <td>chicos</td>\n",
       "    </tr>\n",
       "    <tr>\n",
       "      <th>28</th>\n",
       "      <td>1</td>\n",
       "      <td>chicos. una pregunta. cómo se escribe la direc...</td>\n",
       "      <td>ummmm okok</td>\n",
       "    </tr>\n",
       "    <tr>\n",
       "      <th>29</th>\n",
       "      <td>1</td>\n",
       "      <td>ummmm okok. pero cómo?. 2da av las flores de p...</td>\n",
       "      <td>ummm</td>\n",
       "    </tr>\n",
       "    <tr>\n",
       "      <th>...</th>\n",
       "      <td>...</td>\n",
       "      <td>...</td>\n",
       "      <td>...</td>\n",
       "    </tr>\n",
       "    <tr>\n",
       "      <th>56945</th>\n",
       "      <td>181</td>\n",
       "      <td>Jonyyy. Siii. Yo vooyh</td>\n",
       "      <td>De unaa</td>\n",
       "    </tr>\n",
       "    <tr>\n",
       "      <th>56946</th>\n",
       "      <td>181</td>\n",
       "      <td>De unaa. Quienes van a ir?</td>\n",
       "      <td>Nosee</td>\n",
       "    </tr>\n",
       "    <tr>\n",
       "      <th>56947</th>\n",
       "      <td>181</td>\n",
       "      <td>Nosee. Pensaba q iba a ir solo. Jajaja</td>\n",
       "      <td>Vamooo de unaa</td>\n",
       "    </tr>\n",
       "    <tr>\n",
       "      <th>56948</th>\n",
       "      <td>181</td>\n",
       "      <td>Vamooo de unaa. Cuanto salem. ?. Que cosa cuan...</td>\n",
       "      <td>Lo de mañana</td>\n",
       "    </tr>\n",
       "    <tr>\n",
       "      <th>56949</th>\n",
       "      <td>181</td>\n",
       "      <td>Lo de mañana. Supongo que no más de 100. No sa...</td>\n",
       "      <td>Jajajajajajaja noo</td>\n",
       "    </tr>\n",
       "    <tr>\n",
       "      <th>56950</th>\n",
       "      <td>181</td>\n",
       "      <td>Jajajajajajaja noo. Es birra, pizzas y narguil...</td>\n",
       "      <td>Y este jueves</td>\n",
       "    </tr>\n",
       "    <tr>\n",
       "      <th>56951</th>\n",
       "      <td>181</td>\n",
       "      <td>Y este jueves. No me llegó nada. Como sabees</td>\n",
       "      <td>&lt;Archivo omitido&gt;</td>\n",
       "    </tr>\n",
       "    <tr>\n",
       "      <th>56952</th>\n",
       "      <td>181</td>\n",
       "      <td>&lt;Archivo omitido&gt;. Soy RRPP de hillel ahora. A...</td>\n",
       "      <td>Aaag noo</td>\n",
       "    </tr>\n",
       "    <tr>\n",
       "      <th>56953</th>\n",
       "      <td>181</td>\n",
       "      <td>Aaag noo. En el centro encima. Pensé q era lo ...</td>\n",
       "      <td>Sos un culiado</td>\n",
       "    </tr>\n",
       "    <tr>\n",
       "      <th>56954</th>\n",
       "      <td>181</td>\n",
       "      <td>Sos un culiado. 😂😂😂😂</td>\n",
       "      <td>Jjajajajajajau</td>\n",
       "    </tr>\n",
       "    <tr>\n",
       "      <th>56955</th>\n",
       "      <td>181</td>\n",
       "      <td>Jjajajajajajau. No sabia q ya tenías pasaje</td>\n",
       "      <td>Sisis</td>\n",
       "    </tr>\n",
       "    <tr>\n",
       "      <th>56956</th>\n",
       "      <td>181</td>\n",
       "      <td>Sisis. Ya tengo :p</td>\n",
       "      <td>Sarpaooo</td>\n",
       "    </tr>\n",
       "    <tr>\n",
       "      <th>56957</th>\n",
       "      <td>181</td>\n",
       "      <td>Sarpaooo. En realidad en estos días los saque....</td>\n",
       "      <td>ah sarpado</td>\n",
       "    </tr>\n",
       "    <tr>\n",
       "      <th>56958</th>\n",
       "      <td>181</td>\n",
       "      <td>ah sarpado</td>\n",
       "      <td>Vos que ondaa?</td>\n",
       "    </tr>\n",
       "    <tr>\n",
       "      <th>56959</th>\n",
       "      <td>181</td>\n",
       "      <td>Vos que ondaa?. Che... nos tenemos que juntar ...</td>\n",
       "      <td>See</td>\n",
       "    </tr>\n",
       "    <tr>\n",
       "      <th>56960</th>\n",
       "      <td>181</td>\n",
       "      <td>See. Que sale más barato</td>\n",
       "      <td>Ansiosooo yoo</td>\n",
       "    </tr>\n",
       "    <tr>\n",
       "      <th>56961</th>\n",
       "      <td>181</td>\n",
       "      <td>Ansiosooo yoo. Jajajajaja. Que bieeenn</td>\n",
       "      <td>Jajajajajajajajajajaja yo tmb</td>\n",
       "    </tr>\n",
       "    <tr>\n",
       "      <th>56962</th>\n",
       "      <td>181</td>\n",
       "      <td>Jajajajajajajajajajaja yo tmb. Y hasta cuando?...</td>\n",
       "      <td>See</td>\n",
       "    </tr>\n",
       "    <tr>\n",
       "      <th>56963</th>\n",
       "      <td>181</td>\n",
       "      <td>See. Te va a salir lo mismo que sacar de ida y...</td>\n",
       "      <td>Ahh mortal</td>\n",
       "    </tr>\n",
       "    <tr>\n",
       "      <th>56964</th>\n",
       "      <td>181</td>\n",
       "      <td>Ahh mortal. Claro sisi. Y no se pueden sacar p...</td>\n",
       "      <td>Uh, 5 meses</td>\n",
       "    </tr>\n",
       "    <tr>\n",
       "      <th>56965</th>\n",
       "      <td>181</td>\n",
       "      <td>Uh, 5 meses. Sarpado. Tengo solo el pasaje de ...</td>\n",
       "      <td>Jajajajqjqjajaja</td>\n",
       "    </tr>\n",
       "    <tr>\n",
       "      <th>56966</th>\n",
       "      <td>181</td>\n",
       "      <td>Jajajajqjqjajaja. Tendrías q averiguar</td>\n",
       "      <td>Si 😨😨😨😨</td>\n",
       "    </tr>\n",
       "    <tr>\n",
       "      <th>56967</th>\n",
       "      <td>181</td>\n",
       "      <td>Si 😨😨😨😨. A lo sumo si te exigen te sacas el pa...</td>\n",
       "      <td>Uh bajon</td>\n",
       "    </tr>\n",
       "    <tr>\n",
       "      <th>56968</th>\n",
       "      <td>181</td>\n",
       "      <td>Uh bajon. Bue. Tenes tiempo aun</td>\n",
       "      <td>Sisi obviamente</td>\n",
       "    </tr>\n",
       "    <tr>\n",
       "      <th>56969</th>\n",
       "      <td>181</td>\n",
       "      <td>Sisi obviamente. Tengo tiempo. No voy a poder ...</td>\n",
       "      <td>Jajajajajajajaja</td>\n",
       "    </tr>\n",
       "    <tr>\n",
       "      <th>56970</th>\n",
       "      <td>181</td>\n",
       "      <td>Jajajajajajajaja. Yo nose culiado. No me qu da...</td>\n",
       "      <td>No tengo nada</td>\n",
       "    </tr>\n",
       "    <tr>\n",
       "      <th>56971</th>\n",
       "      <td>181</td>\n",
       "      <td>No tengo nada. Jajajajajaja. No preparé nada</td>\n",
       "      <td>Jajajajajaja que culia</td>\n",
       "    </tr>\n",
       "    <tr>\n",
       "      <th>56972</th>\n",
       "      <td>181</td>\n",
       "      <td>Jajajajajaja que culia. Y seguro de salud ni n...</td>\n",
       "      <td>Jajajajjaa</td>\n",
       "    </tr>\n",
       "    <tr>\n",
       "      <th>56973</th>\n",
       "      <td>181</td>\n",
       "      <td>Jajajajjaa. Hospedaje?. Tengo para las primera...</td>\n",
       "      <td>Jajajaja</td>\n",
       "    </tr>\n",
       "    <tr>\n",
       "      <th>56974</th>\n",
       "      <td>181</td>\n",
       "      <td>Jajajaja. Estaba pensando hacer lo mismo</td>\n",
       "      <td>Jajajaja</td>\n",
       "    </tr>\n",
       "  </tbody>\n",
       "</table>\n",
       "<p>56975 rows × 3 columns</p>\n",
       "</div>"
      ],
      "text/plain": [
       "       idchat                                            context  \\\n",
       "0           0                                                NaN   \n",
       "1           0  https://m.facebook.com/story.php?story_fbid=14...   \n",
       "2           1  😂😂😂😂😂😂😂😂😂😂. Que es este lugar 👀. Qur hace este...   \n",
       "3           1  Bienvenido. Vengo a pasarle fotos obscenas e i...   \n",
       "4           1                       👀. El mundo de nunca jamas?)   \n",
       "5           1                                                 😂😂   \n",
       "6           1                                                😂😂😂   \n",
       "7           1                  Oh sii. Seremos niños por siempre   \n",
       "8           1                                       Quienes ? 👀😂   \n",
       "9           1                                              Yo. 😏   \n",
       "10          1                                                  😏   \n",
       "11          1                                                  😏   \n",
       "12          1  😏. Jajaja Eso si que es bastante creativo. ¡Mu...   \n",
       "13          1                                                  😎   \n",
       "14          1                                               🌚. 🌚   \n",
       "15          1                                                  😏   \n",
       "16          1                                             Holaaa   \n",
       "17          1  Holaaaaa. 🇻🇪. Que yo me desaparezca, no hay li...   \n",
       "18          1  😱😱. Quien?. Jajaj. mira qué adulador es nuestr...   \n",
       "19          1                             😏. 😄 siempre. Bueno no   \n",
       "20          1                             Esperando este mensaje   \n",
       "21          1           😪. 🤔. Siempre estuve acá vigilandolos👀?)   \n",
       "22          1                                      con quién no?   \n",
       "23          1                                               😄. 🙈   \n",
       "24          1                                        más te vale   \n",
       "25          1                                 Contigo. 😂😂😂. 😏😏😏*   \n",
       "26          1     eso lo sé. jajajajaja. sólo tiene ojos para ti   \n",
       "27          1                                                👀👀👀   \n",
       "28          1  chicos. una pregunta. cómo se escribe la direc...   \n",
       "29          1  ummmm okok. pero cómo?. 2da av las flores de p...   \n",
       "...       ...                                                ...   \n",
       "56945     181                             Jonyyy. Siii. Yo vooyh   \n",
       "56946     181                         De unaa. Quienes van a ir?   \n",
       "56947     181             Nosee. Pensaba q iba a ir solo. Jajaja   \n",
       "56948     181  Vamooo de unaa. Cuanto salem. ?. Que cosa cuan...   \n",
       "56949     181  Lo de mañana. Supongo que no más de 100. No sa...   \n",
       "56950     181  Jajajajajajaja noo. Es birra, pizzas y narguil...   \n",
       "56951     181       Y este jueves. No me llegó nada. Como sabees   \n",
       "56952     181  <Archivo omitido>. Soy RRPP de hillel ahora. A...   \n",
       "56953     181  Aaag noo. En el centro encima. Pensé q era lo ...   \n",
       "56954     181                               Sos un culiado. 😂😂😂😂   \n",
       "56955     181        Jjajajajajajau. No sabia q ya tenías pasaje   \n",
       "56956     181                                 Sisis. Ya tengo :p   \n",
       "56957     181  Sarpaooo. En realidad en estos días los saque....   \n",
       "56958     181                                         ah sarpado   \n",
       "56959     181  Vos que ondaa?. Che... nos tenemos que juntar ...   \n",
       "56960     181                           See. Que sale más barato   \n",
       "56961     181             Ansiosooo yoo. Jajajajaja. Que bieeenn   \n",
       "56962     181  Jajajajajajajajajajaja yo tmb. Y hasta cuando?...   \n",
       "56963     181  See. Te va a salir lo mismo que sacar de ida y...   \n",
       "56964     181  Ahh mortal. Claro sisi. Y no se pueden sacar p...   \n",
       "56965     181  Uh, 5 meses. Sarpado. Tengo solo el pasaje de ...   \n",
       "56966     181             Jajajajqjqjajaja. Tendrías q averiguar   \n",
       "56967     181  Si 😨😨😨😨. A lo sumo si te exigen te sacas el pa...   \n",
       "56968     181                    Uh bajon. Bue. Tenes tiempo aun   \n",
       "56969     181  Sisi obviamente. Tengo tiempo. No voy a poder ...   \n",
       "56970     181  Jajajajajajajaja. Yo nose culiado. No me qu da...   \n",
       "56971     181       No tengo nada. Jajajajajaja. No preparé nada   \n",
       "56972     181  Jajajajajaja que culia. Y seguro de salud ni n...   \n",
       "56973     181  Jajajajjaa. Hospedaje?. Tengo para las primera...   \n",
       "56974     181           Jajajaja. Estaba pensando hacer lo mismo   \n",
       "\n",
       "                                                   label  \n",
       "0      https://m.facebook.com/story.php?story_fbid=14...  \n",
       "1                                                 nonDef  \n",
       "2                                             Bienvenido  \n",
       "3                                                      👀  \n",
       "4                                                     😂😂  \n",
       "5                                                    😂😂😂  \n",
       "6                                                 Oh sii  \n",
       "7                                           Quienes ? 👀😂  \n",
       "8                                                     Yo  \n",
       "9                                                      😏  \n",
       "10                                                     😏  \n",
       "11                                                     😏  \n",
       "12                                                     😎  \n",
       "13                                                     🌚  \n",
       "14                                                     😏  \n",
       "15                                                Holaaa  \n",
       "16                                              Holaaaaa  \n",
       "17                                                    😱😱  \n",
       "18                                                     😏  \n",
       "19                                Esperando este mensaje  \n",
       "20                                                     😪  \n",
       "21                                         con quién no?  \n",
       "22                                                     😄  \n",
       "23                                           más te vale  \n",
       "24                                               Contigo  \n",
       "25                                             eso lo sé  \n",
       "26                                                   👀👀👀  \n",
       "27                                                chicos  \n",
       "28                                            ummmm okok  \n",
       "29                                                  ummm  \n",
       "...                                                  ...  \n",
       "56945                                            De unaa  \n",
       "56946                                              Nosee  \n",
       "56947                                     Vamooo de unaa  \n",
       "56948                                       Lo de mañana  \n",
       "56949                                 Jajajajajajaja noo  \n",
       "56950                                      Y este jueves  \n",
       "56951                                  <Archivo omitido>  \n",
       "56952                                           Aaag noo  \n",
       "56953                                     Sos un culiado  \n",
       "56954                                     Jjajajajajajau  \n",
       "56955                                              Sisis  \n",
       "56956                                           Sarpaooo  \n",
       "56957                                         ah sarpado  \n",
       "56958                                     Vos que ondaa?  \n",
       "56959                                                See  \n",
       "56960                                      Ansiosooo yoo  \n",
       "56961                      Jajajajajajajajajajaja yo tmb  \n",
       "56962                                                See  \n",
       "56963                                         Ahh mortal  \n",
       "56964                                        Uh, 5 meses  \n",
       "56965                                   Jajajajqjqjajaja  \n",
       "56966                                            Si 😨😨😨😨  \n",
       "56967                                           Uh bajon  \n",
       "56968                                    Sisi obviamente  \n",
       "56969                                   Jajajajajajajaja  \n",
       "56970                                      No tengo nada  \n",
       "56971                             Jajajajajaja que culia  \n",
       "56972                                         Jajajajjaa  \n",
       "56973                                           Jajajaja  \n",
       "56974                                           Jajajaja  \n",
       "\n",
       "[56975 rows x 3 columns]"
      ]
     },
     "execution_count": 5,
     "metadata": {},
     "output_type": "execute_result"
    }
   ],
   "source": [
    "df"
   ]
  },
  {
   "cell_type": "markdown",
   "metadata": {},
   "source": [
    "# Pre procesamiento"
   ]
  },
  {
   "cell_type": "markdown",
   "metadata": {},
   "source": [
    "Como habíamos dicho es mejor pre procesar las palabras"
   ]
  },
  {
   "cell_type": "code",
   "execution_count": 6,
   "metadata": {},
   "outputs": [],
   "source": [
    "from string import punctuation\n",
    "import re\n",
    "import unicodedata"
   ]
  },
  {
   "cell_type": "code",
   "execution_count": 93,
   "metadata": {},
   "outputs": [],
   "source": [
    "STOP_WORDS = list(punctuation)\n",
    "\n",
    "def remove_repeted(text):\n",
    "    return re.sub(r'(\\w)\\1*', r'\\1', text)\n",
    "\n",
    "def remove_sw(text):\n",
    "    return re.sub('{1}{0}{1}'.format(punctuation + '¡', '[]'), '', text)\n",
    "\n",
    "def dig2num(word):\n",
    "    return re.sub('(\\d+[\\WxX]*[^ ]*)+', 'NUM', word)\n",
    "\n",
    "def remove_tildes(cadena):\n",
    "    s = ''.join((c for c in unicodedata.normalize('NFD',cadena) if unicodedata.category(c) != 'Mn'))\n",
    "    return s\n",
    "\n",
    "def remove_ok(text):\n",
    "    return re.sub('(ok)+[a-zA-Z]*', 'ok', text)\n",
    "\n",
    "def remove_ja(text):\n",
    "    return re.sub('(ja[ajs]*)+', 'ja', text)\n",
    "\n",
    "def clean_text(text):\n",
    "    return dig2num(remove_tildes(remove_ok(remove_ja(text.lower()))))\n",
    "\n",
    "def clean_text_1(text):\n",
    "    return remove_repeted(clean_text(remove_sw(text)))"
   ]
  },
  {
   "cell_type": "markdown",
   "metadata": {},
   "source": [
    "## Vectorizando"
   ]
  },
  {
   "cell_type": "markdown",
   "metadata": {},
   "source": [
    "#### BOG: 1-gramas"
   ]
  },
  {
   "cell_type": "code",
   "execution_count": 117,
   "metadata": {},
   "outputs": [],
   "source": [
    "vectorizer = CountVectorizer(min_df=10, preprocessor=clean_text_1, ngram_range=(1, 1))"
   ]
  },
  {
   "cell_type": "code",
   "execution_count": 118,
   "metadata": {},
   "outputs": [],
   "source": [
    "representation = vectorizer.fit(df[1:].context)"
   ]
  },
  {
   "cell_type": "markdown",
   "metadata": {},
   "source": [
    "Entonces obtenemos alrededor de tantas features:"
   ]
  },
  {
   "cell_type": "code",
   "execution_count": 121,
   "metadata": {},
   "outputs": [
    {
     "name": "stdout",
     "output_type": "stream",
     "text": [
      "['NUM', 'aNUM', 'abajo', 'abi', 'abierta', 'abiertas', 'abierto', 'abra', 'abran', 'abrazo', 'abrazos', 'abre', 'abren', 'abri', 'abril', 'abrir', 'abro', 'abuela', 'abuelo', 'aburido', 'abuso', 'ac', 'aca', 'acaba', 'acaban', 'acabar', 'acabaron', 'acabas', 'acabe', 'acabo', 'academia', 'acaso', 'aceder', 'acepta', 'acepte', 'acerca', 'aceso', 'acion', 'aclarar', 'aclaro', 'acompana', 'acompanar', 'acompano', 'acordaba', 'acordar', 'acordas', 'acordate', 'acorde', 'activa', 'activan', 'activar', 'active', 'actividad', 'actividades', 'activo', 'activos', 'acto', 'actores', 'actual', 'actualiza', 'actualizacion', 'actualizar', 'actualizo', 'acuerda', 'acuerdan', 'acuerdo', 'acv', 'ad', 'adelantar', 'adelante', 'adelanto', 'ademas', 'adentro', 'adios', 'adjuntado', 'admin', 'administrador', 'adri', 'adrian', 'aeropuerto', 'afecta', 'afiche', 'afuera', 'again', 'agara', 'agarar', 'agare', 'agaro', 'age', 'agenda', 'agendado', 'agendo', 'ago', 'agosto', 'agotada', 'agradece', 'agradeceria', 'agradezco', 'agrega', 'agregalo']\n"
     ]
    },
    {
     "data": {
      "text/plain": [
       "5204"
      ]
     },
     "execution_count": 121,
     "metadata": {},
     "output_type": "execute_result"
    }
   ],
   "source": [
    "print(representation.get_feature_names()[:100])\n",
    "len(representation.get_feature_names())"
   ]
  },
  {
   "cell_type": "markdown",
   "metadata": {},
   "source": [
    "#### BOG: 2-gramas"
   ]
  },
  {
   "cell_type": "code",
   "execution_count": 11,
   "metadata": {},
   "outputs": [
    {
     "data": {
      "text/plain": [
       "CountVectorizer(analyzer='word', binary=False, decode_error='strict',\n",
       "        dtype=<class 'numpy.int64'>, encoding='utf-8', input='content',\n",
       "        lowercase=True, max_df=1.0, max_features=None, min_df=10,\n",
       "        ngram_range=(1, 2),\n",
       "        preprocessor=<function clean_text at 0x7f0c0be776a8>,\n",
       "        stop_words=['!', '\"', '#', '$', '%', '&', \"'\", '(', ')', '*', '+', ',', '-', '.', '/', ':', ';', '<', '=', '>', '?', '@', '[', '\\\\', ']', '^', '_', '`', '{', '|', '}', '~'],\n",
       "        strip_accents=None, token_pattern='(?u)\\\\b\\\\w\\\\w+\\\\b',\n",
       "        tokenizer=None, vocabulary=None)"
      ]
     },
     "execution_count": 11,
     "metadata": {},
     "output_type": "execute_result"
    }
   ],
   "source": [
    "representation.set_params(ngram_range=(1, 2))"
   ]
  },
  {
   "cell_type": "code",
   "execution_count": 12,
   "metadata": {},
   "outputs": [
    {
     "data": {
      "text/plain": [
       "14206"
      ]
     },
     "execution_count": 12,
     "metadata": {},
     "output_type": "execute_result"
    }
   ],
   "source": [
    "len(representation.fit(df[1:].context).get_feature_names())"
   ]
  },
  {
   "cell_type": "markdown",
   "metadata": {},
   "source": [
    "#### BOG: 3-gramas"
   ]
  },
  {
   "cell_type": "code",
   "execution_count": 13,
   "metadata": {},
   "outputs": [
    {
     "data": {
      "text/plain": [
       "CountVectorizer(analyzer='word', binary=False, decode_error='strict',\n",
       "        dtype=<class 'numpy.int64'>, encoding='utf-8', input='content',\n",
       "        lowercase=True, max_df=1.0, max_features=None, min_df=10,\n",
       "        ngram_range=(1, 3),\n",
       "        preprocessor=<function clean_text at 0x7f0c0be776a8>,\n",
       "        stop_words=['!', '\"', '#', '$', '%', '&', \"'\", '(', ')', '*', '+', ',', '-', '.', '/', ':', ';', '<', '=', '>', '?', '@', '[', '\\\\', ']', '^', '_', '`', '{', '|', '}', '~'],\n",
       "        strip_accents=None, token_pattern='(?u)\\\\b\\\\w\\\\w+\\\\b',\n",
       "        tokenizer=None, vocabulary=None)"
      ]
     },
     "execution_count": 13,
     "metadata": {},
     "output_type": "execute_result"
    }
   ],
   "source": [
    "representation.set_params(ngram_range=(1, 3))"
   ]
  },
  {
   "cell_type": "code",
   "execution_count": 14,
   "metadata": {},
   "outputs": [
    {
     "data": {
      "text/plain": [
       "16925"
      ]
     },
     "execution_count": 14,
     "metadata": {},
     "output_type": "execute_result"
    }
   ],
   "source": [
    "len(representation.fit(df[1:].context).get_feature_names())"
   ]
  },
  {
   "cell_type": "code",
   "execution_count": 15,
   "metadata": {},
   "outputs": [],
   "source": [
    "vector = representation.transform(df[1:].context)"
   ]
  },
  {
   "cell_type": "code",
   "execution_count": 16,
   "metadata": {},
   "outputs": [
    {
     "data": {
      "text/plain": [
       "(56974, 16925)"
      ]
     },
     "execution_count": 16,
     "metadata": {},
     "output_type": "execute_result"
    }
   ],
   "source": [
    "vector.get_shape()"
   ]
  },
  {
   "cell_type": "code",
   "execution_count": 26,
   "metadata": {},
   "outputs": [
    {
     "data": {
      "text/plain": [
       "4"
      ]
     },
     "execution_count": 26,
     "metadata": {},
     "output_type": "execute_result"
    }
   ],
   "source": [
    "vector.getrow(56953).sum()"
   ]
  },
  {
   "cell_type": "markdown",
   "metadata": {},
   "source": [
    ":o esto quiere decir que en 16925 columnas, 4 no son 0. Una matriz totalmente esparsa. Lo mejor sería implementar un word2vec o tfidf con normalización para ver que sucede."
   ]
  },
  {
   "cell_type": "markdown",
   "metadata": {},
   "source": [
    "#### BOG: (3,4)-Subwords"
   ]
  },
  {
   "cell_type": "code",
   "execution_count": 101,
   "metadata": {},
   "outputs": [
    {
     "data": {
      "text/plain": [
       "1         htpsmfacebokNUM hola te confundiste de numero\n",
       "2     😂😂😂😂😂😂😂😂😂😂 que es este lugar 👀 qur hace este a...\n",
       "3     bienvenido vengo a pasarle fotos obscenas e ir...\n",
       "4                             👀 el mundo de nunca jamas\n",
       "5                                                    😂😂\n",
       "6                                                   😂😂😂\n",
       "7                       oh si seremos ninos por siempre\n",
       "8                                           quienes  👀😂\n",
       "9                                                  yo 😏\n",
       "10                                                    😏\n",
       "11                                                    😏\n",
       "12     😏 ja eso si que es bastante creativo muy bueno 😄\n",
       "13                                                    😎\n",
       "14                                                  🌚 🌚\n",
       "15                                                    😏\n",
       "16                                                 hola\n",
       "17    hola 🇻🇪 que yo me desaparezca no hay lio pero ...\n",
       "18    😱😱 quien ja mira que adulador es nuestro migue...\n",
       "19                                 😏 😄 siempre bueno no\n",
       "20                               esperando este mensaje\n",
       "21                 😪 🤔 siempre estuve aca vigilandolos👀\n",
       "22                                         con quien no\n",
       "23                                                  😄 🙈\n",
       "24                                          mas te vale\n",
       "25                                      contigo 😂😂😂 😏😏😏\n",
       "26                 eso lo se ja solo tiene ojos para ti\n",
       "27                                                  👀👀👀\n",
       "28    chicos una pregunta como se escribe la direcio...\n",
       "29    um ok pero como NUM av las flores de pte hiero...\n",
       "30    um no recuerdo si hay algo mas perp creo q es ...\n",
       "Name: context, dtype: object"
      ]
     },
     "execution_count": 101,
     "metadata": {},
     "output_type": "execute_result"
    }
   ],
   "source": [
    "df[1:].context.map(clean_text_1).head(30)"
   ]
  },
  {
   "cell_type": "code",
   "execution_count": 110,
   "metadata": {},
   "outputs": [],
   "source": [
    "vectorizer = CountVectorizer(min_df=10, stop_words=STOP_WORDS, preprocessor=clean_text_1, analyzer='char', ngram_range=(3,4))"
   ]
  },
  {
   "cell_type": "code",
   "execution_count": 111,
   "metadata": {},
   "outputs": [
    {
     "data": {
      "text/plain": [
       "CountVectorizer(analyzer='char', binary=False, decode_error='strict',\n",
       "        dtype=<class 'numpy.int64'>, encoding='utf-8', input='content',\n",
       "        lowercase=True, max_df=1.0, max_features=None, min_df=10,\n",
       "        ngram_range=(3, 4),\n",
       "        preprocessor=<function clean_text_1 at 0x7f0c01940620>,\n",
       "        stop_words=['!', '\"', '#', '$', '%', '&', \"'\", '(', ')', '*', '+', ',', '-', '.', '/', ':', ';', '<', '=', '>', '?', '@', '[', '\\\\', ']', '^', '_', '`', '{', '|', '}', '~'],\n",
       "        strip_accents=None, token_pattern='(?u)\\\\b\\\\w\\\\w+\\\\b',\n",
       "        tokenizer=None, vocabulary=None)"
      ]
     },
     "execution_count": 111,
     "metadata": {},
     "output_type": "execute_result"
    }
   ],
   "source": [
    "vectorizer"
   ]
  },
  {
   "cell_type": "code",
   "execution_count": 112,
   "metadata": {},
   "outputs": [],
   "source": [
    "representation = vectorizer.fit(df[1:].context)"
   ]
  },
  {
   "cell_type": "code",
   "execution_count": 116,
   "metadata": {},
   "outputs": [
    {
     "data": {
      "text/plain": [
       "23187"
      ]
     },
     "execution_count": 116,
     "metadata": {},
     "output_type": "execute_result"
    }
   ],
   "source": [
    "len(representation.get_feature_names())"
   ]
  },
  {
   "cell_type": "markdown",
   "metadata": {},
   "source": [
    "### TFidf: 1-gramas"
   ]
  },
  {
   "cell_type": "code",
   "execution_count": 124,
   "metadata": {},
   "outputs": [],
   "source": [
    "vectorizer = TfidfVectorizer(min_df=10, preprocessor=clean_text_1, ngram_range=(1, 1))"
   ]
  },
  {
   "cell_type": "code",
   "execution_count": 129,
   "metadata": {},
   "outputs": [],
   "source": [
    "representation = vectorizer.fit(df[1:].context)"
   ]
  },
  {
   "cell_type": "code",
   "execution_count": 131,
   "metadata": {},
   "outputs": [],
   "source": [
    "BOG_matrix = representation.transform(df[1:].context)"
   ]
  },
  {
   "cell_type": "code",
   "execution_count": null,
   "metadata": {},
   "outputs": [],
   "source": []
  }
 ],
 "metadata": {
  "kernelspec": {
   "display_name": "Python 3",
   "language": "python",
   "name": "python3"
  },
  "language_info": {
   "codemirror_mode": {
    "name": "ipython",
    "version": 3
   },
   "file_extension": ".py",
   "mimetype": "text/x-python",
   "name": "python",
   "nbconvert_exporter": "python",
   "pygments_lexer": "ipython3",
   "version": "3.5.2"
  }
 },
 "nbformat": 4,
 "nbformat_minor": 2
}
