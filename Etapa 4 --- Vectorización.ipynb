{
 "cells": [
  {
   "cell_type": "markdown",
   "metadata": {},
   "source": [
    "1. clases de repuestas cortas con 2 palabras que ocurren más de n veces (k clases)\n",
    "1.1. contexto de 1 turno anterior\n",
    "1.1.1. unigramas  (que ocurren más de m veces)\n",
    "1.1.1.1 unigramas (que ocurren más de 10 veces)\n",
    "1.1.1.2 unigramas (que ocurren más de 20 veces)\n",
    "...\n",
    "1.1.2. unigramas (que ocurren más de m veces) y bigramas (que ocurren más de p veces)\n",
    "...\n",
    "1.1.3. unigramas (que ocurren más de m veces) y bigramas (que ocurren más de p veces) y subwords (que ocurren más de r veces)\n",
    "...\n",
    "1.1.4. subwords (que ocuren más de r veces)\n",
    "...\n",
    "1.2. contexto de 3 turnos anteriores\n",
    "1.2.1 unigramas...\n",
    "...\n",
    "1.3. contexto de 10 turnos anteriores\n",
    "...\n",
    "\n",
    "clases de respuestas cortas con 1 palabra que ocurren más de n veces (k clases)\n",
    "...\n",
    "\n",
    "clases de respuestas cortas con 1-3 palabras que ocurren más de n veces (k clases)\n",
    "..."
   ]
  },
  {
   "cell_type": "code",
   "execution_count": 2,
   "metadata": {},
   "outputs": [
    {
     "name": "stderr",
     "output_type": "stream",
     "text": [
      "/home/jonathan/.virtualenvs/dataMining/lib/python3.5/importlib/_bootstrap.py:222: RuntimeWarning: numpy.dtype size changed, may indicate binary incompatibility. Expected 96, got 88\n",
      "  return f(*args, **kwds)\n"
     ]
    }
   ],
   "source": [
    "from sklearn.feature_extraction.text import CountVectorizer"
   ]
  },
  {
   "cell_type": "markdown",
   "metadata": {},
   "source": [
    "# Formas de caracterizar en contexto"
   ]
  },
  {
   "cell_type": "markdown",
   "metadata": {},
   "source": [
    "Haremos los siguientes experimentos para ver la mejor forma de caracterizar el contexto:\n",
    "    - bolsa de palabras (unigramas, bigramas, subwords, con y sin stopwords)\n",
    "    - si hay interacción del usuario objetivo y cómo se representa\n",
    "    - si hay respuestas\n",
    "    - si hay multimedia y de qué tipo"
   ]
  },
  {
   "cell_type": "markdown",
   "metadata": {},
   "source": [
    "Usaremos diferentes word embeddings, obtenidos de diferentes tipos de corpus: genéricos o específicos de lenguaje generado por usuario o específicos del corpus del que estamos aprendiendo.\n",
    "    - Es decir, tres diferentes tipos de word embeddings:\n",
    "      - SBWCE\n",
    "      - con el mismo corpus de chats\n",
    "      - con un corpus de twitter"
   ]
  },
  {
   "cell_type": "markdown",
   "metadata": {},
   "source": [
    "## Cargando los datos de entrenamiento"
   ]
  },
  {
   "cell_type": "code",
   "execution_count": 4,
   "metadata": {},
   "outputs": [
    {
     "name": "stderr",
     "output_type": "stream",
     "text": [
      "/home/jonathan/.virtualenvs/dataMining/lib/python3.5/importlib/_bootstrap.py:222: RuntimeWarning: numpy.dtype size changed, may indicate binary incompatibility. Expected 96, got 88\n",
      "  return f(*args, **kwds)\n"
     ]
    }
   ],
   "source": [
    "import pandas as pd"
   ]
  },
  {
   "cell_type": "code",
   "execution_count": 5,
   "metadata": {},
   "outputs": [],
   "source": [
    "df = pd.read_csv('short_ans3.csv')"
   ]
  },
  {
   "cell_type": "markdown",
   "metadata": {},
   "source": [
    "Acordandonos de los datos.."
   ]
  },
  {
   "cell_type": "code",
   "execution_count": 6,
   "metadata": {},
   "outputs": [
    {
     "data": {
      "text/html": [
       "<div>\n",
       "<style>\n",
       "    .dataframe thead tr:only-child th {\n",
       "        text-align: right;\n",
       "    }\n",
       "\n",
       "    .dataframe thead th {\n",
       "        text-align: left;\n",
       "    }\n",
       "\n",
       "    .dataframe tbody tr th {\n",
       "        vertical-align: top;\n",
       "    }\n",
       "</style>\n",
       "<table border=\"1\" class=\"dataframe\">\n",
       "  <thead>\n",
       "    <tr style=\"text-align: right;\">\n",
       "      <th></th>\n",
       "      <th>idchat</th>\n",
       "      <th>context</th>\n",
       "      <th>label</th>\n",
       "    </tr>\n",
       "  </thead>\n",
       "  <tbody>\n",
       "    <tr>\n",
       "      <th>0</th>\n",
       "      <td>0</td>\n",
       "      <td>NaN</td>\n",
       "      <td>https://m.facebook.com/story.php?story_fbid=14...</td>\n",
       "    </tr>\n",
       "    <tr>\n",
       "      <th>1</th>\n",
       "      <td>0</td>\n",
       "      <td>https://m.facebook.com/story.php?story_fbid=14...</td>\n",
       "      <td>nonDef</td>\n",
       "    </tr>\n",
       "    <tr>\n",
       "      <th>2</th>\n",
       "      <td>1</td>\n",
       "      <td>😂😂😂😂😂😂😂😂😂😂. Que es este lugar 👀. Qur hace este...</td>\n",
       "      <td>Bienvenido</td>\n",
       "    </tr>\n",
       "    <tr>\n",
       "      <th>3</th>\n",
       "      <td>1</td>\n",
       "      <td>Bienvenido. Vengo a pasarle fotos obscenas e i...</td>\n",
       "      <td>👀</td>\n",
       "    </tr>\n",
       "    <tr>\n",
       "      <th>4</th>\n",
       "      <td>1</td>\n",
       "      <td>👀. El mundo de nunca jamas?)</td>\n",
       "      <td>😂😂</td>\n",
       "    </tr>\n",
       "    <tr>\n",
       "      <th>5</th>\n",
       "      <td>1</td>\n",
       "      <td>😂😂</td>\n",
       "      <td>😂😂😂</td>\n",
       "    </tr>\n",
       "    <tr>\n",
       "      <th>6</th>\n",
       "      <td>1</td>\n",
       "      <td>😂😂😂</td>\n",
       "      <td>Oh sii</td>\n",
       "    </tr>\n",
       "    <tr>\n",
       "      <th>7</th>\n",
       "      <td>1</td>\n",
       "      <td>Oh sii. Seremos niños por siempre</td>\n",
       "      <td>Quienes ? 👀😂</td>\n",
       "    </tr>\n",
       "    <tr>\n",
       "      <th>8</th>\n",
       "      <td>1</td>\n",
       "      <td>Quienes ? 👀😂</td>\n",
       "      <td>Yo</td>\n",
       "    </tr>\n",
       "    <tr>\n",
       "      <th>9</th>\n",
       "      <td>1</td>\n",
       "      <td>Yo. 😏</td>\n",
       "      <td>😏</td>\n",
       "    </tr>\n",
       "  </tbody>\n",
       "</table>\n",
       "</div>"
      ],
      "text/plain": [
       "   idchat                                            context  \\\n",
       "0       0                                                NaN   \n",
       "1       0  https://m.facebook.com/story.php?story_fbid=14...   \n",
       "2       1  😂😂😂😂😂😂😂😂😂😂. Que es este lugar 👀. Qur hace este...   \n",
       "3       1  Bienvenido. Vengo a pasarle fotos obscenas e i...   \n",
       "4       1                       👀. El mundo de nunca jamas?)   \n",
       "5       1                                                 😂😂   \n",
       "6       1                                                😂😂😂   \n",
       "7       1                  Oh sii. Seremos niños por siempre   \n",
       "8       1                                       Quienes ? 👀😂   \n",
       "9       1                                              Yo. 😏   \n",
       "\n",
       "                                               label  \n",
       "0  https://m.facebook.com/story.php?story_fbid=14...  \n",
       "1                                             nonDef  \n",
       "2                                         Bienvenido  \n",
       "3                                                  👀  \n",
       "4                                                 😂😂  \n",
       "5                                                😂😂😂  \n",
       "6                                             Oh sii  \n",
       "7                                       Quienes ? 👀😂  \n",
       "8                                                 Yo  \n",
       "9                                                  😏  "
      ]
     },
     "execution_count": 6,
     "metadata": {},
     "output_type": "execute_result"
    }
   ],
   "source": [
    "df.head(10)"
   ]
  },
  {
   "cell_type": "markdown",
   "metadata": {},
   "source": [
    "## Vectorizando"
   ]
  },
  {
   "cell_type": "markdown",
   "metadata": {},
   "source": [
    "#### BOG: n-gramas"
   ]
  },
  {
   "cell_type": "code",
   "execution_count": 25,
   "metadata": {},
   "outputs": [],
   "source": [
    "from string import punctuation"
   ]
  },
  {
   "cell_type": "code",
   "execution_count": 26,
   "metadata": {},
   "outputs": [],
   "source": [
    "vectorizer = CountVectorizer(min_df=10, stop_words=punctuation)"
   ]
  },
  {
   "cell_type": "code",
   "execution_count": 29,
   "metadata": {},
   "outputs": [
    {
     "data": {
      "text/plain": [
       "CountVectorizer(analyzer='word', binary=False, decode_error='strict',\n",
       "        dtype=<class 'numpy.int64'>, encoding='utf-8', input='content',\n",
       "        lowercase=True, max_df=1.0, max_features=None, min_df=10,\n",
       "        ngram_range=(1, 1), preprocessor=None,\n",
       "        stop_words='!\"#$%&\\'()*+,-./:;<=>?@[\\\\]^_`{|}~',\n",
       "        strip_accents=None, token_pattern='(?u)\\\\b\\\\w\\\\w+\\\\b',\n",
       "        tokenizer=None, vocabulary=None)"
      ]
     },
     "execution_count": 29,
     "metadata": {},
     "output_type": "execute_result"
    }
   ],
   "source": [
    "vectorizer"
   ]
  },
  {
   "cell_type": "code",
   "execution_count": null,
   "metadata": {},
   "outputs": [],
   "source": []
  }
 ],
 "metadata": {
  "kernelspec": {
   "display_name": "Python 3",
   "language": "python",
   "name": "python3"
  },
  "language_info": {
   "codemirror_mode": {
    "name": "ipython",
    "version": 3
   },
   "file_extension": ".py",
   "mimetype": "text/x-python",
   "name": "python",
   "nbconvert_exporter": "python",
   "pygments_lexer": "ipython3",
   "version": "3.5.2"
  }
 },
 "nbformat": 4,
 "nbformat_minor": 2
}
