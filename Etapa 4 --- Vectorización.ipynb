{
 "cells": [
  {
   "cell_type": "code",
   "execution_count": 1,
   "metadata": {},
   "outputs": [],
   "source": [
    "from sklearn.feature_extraction.text import CountVectorizer, TfidfVectorizer"
   ]
  },
  {
   "cell_type": "markdown",
   "metadata": {},
   "source": [
    "# Formas de caracterizar en contexto"
   ]
  },
  {
   "cell_type": "markdown",
   "metadata": {},
   "source": [
    "Haremos los siguientes experimentos para ver la mejor forma de caracterizar el contexto:\n",
    "    - bolsa de palabras (unigramas, bigramas, subwords, con y sin stopwords)\n",
    "    - Agregado por mi: tfidf con normalización para poner algunos pesos en las palabras\n",
    "    - si hay interacción del usuario objetivo y cómo se representa\n",
    "    - si hay respuestas\n",
    "    - si hay multimedia y de qué tipo\n",
    "__COMPLETAR__"
   ]
  },
  {
   "cell_type": "markdown",
   "metadata": {},
   "source": [
    "Usaremos diferentes word embeddings, obtenidos de diferentes tipos de corpus: genéricos o específicos de lenguaje generado por usuario o específicos del corpus del que estamos aprendiendo.\n",
    "    - Es decir, tres diferentes tipos de word embeddings:\n",
    "      - SBWCE\n",
    "      - con el mismo corpus de chats\n",
    "      - con un corpus de twitter"
   ]
  },
  {
   "cell_type": "markdown",
   "metadata": {},
   "source": [
    "## Cargando los datos de entrenamiento"
   ]
  },
  {
   "cell_type": "code",
   "execution_count": 7,
   "metadata": {},
   "outputs": [],
   "source": [
    "import pandas as pd"
   ]
  },
  {
   "cell_type": "code",
   "execution_count": 8,
   "metadata": {},
   "outputs": [],
   "source": [
    "df = pd.read_csv('short_ans3.csv')"
   ]
  },
  {
   "cell_type": "markdown",
   "metadata": {},
   "source": [
    "Acordandonos de los datos.."
   ]
  },
  {
   "cell_type": "code",
   "execution_count": 4,
   "metadata": {},
   "outputs": [
    {
     "data": {
      "text/plain": [
       "1"
      ]
     },
     "execution_count": 4,
     "metadata": {},
     "output_type": "execute_result"
    }
   ],
   "source": [
    "sum(df.context.isnull())"
   ]
  },
  {
   "cell_type": "code",
   "execution_count": 5,
   "metadata": {},
   "outputs": [
    {
     "data": {
      "text/html": [
       "<div>\n",
       "<style>\n",
       "    .dataframe thead tr:only-child th {\n",
       "        text-align: right;\n",
       "    }\n",
       "\n",
       "    .dataframe thead th {\n",
       "        text-align: left;\n",
       "    }\n",
       "\n",
       "    .dataframe tbody tr th {\n",
       "        vertical-align: top;\n",
       "    }\n",
       "</style>\n",
       "<table border=\"1\" class=\"dataframe\">\n",
       "  <thead>\n",
       "    <tr style=\"text-align: right;\">\n",
       "      <th></th>\n",
       "      <th>idchat</th>\n",
       "      <th>context</th>\n",
       "      <th>label</th>\n",
       "    </tr>\n",
       "  </thead>\n",
       "  <tbody>\n",
       "    <tr>\n",
       "      <th>0</th>\n",
       "      <td>0</td>\n",
       "      <td>NaN</td>\n",
       "      <td>https://m.facebook.com/story.php?story_fbid=14...</td>\n",
       "    </tr>\n",
       "    <tr>\n",
       "      <th>1</th>\n",
       "      <td>0</td>\n",
       "      <td>https://m.facebook.com/story.php?story_fbid=14...</td>\n",
       "      <td>nonDef</td>\n",
       "    </tr>\n",
       "    <tr>\n",
       "      <th>2</th>\n",
       "      <td>1</td>\n",
       "      <td>😂😂😂😂😂😂😂😂😂😂. Que es este lugar 👀. Qur hace este...</td>\n",
       "      <td>Bienvenido</td>\n",
       "    </tr>\n",
       "    <tr>\n",
       "      <th>3</th>\n",
       "      <td>1</td>\n",
       "      <td>Bienvenido. Vengo a pasarle fotos obscenas e i...</td>\n",
       "      <td>👀</td>\n",
       "    </tr>\n",
       "    <tr>\n",
       "      <th>4</th>\n",
       "      <td>1</td>\n",
       "      <td>👀. El mundo de nunca jamas?)</td>\n",
       "      <td>😂😂</td>\n",
       "    </tr>\n",
       "    <tr>\n",
       "      <th>5</th>\n",
       "      <td>1</td>\n",
       "      <td>😂😂</td>\n",
       "      <td>😂😂😂</td>\n",
       "    </tr>\n",
       "    <tr>\n",
       "      <th>6</th>\n",
       "      <td>1</td>\n",
       "      <td>😂😂😂</td>\n",
       "      <td>Oh sii</td>\n",
       "    </tr>\n",
       "    <tr>\n",
       "      <th>7</th>\n",
       "      <td>1</td>\n",
       "      <td>Oh sii. Seremos niños por siempre</td>\n",
       "      <td>Quienes ? 👀😂</td>\n",
       "    </tr>\n",
       "    <tr>\n",
       "      <th>8</th>\n",
       "      <td>1</td>\n",
       "      <td>Quienes ? 👀😂</td>\n",
       "      <td>Yo</td>\n",
       "    </tr>\n",
       "    <tr>\n",
       "      <th>9</th>\n",
       "      <td>1</td>\n",
       "      <td>Yo. 😏</td>\n",
       "      <td>😏</td>\n",
       "    </tr>\n",
       "    <tr>\n",
       "      <th>10</th>\n",
       "      <td>1</td>\n",
       "      <td>😏</td>\n",
       "      <td>😏</td>\n",
       "    </tr>\n",
       "    <tr>\n",
       "      <th>11</th>\n",
       "      <td>1</td>\n",
       "      <td>😏</td>\n",
       "      <td>😏</td>\n",
       "    </tr>\n",
       "    <tr>\n",
       "      <th>12</th>\n",
       "      <td>1</td>\n",
       "      <td>😏. Jajaja Eso si que es bastante creativo. ¡Mu...</td>\n",
       "      <td>😎</td>\n",
       "    </tr>\n",
       "    <tr>\n",
       "      <th>13</th>\n",
       "      <td>1</td>\n",
       "      <td>😎</td>\n",
       "      <td>🌚</td>\n",
       "    </tr>\n",
       "    <tr>\n",
       "      <th>14</th>\n",
       "      <td>1</td>\n",
       "      <td>🌚. 🌚</td>\n",
       "      <td>😏</td>\n",
       "    </tr>\n",
       "    <tr>\n",
       "      <th>15</th>\n",
       "      <td>1</td>\n",
       "      <td>😏</td>\n",
       "      <td>Holaaa</td>\n",
       "    </tr>\n",
       "    <tr>\n",
       "      <th>16</th>\n",
       "      <td>1</td>\n",
       "      <td>Holaaa</td>\n",
       "      <td>Holaaaaa</td>\n",
       "    </tr>\n",
       "    <tr>\n",
       "      <th>17</th>\n",
       "      <td>1</td>\n",
       "      <td>Holaaaaa. 🇻🇪. Que yo me desaparezca, no hay li...</td>\n",
       "      <td>😱😱</td>\n",
       "    </tr>\n",
       "    <tr>\n",
       "      <th>18</th>\n",
       "      <td>1</td>\n",
       "      <td>😱😱. Quien?. Jajaj. mira qué adulador es nuestr...</td>\n",
       "      <td>😏</td>\n",
       "    </tr>\n",
       "    <tr>\n",
       "      <th>19</th>\n",
       "      <td>1</td>\n",
       "      <td>😏. 😄 siempre. Bueno no</td>\n",
       "      <td>Esperando este mensaje</td>\n",
       "    </tr>\n",
       "    <tr>\n",
       "      <th>20</th>\n",
       "      <td>1</td>\n",
       "      <td>Esperando este mensaje</td>\n",
       "      <td>😪</td>\n",
       "    </tr>\n",
       "    <tr>\n",
       "      <th>21</th>\n",
       "      <td>1</td>\n",
       "      <td>😪. 🤔. Siempre estuve acá vigilandolos👀?)</td>\n",
       "      <td>con quién no?</td>\n",
       "    </tr>\n",
       "    <tr>\n",
       "      <th>22</th>\n",
       "      <td>1</td>\n",
       "      <td>con quién no?</td>\n",
       "      <td>😄</td>\n",
       "    </tr>\n",
       "    <tr>\n",
       "      <th>23</th>\n",
       "      <td>1</td>\n",
       "      <td>😄. 🙈</td>\n",
       "      <td>más te vale</td>\n",
       "    </tr>\n",
       "    <tr>\n",
       "      <th>24</th>\n",
       "      <td>1</td>\n",
       "      <td>más te vale</td>\n",
       "      <td>Contigo</td>\n",
       "    </tr>\n",
       "    <tr>\n",
       "      <th>25</th>\n",
       "      <td>1</td>\n",
       "      <td>Contigo. 😂😂😂. 😏😏😏*</td>\n",
       "      <td>eso lo sé</td>\n",
       "    </tr>\n",
       "    <tr>\n",
       "      <th>26</th>\n",
       "      <td>1</td>\n",
       "      <td>eso lo sé. jajajajaja. sólo tiene ojos para ti</td>\n",
       "      <td>👀👀👀</td>\n",
       "    </tr>\n",
       "    <tr>\n",
       "      <th>27</th>\n",
       "      <td>1</td>\n",
       "      <td>👀👀👀</td>\n",
       "      <td>chicos</td>\n",
       "    </tr>\n",
       "    <tr>\n",
       "      <th>28</th>\n",
       "      <td>1</td>\n",
       "      <td>chicos. una pregunta. cómo se escribe la direc...</td>\n",
       "      <td>ummmm okok</td>\n",
       "    </tr>\n",
       "    <tr>\n",
       "      <th>29</th>\n",
       "      <td>1</td>\n",
       "      <td>ummmm okok. pero cómo?. 2da av las flores de p...</td>\n",
       "      <td>ummm</td>\n",
       "    </tr>\n",
       "    <tr>\n",
       "      <th>...</th>\n",
       "      <td>...</td>\n",
       "      <td>...</td>\n",
       "      <td>...</td>\n",
       "    </tr>\n",
       "    <tr>\n",
       "      <th>56945</th>\n",
       "      <td>181</td>\n",
       "      <td>Jonyyy. Siii. Yo vooyh</td>\n",
       "      <td>De unaa</td>\n",
       "    </tr>\n",
       "    <tr>\n",
       "      <th>56946</th>\n",
       "      <td>181</td>\n",
       "      <td>De unaa. Quienes van a ir?</td>\n",
       "      <td>Nosee</td>\n",
       "    </tr>\n",
       "    <tr>\n",
       "      <th>56947</th>\n",
       "      <td>181</td>\n",
       "      <td>Nosee. Pensaba q iba a ir solo. Jajaja</td>\n",
       "      <td>Vamooo de unaa</td>\n",
       "    </tr>\n",
       "    <tr>\n",
       "      <th>56948</th>\n",
       "      <td>181</td>\n",
       "      <td>Vamooo de unaa. Cuanto salem. ?. Que cosa cuan...</td>\n",
       "      <td>Lo de mañana</td>\n",
       "    </tr>\n",
       "    <tr>\n",
       "      <th>56949</th>\n",
       "      <td>181</td>\n",
       "      <td>Lo de mañana. Supongo que no más de 100. No sa...</td>\n",
       "      <td>Jajajajajajaja noo</td>\n",
       "    </tr>\n",
       "    <tr>\n",
       "      <th>56950</th>\n",
       "      <td>181</td>\n",
       "      <td>Jajajajajajaja noo. Es birra, pizzas y narguil...</td>\n",
       "      <td>Y este jueves</td>\n",
       "    </tr>\n",
       "    <tr>\n",
       "      <th>56951</th>\n",
       "      <td>181</td>\n",
       "      <td>Y este jueves. No me llegó nada. Como sabees</td>\n",
       "      <td>&lt;Archivo omitido&gt;</td>\n",
       "    </tr>\n",
       "    <tr>\n",
       "      <th>56952</th>\n",
       "      <td>181</td>\n",
       "      <td>&lt;Archivo omitido&gt;. Soy RRPP de hillel ahora. A...</td>\n",
       "      <td>Aaag noo</td>\n",
       "    </tr>\n",
       "    <tr>\n",
       "      <th>56953</th>\n",
       "      <td>181</td>\n",
       "      <td>Aaag noo. En el centro encima. Pensé q era lo ...</td>\n",
       "      <td>Sos un culiado</td>\n",
       "    </tr>\n",
       "    <tr>\n",
       "      <th>56954</th>\n",
       "      <td>181</td>\n",
       "      <td>Sos un culiado. 😂😂😂😂</td>\n",
       "      <td>Jjajajajajajau</td>\n",
       "    </tr>\n",
       "    <tr>\n",
       "      <th>56955</th>\n",
       "      <td>181</td>\n",
       "      <td>Jjajajajajajau. No sabia q ya tenías pasaje</td>\n",
       "      <td>Sisis</td>\n",
       "    </tr>\n",
       "    <tr>\n",
       "      <th>56956</th>\n",
       "      <td>181</td>\n",
       "      <td>Sisis. Ya tengo :p</td>\n",
       "      <td>Sarpaooo</td>\n",
       "    </tr>\n",
       "    <tr>\n",
       "      <th>56957</th>\n",
       "      <td>181</td>\n",
       "      <td>Sarpaooo. En realidad en estos días los saque....</td>\n",
       "      <td>ah sarpado</td>\n",
       "    </tr>\n",
       "    <tr>\n",
       "      <th>56958</th>\n",
       "      <td>181</td>\n",
       "      <td>ah sarpado</td>\n",
       "      <td>Vos que ondaa?</td>\n",
       "    </tr>\n",
       "    <tr>\n",
       "      <th>56959</th>\n",
       "      <td>181</td>\n",
       "      <td>Vos que ondaa?. Che... nos tenemos que juntar ...</td>\n",
       "      <td>See</td>\n",
       "    </tr>\n",
       "    <tr>\n",
       "      <th>56960</th>\n",
       "      <td>181</td>\n",
       "      <td>See. Que sale más barato</td>\n",
       "      <td>Ansiosooo yoo</td>\n",
       "    </tr>\n",
       "    <tr>\n",
       "      <th>56961</th>\n",
       "      <td>181</td>\n",
       "      <td>Ansiosooo yoo. Jajajajaja. Que bieeenn</td>\n",
       "      <td>Jajajajajajajajajajaja yo tmb</td>\n",
       "    </tr>\n",
       "    <tr>\n",
       "      <th>56962</th>\n",
       "      <td>181</td>\n",
       "      <td>Jajajajajajajajajajaja yo tmb. Y hasta cuando?...</td>\n",
       "      <td>See</td>\n",
       "    </tr>\n",
       "    <tr>\n",
       "      <th>56963</th>\n",
       "      <td>181</td>\n",
       "      <td>See. Te va a salir lo mismo que sacar de ida y...</td>\n",
       "      <td>Ahh mortal</td>\n",
       "    </tr>\n",
       "    <tr>\n",
       "      <th>56964</th>\n",
       "      <td>181</td>\n",
       "      <td>Ahh mortal. Claro sisi. Y no se pueden sacar p...</td>\n",
       "      <td>Uh, 5 meses</td>\n",
       "    </tr>\n",
       "    <tr>\n",
       "      <th>56965</th>\n",
       "      <td>181</td>\n",
       "      <td>Uh, 5 meses. Sarpado. Tengo solo el pasaje de ...</td>\n",
       "      <td>Jajajajqjqjajaja</td>\n",
       "    </tr>\n",
       "    <tr>\n",
       "      <th>56966</th>\n",
       "      <td>181</td>\n",
       "      <td>Jajajajqjqjajaja. Tendrías q averiguar</td>\n",
       "      <td>Si 😨😨😨😨</td>\n",
       "    </tr>\n",
       "    <tr>\n",
       "      <th>56967</th>\n",
       "      <td>181</td>\n",
       "      <td>Si 😨😨😨😨. A lo sumo si te exigen te sacas el pa...</td>\n",
       "      <td>Uh bajon</td>\n",
       "    </tr>\n",
       "    <tr>\n",
       "      <th>56968</th>\n",
       "      <td>181</td>\n",
       "      <td>Uh bajon. Bue. Tenes tiempo aun</td>\n",
       "      <td>Sisi obviamente</td>\n",
       "    </tr>\n",
       "    <tr>\n",
       "      <th>56969</th>\n",
       "      <td>181</td>\n",
       "      <td>Sisi obviamente. Tengo tiempo. No voy a poder ...</td>\n",
       "      <td>Jajajajajajajaja</td>\n",
       "    </tr>\n",
       "    <tr>\n",
       "      <th>56970</th>\n",
       "      <td>181</td>\n",
       "      <td>Jajajajajajajaja. Yo nose culiado. No me qu da...</td>\n",
       "      <td>No tengo nada</td>\n",
       "    </tr>\n",
       "    <tr>\n",
       "      <th>56971</th>\n",
       "      <td>181</td>\n",
       "      <td>No tengo nada. Jajajajajaja. No preparé nada</td>\n",
       "      <td>Jajajajajaja que culia</td>\n",
       "    </tr>\n",
       "    <tr>\n",
       "      <th>56972</th>\n",
       "      <td>181</td>\n",
       "      <td>Jajajajajaja que culia. Y seguro de salud ni n...</td>\n",
       "      <td>Jajajajjaa</td>\n",
       "    </tr>\n",
       "    <tr>\n",
       "      <th>56973</th>\n",
       "      <td>181</td>\n",
       "      <td>Jajajajjaa. Hospedaje?. Tengo para las primera...</td>\n",
       "      <td>Jajajaja</td>\n",
       "    </tr>\n",
       "    <tr>\n",
       "      <th>56974</th>\n",
       "      <td>181</td>\n",
       "      <td>Jajajaja. Estaba pensando hacer lo mismo</td>\n",
       "      <td>Jajajaja</td>\n",
       "    </tr>\n",
       "  </tbody>\n",
       "</table>\n",
       "<p>56975 rows × 3 columns</p>\n",
       "</div>"
      ],
      "text/plain": [
       "       idchat                                            context  \\\n",
       "0           0                                                NaN   \n",
       "1           0  https://m.facebook.com/story.php?story_fbid=14...   \n",
       "2           1  😂😂😂😂😂😂😂😂😂😂. Que es este lugar 👀. Qur hace este...   \n",
       "3           1  Bienvenido. Vengo a pasarle fotos obscenas e i...   \n",
       "4           1                       👀. El mundo de nunca jamas?)   \n",
       "5           1                                                 😂😂   \n",
       "6           1                                                😂😂😂   \n",
       "7           1                  Oh sii. Seremos niños por siempre   \n",
       "8           1                                       Quienes ? 👀😂   \n",
       "9           1                                              Yo. 😏   \n",
       "10          1                                                  😏   \n",
       "11          1                                                  😏   \n",
       "12          1  😏. Jajaja Eso si que es bastante creativo. ¡Mu...   \n",
       "13          1                                                  😎   \n",
       "14          1                                               🌚. 🌚   \n",
       "15          1                                                  😏   \n",
       "16          1                                             Holaaa   \n",
       "17          1  Holaaaaa. 🇻🇪. Que yo me desaparezca, no hay li...   \n",
       "18          1  😱😱. Quien?. Jajaj. mira qué adulador es nuestr...   \n",
       "19          1                             😏. 😄 siempre. Bueno no   \n",
       "20          1                             Esperando este mensaje   \n",
       "21          1           😪. 🤔. Siempre estuve acá vigilandolos👀?)   \n",
       "22          1                                      con quién no?   \n",
       "23          1                                               😄. 🙈   \n",
       "24          1                                        más te vale   \n",
       "25          1                                 Contigo. 😂😂😂. 😏😏😏*   \n",
       "26          1     eso lo sé. jajajajaja. sólo tiene ojos para ti   \n",
       "27          1                                                👀👀👀   \n",
       "28          1  chicos. una pregunta. cómo se escribe la direc...   \n",
       "29          1  ummmm okok. pero cómo?. 2da av las flores de p...   \n",
       "...       ...                                                ...   \n",
       "56945     181                             Jonyyy. Siii. Yo vooyh   \n",
       "56946     181                         De unaa. Quienes van a ir?   \n",
       "56947     181             Nosee. Pensaba q iba a ir solo. Jajaja   \n",
       "56948     181  Vamooo de unaa. Cuanto salem. ?. Que cosa cuan...   \n",
       "56949     181  Lo de mañana. Supongo que no más de 100. No sa...   \n",
       "56950     181  Jajajajajajaja noo. Es birra, pizzas y narguil...   \n",
       "56951     181       Y este jueves. No me llegó nada. Como sabees   \n",
       "56952     181  <Archivo omitido>. Soy RRPP de hillel ahora. A...   \n",
       "56953     181  Aaag noo. En el centro encima. Pensé q era lo ...   \n",
       "56954     181                               Sos un culiado. 😂😂😂😂   \n",
       "56955     181        Jjajajajajajau. No sabia q ya tenías pasaje   \n",
       "56956     181                                 Sisis. Ya tengo :p   \n",
       "56957     181  Sarpaooo. En realidad en estos días los saque....   \n",
       "56958     181                                         ah sarpado   \n",
       "56959     181  Vos que ondaa?. Che... nos tenemos que juntar ...   \n",
       "56960     181                           See. Que sale más barato   \n",
       "56961     181             Ansiosooo yoo. Jajajajaja. Que bieeenn   \n",
       "56962     181  Jajajajajajajajajajaja yo tmb. Y hasta cuando?...   \n",
       "56963     181  See. Te va a salir lo mismo que sacar de ida y...   \n",
       "56964     181  Ahh mortal. Claro sisi. Y no se pueden sacar p...   \n",
       "56965     181  Uh, 5 meses. Sarpado. Tengo solo el pasaje de ...   \n",
       "56966     181             Jajajajqjqjajaja. Tendrías q averiguar   \n",
       "56967     181  Si 😨😨😨😨. A lo sumo si te exigen te sacas el pa...   \n",
       "56968     181                    Uh bajon. Bue. Tenes tiempo aun   \n",
       "56969     181  Sisi obviamente. Tengo tiempo. No voy a poder ...   \n",
       "56970     181  Jajajajajajajaja. Yo nose culiado. No me qu da...   \n",
       "56971     181       No tengo nada. Jajajajajaja. No preparé nada   \n",
       "56972     181  Jajajajajaja que culia. Y seguro de salud ni n...   \n",
       "56973     181  Jajajajjaa. Hospedaje?. Tengo para las primera...   \n",
       "56974     181           Jajajaja. Estaba pensando hacer lo mismo   \n",
       "\n",
       "                                                   label  \n",
       "0      https://m.facebook.com/story.php?story_fbid=14...  \n",
       "1                                                 nonDef  \n",
       "2                                             Bienvenido  \n",
       "3                                                      👀  \n",
       "4                                                     😂😂  \n",
       "5                                                    😂😂😂  \n",
       "6                                                 Oh sii  \n",
       "7                                           Quienes ? 👀😂  \n",
       "8                                                     Yo  \n",
       "9                                                      😏  \n",
       "10                                                     😏  \n",
       "11                                                     😏  \n",
       "12                                                     😎  \n",
       "13                                                     🌚  \n",
       "14                                                     😏  \n",
       "15                                                Holaaa  \n",
       "16                                              Holaaaaa  \n",
       "17                                                    😱😱  \n",
       "18                                                     😏  \n",
       "19                                Esperando este mensaje  \n",
       "20                                                     😪  \n",
       "21                                         con quién no?  \n",
       "22                                                     😄  \n",
       "23                                           más te vale  \n",
       "24                                               Contigo  \n",
       "25                                             eso lo sé  \n",
       "26                                                   👀👀👀  \n",
       "27                                                chicos  \n",
       "28                                            ummmm okok  \n",
       "29                                                  ummm  \n",
       "...                                                  ...  \n",
       "56945                                            De unaa  \n",
       "56946                                              Nosee  \n",
       "56947                                     Vamooo de unaa  \n",
       "56948                                       Lo de mañana  \n",
       "56949                                 Jajajajajajaja noo  \n",
       "56950                                      Y este jueves  \n",
       "56951                                  <Archivo omitido>  \n",
       "56952                                           Aaag noo  \n",
       "56953                                     Sos un culiado  \n",
       "56954                                     Jjajajajajajau  \n",
       "56955                                              Sisis  \n",
       "56956                                           Sarpaooo  \n",
       "56957                                         ah sarpado  \n",
       "56958                                     Vos que ondaa?  \n",
       "56959                                                See  \n",
       "56960                                      Ansiosooo yoo  \n",
       "56961                      Jajajajajajajajajajaja yo tmb  \n",
       "56962                                                See  \n",
       "56963                                         Ahh mortal  \n",
       "56964                                        Uh, 5 meses  \n",
       "56965                                   Jajajajqjqjajaja  \n",
       "56966                                            Si 😨😨😨😨  \n",
       "56967                                           Uh bajon  \n",
       "56968                                    Sisi obviamente  \n",
       "56969                                   Jajajajajajajaja  \n",
       "56970                                      No tengo nada  \n",
       "56971                             Jajajajajaja que culia  \n",
       "56972                                         Jajajajjaa  \n",
       "56973                                           Jajajaja  \n",
       "56974                                           Jajajaja  \n",
       "\n",
       "[56975 rows x 3 columns]"
      ]
     },
     "execution_count": 5,
     "metadata": {},
     "output_type": "execute_result"
    }
   ],
   "source": [
    "df"
   ]
  },
  {
   "cell_type": "markdown",
   "metadata": {},
   "source": [
    "# Pre procesamiento"
   ]
  },
  {
   "cell_type": "markdown",
   "metadata": {},
   "source": [
    "Como habíamos dicho es mejor pre procesar las palabras"
   ]
  },
  {
   "cell_type": "code",
   "execution_count": 4,
   "metadata": {},
   "outputs": [],
   "source": [
    "from string import punctuation\n",
    "import re\n",
    "import unicodedata"
   ]
  },
  {
   "cell_type": "code",
   "execution_count": 5,
   "metadata": {},
   "outputs": [],
   "source": [
    "STOP_WORDS = list(punctuation)\n",
    "\n",
    "def remove_repeted(text):\n",
    "    return re.sub(r'(\\w)\\1*', r'\\1', text)\n",
    "\n",
    "def remove_sw(text):\n",
    "    return re.sub('{1}{0}{1}'.format(punctuation + '¡', '[]'), '', text)\n",
    "\n",
    "def dig2num(word):\n",
    "    return re.sub('(\\d+[\\WxX]*[^ ]*)+', 'NUM', word)\n",
    "\n",
    "def remove_tildes(cadena):\n",
    "    s = ''.join((c for c in unicodedata.normalize('NFD',cadena) if unicodedata.category(c) != 'Mn'))\n",
    "    return s\n",
    "\n",
    "def remove_ok(text):\n",
    "    return re.sub('(ok)+[a-zA-Z]*', 'ok', text)\n",
    "\n",
    "def remove_ja(text):\n",
    "    return re.sub('(ja[ajs]*)+', 'ja', text)\n",
    "\n",
    "def clean_text(text):\n",
    "    return dig2num(remove_tildes(remove_ok(remove_ja(text.lower()))))\n",
    "\n",
    "def clean_text_1(text):\n",
    "    return remove_repeted(clean_text(remove_sw(text)))"
   ]
  },
  {
   "cell_type": "code",
   "execution_count": 9,
   "metadata": {},
   "outputs": [
    {
     "data": {
      "text/plain": [
       "1         htpsmfacebokNUM hola te confundiste de numero\n",
       "2     😂😂😂😂😂😂😂😂😂😂 que es este lugar 👀 qur hace este a...\n",
       "3     bienvenido vengo a pasarle fotos obscenas e ir...\n",
       "4                             👀 el mundo de nunca jamas\n",
       "5                                                    😂😂\n",
       "6                                                   😂😂😂\n",
       "7                       oh si seremos ninos por siempre\n",
       "8                                           quienes  👀😂\n",
       "9                                                  yo 😏\n",
       "10                                                    😏\n",
       "11                                                    😏\n",
       "12     😏 ja eso si que es bastante creativo muy bueno 😄\n",
       "13                                                    😎\n",
       "14                                                  🌚 🌚\n",
       "15                                                    😏\n",
       "16                                                 hola\n",
       "17    hola 🇻🇪 que yo me desaparezca no hay lio pero ...\n",
       "18    😱😱 quien ja mira que adulador es nuestro migue...\n",
       "19                                 😏 😄 siempre bueno no\n",
       "20                               esperando este mensaje\n",
       "21                 😪 🤔 siempre estuve aca vigilandolos👀\n",
       "22                                         con quien no\n",
       "23                                                  😄 🙈\n",
       "24                                          mas te vale\n",
       "25                                      contigo 😂😂😂 😏😏😏\n",
       "26                 eso lo se ja solo tiene ojos para ti\n",
       "27                                                  👀👀👀\n",
       "28    chicos una pregunta como se escribe la direcio...\n",
       "29    um ok pero como NUM av las flores de pte hiero...\n",
       "30    um no recuerdo si hay algo mas perp creo q es ...\n",
       "Name: context, dtype: object"
      ]
     },
     "execution_count": 9,
     "metadata": {},
     "output_type": "execute_result"
    }
   ],
   "source": [
    "df[1:].context.map(clean_text_1).head(30)"
   ]
  },
  {
   "cell_type": "markdown",
   "metadata": {},
   "source": [
    "## Vectorizando"
   ]
  },
  {
   "cell_type": "markdown",
   "metadata": {},
   "source": [
    "#### BOG: 1-gramas"
   ]
  },
  {
   "cell_type": "code",
   "execution_count": 62,
   "metadata": {},
   "outputs": [],
   "source": [
    "vectorizer = CountVectorizer(min_df=10, preprocessor=clean_text_1, ngram_range=(1, 1))"
   ]
  },
  {
   "cell_type": "code",
   "execution_count": 63,
   "metadata": {},
   "outputs": [],
   "source": [
    "representation = vectorizer.fit(df[1:].context)"
   ]
  },
  {
   "cell_type": "markdown",
   "metadata": {},
   "source": [
    "Entonces obtenemos alrededor de tantas features:"
   ]
  },
  {
   "cell_type": "code",
   "execution_count": 172,
   "metadata": {},
   "outputs": [
    {
     "name": "stdout",
     "output_type": "stream",
     "text": [
      "['NUM', 'aNUM', 'abajo', 'abi', 'abierta', 'abiertas', 'abierto', 'abra', 'abran', 'abrazo', 'abrazos', 'abre', 'abren', 'abri', 'abril', 'abrir', 'abro', 'abuela', 'abuelo', 'aburido', 'abuso', 'ac', 'aca', 'acaba', 'acaban', 'acabar', 'acabaron', 'acabas', 'acabe', 'acabo', 'academia', 'acaso', 'aceder', 'acepta', 'acepte', 'acerca', 'aceso', 'acion', 'aclarar', 'aclaro', 'acompana', 'acompanar', 'acompano', 'acordaba', 'acordar', 'acordas', 'acordate', 'acorde', 'activa', 'activan', 'activar', 'active', 'actividad', 'actividades', 'activo', 'activos', 'acto', 'actores', 'actual', 'actualiza', 'actualizacion', 'actualizar', 'actualizo', 'acuerda', 'acuerdan', 'acuerdo', 'acv', 'ad', 'adelantar', 'adelante', 'adelanto', 'ademas', 'adentro', 'adios', 'adjuntado', 'admin', 'administrador', 'adri', 'adrian', 'aeropuerto', 'afecta', 'afiche', 'afuera', 'again', 'agara', 'agarar', 'agare', 'agaro', 'age', 'agenda', 'agendado', 'agendo', 'ago', 'agosto', 'agotada', 'agradece', 'agradeceria', 'agradezco', 'agrega', 'agregalo']\n"
     ]
    },
    {
     "data": {
      "text/plain": [
       "5204"
      ]
     },
     "execution_count": 172,
     "metadata": {},
     "output_type": "execute_result"
    }
   ],
   "source": [
    "print(representation.get_feature_names()[:100])\n",
    "len(representation.get_feature_names())"
   ]
  },
  {
   "cell_type": "code",
   "execution_count": 176,
   "metadata": {},
   "outputs": [],
   "source": [
    "BOG = representation.transform(df[1:].context)"
   ]
  },
  {
   "cell_type": "code",
   "execution_count": 179,
   "metadata": {},
   "outputs": [
    {
     "name": "stdout",
     "output_type": "stream",
     "text": [
      "  (0, 1213)\t1\n",
      "  (0, 2323)\t1\n",
      "  (0, 2354)\t1\n",
      "  (0, 3318)\t1\n",
      "  (0, 4638)\t1\n",
      "  (1, 275)\t1\n",
      "  (1, 1686)\t1\n",
      "  (1, 1772)\t2\n",
      "  (1, 2222)\t1\n",
      "  (1, 2840)\t1\n",
      "  (1, 4021)\t1\n",
      "  (1, 4075)\t1\n",
      "  (2, 487)\t1\n",
      "  (2, 2005)\t1\n",
      "  (2, 2512)\t1\n",
      "  (2, 3542)\t1\n",
      "  (2, 5013)\t1\n",
      "  (3, 1213)\t1\n",
      "  (3, 1540)\t1\n",
      "  (3, 2535)\t1\n",
      "  (3, 3185)\t1\n",
      "  (3, 3320)\t1\n",
      "  (6, 3261)\t1\n",
      "  (6, 3348)\t1\n",
      "  (6, 3802)\t1\n",
      "  (6, 4447)\t1\n",
      "  (6, 4449)\t1\n",
      "  (7, 4058)\t1\n",
      "  (8, 5193)\t1\n"
     ]
    }
   ],
   "source": [
    "print(BOG[:10])"
   ]
  },
  {
   "cell_type": "markdown",
   "metadata": {},
   "source": [
    "#### BOG: 2-gramas"
   ]
  },
  {
   "cell_type": "code",
   "execution_count": 11,
   "metadata": {},
   "outputs": [
    {
     "data": {
      "text/plain": [
       "CountVectorizer(analyzer='word', binary=False, decode_error='strict',\n",
       "        dtype=<class 'numpy.int64'>, encoding='utf-8', input='content',\n",
       "        lowercase=True, max_df=1.0, max_features=None, min_df=10,\n",
       "        ngram_range=(1, 2),\n",
       "        preprocessor=<function clean_text at 0x7f0c0be776a8>,\n",
       "        stop_words=['!', '\"', '#', '$', '%', '&', \"'\", '(', ')', '*', '+', ',', '-', '.', '/', ':', ';', '<', '=', '>', '?', '@', '[', '\\\\', ']', '^', '_', '`', '{', '|', '}', '~'],\n",
       "        strip_accents=None, token_pattern='(?u)\\\\b\\\\w\\\\w+\\\\b',\n",
       "        tokenizer=None, vocabulary=None)"
      ]
     },
     "execution_count": 11,
     "metadata": {},
     "output_type": "execute_result"
    }
   ],
   "source": [
    "representation.set_params(ngram_range=(1, 2))"
   ]
  },
  {
   "cell_type": "code",
   "execution_count": 12,
   "metadata": {},
   "outputs": [
    {
     "data": {
      "text/plain": [
       "14206"
      ]
     },
     "execution_count": 12,
     "metadata": {},
     "output_type": "execute_result"
    }
   ],
   "source": [
    "len(representation.fit(df[1:].context).get_feature_names())"
   ]
  },
  {
   "cell_type": "markdown",
   "metadata": {},
   "source": [
    "#### BOG: 3-gramas"
   ]
  },
  {
   "cell_type": "code",
   "execution_count": 76,
   "metadata": {},
   "outputs": [
    {
     "data": {
      "text/plain": [
       "CountVectorizer(analyzer='word', binary=False, decode_error='strict',\n",
       "        dtype=<class 'numpy.int64'>, encoding='utf-8', input='content',\n",
       "        lowercase=True, max_df=1.0, max_features=None, min_df=10,\n",
       "        ngram_range=(1, 3),\n",
       "        preprocessor=<function clean_text_1 at 0x7fd75c4a8510>,\n",
       "        stop_words=None, strip_accents=None,\n",
       "        token_pattern='(?u)\\\\b\\\\w\\\\w+\\\\b', tokenizer=None, vocabulary=None)"
      ]
     },
     "execution_count": 76,
     "metadata": {},
     "output_type": "execute_result"
    }
   ],
   "source": [
    "representation.set_params(ngram_range=(1, 3))"
   ]
  },
  {
   "cell_type": "code",
   "execution_count": 77,
   "metadata": {},
   "outputs": [
    {
     "data": {
      "text/plain": [
       "16723"
      ]
     },
     "execution_count": 77,
     "metadata": {},
     "output_type": "execute_result"
    }
   ],
   "source": [
    "len(representation.fit(df[1:].context).get_feature_names())"
   ]
  },
  {
   "cell_type": "code",
   "execution_count": 80,
   "metadata": {},
   "outputs": [],
   "source": [
    "BOG_matrix = representation.transform(df[1:].context)"
   ]
  },
  {
   "cell_type": "code",
   "execution_count": 83,
   "metadata": {},
   "outputs": [
    {
     "data": {
      "text/plain": [
       "(56974, 16723)"
      ]
     },
     "execution_count": 83,
     "metadata": {},
     "output_type": "execute_result"
    }
   ],
   "source": [
    "BOG_matrix.get_shape()"
   ]
  },
  {
   "cell_type": "code",
   "execution_count": 84,
   "metadata": {},
   "outputs": [
    {
     "data": {
      "text/plain": [
       "'chicos. una pregunta. cómo se escribe la dirección postal en vuestras ciudades?. es que los otros días vi una de francia y es un poco diferente a como yo escribo la mía. La de aca por donde vivo es 1010. El cod postal. así que si pongo n un sobre 1010 te llega?. Pero es por zona, no se si s igual por alla. qué raro sois los venezolanos. no?. No, obvio pones la direccion😂😂'"
      ]
     },
     "execution_count": 84,
     "metadata": {},
     "output_type": "execute_result"
    }
   ],
   "source": [
    "df.context[28]"
   ]
  },
  {
   "cell_type": "code",
   "execution_count": 88,
   "metadata": {},
   "outputs": [
    {
     "name": "stdout",
     "output_type": "stream",
     "text": [
      "{ NUM: 2, aca: 1, aca por: 1, ala: 1, asi: 1, asi que: 1, asi que si: 1, chicos: 1, chicos una: 1, ciudades: 1, cod: 1, como: 2, como se: 1, como yo: 1, de: 2, de aca: 1, dias: 1, diferente: 1, direcion: 2, donde: 1, en: 1, es: 4, es NUM: 1, es por: 1, es que: 1, es un: 1, es un poco: 1, escribe: 1, escribo: 1, igual: 1, igual por: 1, la: 4, la de: 1, la direcion: 2, la mia: 1, lega: 1, los: 2, los otros: 1, mia: 1, no: 3, no no: 1, no se: 1, no se si: 1, obvio: 1, otros: 1, pero: 1, pero es: 1, poco: 1, pones: 1, pongo: 1, por: 3, por ala: 1, por donde: 1, pregunta: 1, que: 3, que los: 1, que raro: 1, que si: 1, raro: 1, se: 2, se escribe: 1, se si: 1, si: 2, si igual: 1, sobre: 1, un: 2, un poco: 1, una: 2, una de: 1, una pregunta: 1, vi: 1, vivo: 1, yo: 1, zona: 1, }"
     ]
    }
   ],
   "source": [
    "arr_repr = BOG_matrix[27].toarray()[0]\n",
    "print('{ ', end='')\n",
    "for i in BOG_matrix[27].indices:\n",
    "    print('{0}: {1}'.format(representation.get_feature_names()[i], arr_repr[i]), end=', ')\n",
    "print('}', end='')"
   ]
  },
  {
   "cell_type": "markdown",
   "metadata": {},
   "source": [
    "#### BOG: (3,4)-Subwords"
   ]
  },
  {
   "cell_type": "code",
   "execution_count": 89,
   "metadata": {},
   "outputs": [],
   "source": [
    "vectorizer = CountVectorizer(min_df=10, stop_words=STOP_WORDS, preprocessor=clean_text_1, analyzer='char', ngram_range=(3,4))"
   ]
  },
  {
   "cell_type": "code",
   "execution_count": 90,
   "metadata": {},
   "outputs": [
    {
     "data": {
      "text/plain": [
       "CountVectorizer(analyzer='char', binary=False, decode_error='strict',\n",
       "        dtype=<class 'numpy.int64'>, encoding='utf-8', input='content',\n",
       "        lowercase=True, max_df=1.0, max_features=None, min_df=10,\n",
       "        ngram_range=(3, 4),\n",
       "        preprocessor=<function clean_text_1 at 0x7fd75c4a8510>,\n",
       "        stop_words=['!', '\"', '#', '$', '%', '&', \"'\", '(', ')', '*', '+', ',', '-', '.', '/', ':', ';', '<', '=', '>', '?', '@', '[', '\\\\', ']', '^', '_', '`', '{', '|', '}', '~'],\n",
       "        strip_accents=None, token_pattern='(?u)\\\\b\\\\w\\\\w+\\\\b',\n",
       "        tokenizer=None, vocabulary=None)"
      ]
     },
     "execution_count": 90,
     "metadata": {},
     "output_type": "execute_result"
    }
   ],
   "source": [
    "vectorizer"
   ]
  },
  {
   "cell_type": "code",
   "execution_count": 91,
   "metadata": {},
   "outputs": [],
   "source": [
    "representation = vectorizer.fit(df[1:].context)\n",
    "BOG_matrix = representation.transform(df[1:].context)"
   ]
  },
  {
   "cell_type": "code",
   "execution_count": 92,
   "metadata": {},
   "outputs": [
    {
     "data": {
      "text/plain": [
       "23187"
      ]
     },
     "execution_count": 92,
     "metadata": {},
     "output_type": "execute_result"
    }
   ],
   "source": [
    "len(representation.get_feature_names())"
   ]
  },
  {
   "cell_type": "code",
   "execution_count": 84,
   "metadata": {},
   "outputs": [
    {
     "data": {
      "text/plain": [
       "'chicos. una pregunta. cómo se escribe la dirección postal en vuestras ciudades?. es que los otros días vi una de francia y es un poco diferente a como yo escribo la mía. La de aca por donde vivo es 1010. El cod postal. así que si pongo n un sobre 1010 te llega?. Pero es por zona, no se si s igual por alla. qué raro sois los venezolanos. no?. No, obvio pones la direccion😂😂'"
      ]
     },
     "execution_count": 84,
     "metadata": {},
     "output_type": "execute_result"
    }
   ],
   "source": [
    "df.context[28]"
   ]
  },
  {
   "cell_type": "code",
   "execution_count": 93,
   "metadata": {},
   "outputs": [
    {
     "name": "stdout",
     "output_type": "stream",
     "text": [
      " NU: 2,  NUM: 2,  a : 1,  a c: 1,  ac: 1,  aca: 1,  al: 1,  ala: 1,  as: 1,  asi: 1,  ci: 1,  ciu: 1,  co: 3,  cod: 1,  com: 2,  de: 2,  de : 2,  di: 4,  dia: 1,  dif: 1,  dir: 2,  do: 1,  don: 1,  en: 1,  en : 1,  es: 6,  es : 4,  esc: 2,  fr: 1,  fra: 1,  ig: 1,  igu: 1,  la: 4,  la : 4,  le: 1,  leg: 1,  lo: 2,  los: 2,  mi: 1,  mia: 1,  n : 1,  no: 3,  no : 3,  ob: 1,  obv: 1,  ot: 1,  otr: 1,  pe: 1,  per: 1,  po: 8,  poc: 1,  pon: 2,  por: 3,  pos: 2,  pr: 1,  pre: 1,  qu: 3,  que: 3,  ra: 1,  rar: 1,  s : 1,  se: 2,  se : 2,  si: 2,  si : 2,  so: 2,  sob: 1,  un: 4,  un : 2,  una: 2,  ve: 1,  ven: 1,  vi: 2,  vi : 1,  viv: 1,  vu: 1,  vue: 1,  y : 1,  y e: 1,  yo: 1,  yo : 1,  zo: 1,  zon: 1, M c: 1, M co: 1, M l: 1, M le: 1, NUM: 2, NUM : 2, UM : 2, UM c: 1, UM l: 1, a c: 2, a co: 2, a d: 4, a de: 2, a di: 2, a l: 1, a la: 1, a m: 1, a mi: 1, a n: 1, a no: 1, a p: 3, a pe: 1, a po: 1, a pr: 1, a q: 1, a qu: 1, a y: 1, a y : 1, aca: 1, aca : 1, ade: 1, ades: 1, al : 3, al a: 1, al e: 1, al p: 1, ala: 1, ala : 1, anc: 1, anci: 1, ano: 1, anos: 1, aro: 1, aro : 1, as : 2, as c: 1, as v: 1, asi: 1, asi : 1, be : 1, be l: 1, bo : 1, bo l: 1, bre: 1, bre : 1, bvi: 1, bvio: 1, ca : 1, ca p: 1, chi: 1, chic: 1, cia: 1, cia : 1, cio: 2, cion: 2, ciu: 1, ciud: 1, co : 1, co d: 1, cod: 1, cod : 1, com: 2, como: 2, cos: 1, cos : 1, cri: 2, crib: 2, d p: 1, d po: 1, dad: 1, dade: 1, de : 3, de a: 1, de f: 1, de v: 1, des: 1, des : 1, dia: 1, dias: 1, dif: 1, dife: 1, dir: 2, dire: 2, don: 1, dond: 1, e N: 1, e NU: 1, e a: 2, e a : 1, e ac: 1, e e: 1, e es: 1, e f: 1, e fr: 1, e l: 2, e la: 1, e lo: 1, e r: 1, e ra: 1, e s: 2, e si: 2, e v: 1, e vi: 1, eci: 2, ecio: 2, ega: 1, ega : 1, egu: 1, egun: 1, en : 1, en v: 1, ene: 1, enez: 1, ent: 1, ente: 1, ere: 1, eren: 1, ero: 1, ero : 1, es : 6, es N: 1, es e: 1, es l: 1, es p: 1, es q: 1, es u: 1, esc: 2, escr: 2, est: 1, estr: 1, ezo: 1, fer: 1, fere: 1, fra: 1, fran: 1, ga : 1, ga p: 1, go : 1, go n: 1, gua: 1, gual: 1, gun: 1, gunt: 1, hic: 1, hico: 1, i p: 1, i po: 1, i q: 1, i qu: 1, i s: 1, i u: 1, i un: 1, ia : 2, ia l: 1, ia y: 1, ias: 1, ias : 1, ibe: 1, ibe : 1, ibo: 1, ibo : 1, ico: 1, icos: 1, ife: 1, ifer: 1, igu: 1, igua: 1, io : 1, io p: 1, ion: 2, ion : 1, ire: 2, irec: 2, is : 1, is l: 1, iud: 1, iuda: 1, ivo: 1, ivo : 1, l a: 1, l as: 1, l e: 1, l en: 1, l p: 1, l po: 1, la : 5, la d: 3, la m: 1, la q: 1, lan: 1, lano: 1, leg: 1, lega: 1, los: 2, los : 2, mia: 1, mia : 1, mo : 2, mo s: 1, mo y: 1, n p: 2, n po: 2, n s: 1, n so: 1, n u: 1, n un: 1, n v: 1, n vu: 1, na : 3, na d: 1, na n: 1, na p: 1, nci: 1, ncia: 1, nde: 1, nde : 1, nes: 1, nes : 1, nez: 1, ngo: 1, ngo : 1, no : 3, no n: 1, no o: 1, no s: 1, nos: 1, nos : 1, nta: 1, nta : 1, nte: 1, nte : 1, o d: 1, o di: 1, o e: 3, o es: 3, o l: 1, o la: 1, o n: 2, o n : 1, o no: 1, o o: 1, o ob: 1, o p: 1, o po: 1, o s: 3, o se: 2, o so: 1, o y: 1, o yo: 1, obr: 1, obre: 1, obv: 1, obvi: 1, oco: 1, oco : 1, od : 1, od p: 1, ois: 1, ois : 1, ola: 1, olan: 1, omo: 2, omo : 2, on : 1, on p: 1, ona: 1, ona : 1, ond: 1, onde: 1, one: 1, ones: 1, ong: 1, ongo: 1, or : 3, or a: 1, or d: 1, os : 5, os d: 1, os n: 1, os o: 1, os u: 1, os v: 1, ost: 2, osta: 2, otr: 1, otro: 1, per: 1, pero: 1, poc: 1, poco: 1, pon: 2, pone: 1, pong: 1, por: 3, por : 3, pos: 2, post: 2, pre: 1, preg: 1, que: 3, que : 3, r a: 1, r al: 1, r d: 1, r do: 1, r z: 1, ran: 1, ranc: 1, rar: 1, raro: 1, ras: 1, ras : 1, re : 1, re N: 1, rec: 2, reci: 2, reg: 1, regu: 1, ren: 1, rent: 1, rib: 2, ribe: 1, ribo: 1, ro : 2, ro e: 1, ro s: 1, ros: 1, ros : 1, s N: 1, s NU: 1, s c: 1, s ci: 1, s d: 1, s di: 1, s e: 1, s es: 1, s i: 1, s ig: 1, s l: 2, s la: 1, s lo: 1, s n: 1, s no: 1, s o: 1, s ot: 1, s p: 1, s po: 1, s q: 1, s qu: 1, s u: 2, s un: 2, s v: 2, s ve: 1, s vi: 1, scr: 2, scri: 2, se : 2, se e: 1, se s: 1, si : 3, si p: 1, si q: 1, si s: 1, sob: 1, sobr: 1, soi: 1, sta: 2, stal: 2, str: 1, stra: 1, ta : 1, ta c: 1, tal: 2, tal : 2, te : 1, te a: 1, tra: 1, tras: 1, tro: 1, tros: 1, ual: 1, ual : 1, uda: 1, udad: 1, ue : 3, ue l: 1, ue r: 1, ue s: 1, ues: 1, uest: 1, un : 2, un p: 1, un s: 1, una: 2, una : 2, unt: 1, unta: 1, ven: 1, vene: 1, vi : 1, vi u: 1, vio: 1, vio : 1, viv: 1, vivo: 1, vo : 1, vo e: 1, vue: 1, y e: 1, y es: 1, yo : 1, yo e: 1, zon: 1, zona: 1, "
     ]
    }
   ],
   "source": [
    "arr_repr = BOG_matrix[27].toarray()[0]\n",
    "for i in BOG_matrix[27].indices:\n",
    "    print('{0}: {1}'.format(representation.get_feature_names()[i], arr_repr[i]), end=', ')"
   ]
  },
  {
   "cell_type": "markdown",
   "metadata": {},
   "source": [
    "### TFidf: 1-gramas"
   ]
  },
  {
   "cell_type": "code",
   "execution_count": 224,
   "metadata": {},
   "outputs": [],
   "source": [
    "vectorizer = TfidfVectorizer(min_df=10, preprocessor=clean_text_1, ngram_range=(1, 1), norm='l2')"
   ]
  },
  {
   "cell_type": "code",
   "execution_count": 225,
   "metadata": {},
   "outputs": [],
   "source": [
    "representation = vectorizer.fit(df[1:].context)"
   ]
  },
  {
   "cell_type": "code",
   "execution_count": 226,
   "metadata": {},
   "outputs": [],
   "source": [
    "BOG_matrix = representation.transform(df[1:].context)"
   ]
  },
  {
   "cell_type": "markdown",
   "metadata": {},
   "source": [
    "Entonces podemos decir que la frase:"
   ]
  },
  {
   "cell_type": "code",
   "execution_count": 227,
   "metadata": {},
   "outputs": [
    {
     "data": {
      "text/plain": [
       "'Oh sii. Seremos niños por siempre'"
      ]
     },
     "execution_count": 227,
     "metadata": {},
     "output_type": "execute_result"
    }
   ],
   "source": [
    "df.context[7]"
   ]
  },
  {
   "cell_type": "markdown",
   "metadata": {},
   "source": [
    "Esta representada como:"
   ]
  },
  {
   "cell_type": "code",
   "execution_count": 228,
   "metadata": {},
   "outputs": [
    {
     "name": "stdout",
     "output_type": "stream",
     "text": [
      "  (0, 4449)\t0.448864432483\n",
      "  (0, 4447)\t0.234091170894\n",
      "  (0, 3802)\t0.288960119172\n",
      "  (0, 3348)\t0.47924659666\n",
      "  (0, 3261)\t0.656160646548\n"
     ]
    }
   ],
   "source": [
    "print(BOG_matrix[6])"
   ]
  },
  {
   "cell_type": "markdown",
   "metadata": {},
   "source": [
    "Donde los features son..."
   ]
  },
  {
   "cell_type": "code",
   "execution_count": 232,
   "metadata": {},
   "outputs": [
    {
     "data": {
      "text/plain": [
       "('siempre', 'si', 'por', 'oh', 'ninos')"
      ]
     },
     "execution_count": 232,
     "metadata": {},
     "output_type": "execute_result"
    }
   ],
   "source": [
    "representation.get_feature_names()[4449], representation.get_feature_names()[4447], representation.get_feature_names()[3802], representation.get_feature_names()[3348], representation.get_feature_names()[3261]"
   ]
  },
  {
   "cell_type": "markdown",
   "metadata": {},
   "source": [
    "### TFidf: 3-gramas"
   ]
  },
  {
   "cell_type": "code",
   "execution_count": 95,
   "metadata": {},
   "outputs": [],
   "source": [
    "vectorizer = TfidfVectorizer(min_df=10, preprocessor=clean_text_1, ngram_range=(1, 3), norm='l2')"
   ]
  },
  {
   "cell_type": "code",
   "execution_count": 96,
   "metadata": {},
   "outputs": [],
   "source": [
    "representation = vectorizer.fit(df[1:].context)"
   ]
  },
  {
   "cell_type": "code",
   "execution_count": 97,
   "metadata": {},
   "outputs": [],
   "source": [
    "BOG_matrix = representation.transform(df[1:].context)"
   ]
  },
  {
   "cell_type": "code",
   "execution_count": 13,
   "metadata": {},
   "outputs": [
    {
     "name": "stdout",
     "output_type": "stream",
     "text": [
      "  (0, 14681)\t0.255535071528\n",
      "  (0, 10673)\t0.53663367644\n",
      "  (0, 6797)\t0.697638942057\n",
      "  (0, 6656)\t0.352211692948\n",
      "  (0, 2883)\t0.189665374821\n",
      "  (1, 13190)\t0.443227352735\n",
      "  (1, 12594)\t0.260644641436\n",
      "  (1, 12496)\t0.113825661263\n",
      "  (1, 8792)\t0.312539115049\n",
      "  (1, 6318)\t0.237512204515\n",
      "  (1, 5451)\t0.483620546024\n",
      "  (1, 4910)\t0.44617459802\n",
      "  (1, 4852)\t0.1453280125\n",
      "  (1, 931)\t0.338354876003\n",
      "  (2, 16018)\t0.455086219987\n",
      "  (2, 11418)\t0.522142267358\n",
      "  (2, 7063)\t0.462061312057\n",
      "  (2, 5900)\t0.360124521208\n",
      "  (2, 1382)\t0.420801209766\n",
      "  (3, 10677)\t0.390404472585\n",
      "  (3, 9956)\t0.473677665079\n",
      "  (3, 7382)\t0.547445245685\n",
      "  (3, 4201)\t0.515860506833\n",
      "  (3, 3969)\t0.175011502472\n",
      "  (3, 2883)\t0.163635056944\n",
      "  (6, 14235)\t0.359178198001\n",
      "  (6, 13969)\t0.187318127356\n",
      "  (6, 11975)\t0.231223878274\n",
      "  (6, 10727)\t0.599742517453\n",
      "  (6, 10721)\t0.383489794533\n",
      "  (6, 10150)\t0.525055187203\n",
      "  (7, 13142)\t1.0\n",
      "  (8, 16554)\t1.0\n"
     ]
    }
   ],
   "source": [
    "print(BOG_matrix[:10])"
   ]
  },
  {
   "cell_type": "markdown",
   "metadata": {},
   "source": [
    "Entonces podemos decir que la frase:"
   ]
  },
  {
   "cell_type": "code",
   "execution_count": 14,
   "metadata": {},
   "outputs": [
    {
     "data": {
      "text/plain": [
       "'chicos. una pregunta. cómo se escribe la dirección postal en vuestras ciudades?. es que los otros días vi una de francia y es un poco diferente a como yo escribo la mía. La de aca por donde vivo es 1010. El cod postal. así que si pongo n un sobre 1010 te llega?. Pero es por zona, no se si s igual por alla. qué raro sois los venezolanos. no?. No, obvio pones la direccion😂😂'"
      ]
     },
     "execution_count": 14,
     "metadata": {},
     "output_type": "execute_result"
    }
   ],
   "source": [
    "df.context[28]"
   ]
  },
  {
   "cell_type": "markdown",
   "metadata": {},
   "source": [
    "Esta representada como:"
   ]
  },
  {
   "cell_type": "code",
   "execution_count": 15,
   "metadata": {},
   "outputs": [
    {
     "name": "stdout",
     "output_type": "stream",
     "text": [
      "  (0, 16720)\t0.124010228538\n",
      "  (0, 16554)\t0.0504677776659\n",
      "  (0, 16245)\t0.118677121056\n",
      "  (0, 16134)\t0.0873732335623\n",
      "  (0, 15721)\t0.113909106994\n",
      "  (0, 15656)\t0.111706514749\n",
      "  (0, 15622)\t0.109525659716\n",
      "  (0, 15574)\t0.0921570206326\n",
      "  (0, 15481)\t0.100784558462\n",
      "  (0, 14325)\t0.0928691100846\n",
      "  (0, 14067)\t0.127385614469\n",
      "  (0, 13969)\t0.0865077404921\n",
      "  (0, 13751)\t0.0919649009802\n",
      "  (0, 13644)\t0.139280590804\n",
      "  (0, 13612)\t0.0962287447121\n",
      "  (0, 13212)\t0.101262869165\n",
      "  (0, 12915)\t0.0891770737975\n",
      "  (0, 12879)\t0.123415330844\n",
      "  (0, 12744)\t0.105030590194\n",
      "  (0, 12496)\t0.108631627268\n",
      "  (0, 12183)\t0.0967615812843\n",
      "  (0, 11993)\t0.116665793098\n",
      "  (0, 11984)\t0.141938329461\n",
      "  (0, 11975)\t0.160176611359\n",
      "  (0, 11964)\t0.0982929802144\n",
      "  :\t:\n",
      "  (0, 4997)\t0.0841566810893\n",
      "  (0, 4989)\t0.113909106994\n",
      "  (0, 4853)\t0.114719000573\n",
      "  (0, 4852)\t0.184928639234\n",
      "  (0, 4392)\t0.0435597008661\n",
      "  (0, 3822)\t0.076456038442\n",
      "  (0, 3754)\t0.244042210164\n",
      "  (0, 3677)\t0.128973205425\n",
      "  (0, 3626)\t0.0943999070126\n",
      "  (0, 2897)\t0.120258907758\n",
      "  (0, 2883)\t0.0748901282964\n",
      "  (0, 2167)\t0.13121850809\n",
      "  (0, 2142)\t0.100581462339\n",
      "  (0, 2082)\t0.112036495891\n",
      "  (0, 2023)\t0.13848731779\n",
      "  (0, 1959)\t0.145149562173\n",
      "  (0, 1905)\t0.141938329461\n",
      "  (0, 1882)\t0.0803187289055\n",
      "  (0, 1107)\t0.136325838815\n",
      "  (0, 1102)\t0.0880697309875\n",
      "  (0, 1073)\t0.0642736696437\n",
      "  (0, 630)\t0.095704994585\n",
      "  (0, 237)\t0.145149562173\n",
      "  (0, 222)\t0.0816121714584\n",
      "  (0, 0)\t0.0915607932634\n"
     ]
    }
   ],
   "source": [
    "print(BOG_matrix[27])"
   ]
  },
  {
   "cell_type": "markdown",
   "metadata": {},
   "source": [
    "Donde los features son..."
   ]
  },
  {
   "cell_type": "code",
   "execution_count": 100,
   "metadata": {},
   "outputs": [
    {
     "name": "stdout",
     "output_type": "stream",
     "text": [
      "zona: 0.12401022853833427, yo: 0.05046777766587819, vivo: 0.11867712105649862, vi: 0.08737323356228918, una pregunta: 0.11390910699436023, una de: 0.11170651474885525, una: 0.10952565971561047, un poco: 0.09215702063255835, un: 0.10078455846229553, sobre: 0.09286911008457037, si igual: 0.1273856144693643, si: 0.08650774049210937, se si: 0.09196490098019389, se escribe: 0.1392805908040324, se: 0.09622874471212998, raro: 0.1012628691652938, que si: 0.08917707379754441, que raro: 0.12341533084436813, que los: 0.10503059019403427, que: 0.10863162726785722, pregunta: 0.09676158128433333, por donde: 0.11666579309801224, por ala: 0.14193832946119114, por: 0.16017661135873373, pongo: 0.09829298021440097, pones: 0.1153989093181467, poco: 0.08583486140073365, pero es: 0.10350817183046465, pero: 0.0522557791260144, otros: 0.09800815755778436, obvio: 0.09930259913740713, no se si: 0.09278835045911256, no se: 0.06596199382689194, no no: 0.09431076882268218, no: 0.11333417403034404, mia: 0.11130128371070447, los otros: 0.11406772821186081, los: 0.10571836156596028, lega: 0.11170651474885525, la mia: 0.1217567322660146, la direcion: 0.2644332485458174, la de: 0.10044871102527382, la: 0.15823958720210332, igual por: 0.1392805908040324, igual: 0.0710891139769709, escribo: 0.11505521888222692, escribe: 0.12341533084436813, es un poco: 0.1401167637992028, es un: 0.08662543043176707, es que: 0.08415668108931781, es por: 0.11390910699436023, es NUM: 0.11471900057261829, es: 0.18492863923364514, en: 0.043559700866137745, donde: 0.07645603844199361, direcion: 0.24404221016411312, diferente: 0.1289732054246682, dias: 0.09439990701256973, de aca: 0.12025890775835411, de: 0.07489012829635337, como yo: 0.13121850808983904, como se: 0.10058146233935238, como: 0.11203649589092031, cod: 0.13848731778957893, ciudades: 0.14514956217267053, chicos una: 0.14193832946119114, chicos: 0.08031872890550876, asi que si: 0.13632583881542426, asi que: 0.08806973098745109, asi: 0.0642736696437329, ala: 0.09570499458499375, aca por: 0.14514956217267053, aca: 0.08161217145841165, NUM: 0.09156079326343079, "
     ]
    }
   ],
   "source": [
    "dict_repr = dict()\n",
    "arr_repr = BOG_matrix[27].toarray()[0]\n",
    "for i in BOG_matrix[27].indices:\n",
    "    print('{0}: {1}'.format(representation.get_feature_names()[i], arr_repr[i]), end=', ')\n",
    "    dict_repr[representation.get_feature_names()[i]] = arr_repr[i]"
   ]
  },
  {
   "cell_type": "markdown",
   "metadata": {},
   "source": [
    "Palabras más representativas para la frase:"
   ]
  },
  {
   "cell_type": "code",
   "execution_count": 103,
   "metadata": {},
   "outputs": [
    {
     "data": {
      "text/plain": [
       "[('la direcion', 0.2644332485458174),\n",
       " ('direcion', 0.24404221016411312),\n",
       " ('es', 0.18492863923364514),\n",
       " ('por', 0.16017661135873373),\n",
       " ('la', 0.15823958720210332),\n",
       " ('aca por', 0.14514956217267053),\n",
       " ('ciudades', 0.14514956217267053),\n",
       " ('chicos una', 0.14193832946119114),\n",
       " ('por ala', 0.14193832946119114),\n",
       " ('es un poco', 0.14011676379920279)]"
      ]
     },
     "execution_count": 103,
     "metadata": {},
     "output_type": "execute_result"
    }
   ],
   "source": [
    "sorted(dict_repr.items(), key=lambda x: x[1], reverse=True)[:10]"
   ]
  },
  {
   "cell_type": "markdown",
   "metadata": {},
   "source": [
    "## Word Embeddings"
   ]
  },
  {
   "cell_type": "markdown",
   "metadata": {},
   "source": [
    "Tomamos algunos embeddings de:\n",
    "- [Glove](https://github.com/stanfordnlp/GloVe)\n",
    "- [wordvector](https://github.com/Kyubyong/wordvectors)?\n",
    "- [SBWCE](http://crscardellino.me/SBWCE/)\n",
    "     "
   ]
  },
  {
   "cell_type": "code",
   "execution_count": null,
   "metadata": {},
   "outputs": [],
   "source": []
  }
 ],
 "metadata": {
  "kernelspec": {
   "display_name": "Python 3",
   "language": "python",
   "name": "python3"
  },
  "language_info": {
   "codemirror_mode": {
    "name": "ipython",
    "version": 3
   },
   "file_extension": ".py",
   "mimetype": "text/x-python",
   "name": "python",
   "nbconvert_exporter": "python",
   "pygments_lexer": "ipython3",
   "version": "3.5.2"
  }
 },
 "nbformat": 4,
 "nbformat_minor": 2
}
