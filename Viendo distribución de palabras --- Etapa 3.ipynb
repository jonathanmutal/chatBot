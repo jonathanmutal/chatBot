{
 "cells": [
  {
   "cell_type": "markdown",
   "metadata": {},
   "source": [
    "# Cargando lo que ya teníamos"
   ]
  },
  {
   "cell_type": "code",
   "execution_count": 5,
   "metadata": {},
   "outputs": [],
   "source": [
    "import pandas as pd\n",
    "import csv"
   ]
  },
  {
   "cell_type": "code",
   "execution_count": 6,
   "metadata": {},
   "outputs": [],
   "source": [
    "df = pd.read_csv('corpus.csv')"
   ]
  },
  {
   "cell_type": "markdown",
   "metadata": {},
   "source": [
    "## Distribución de palabras"
   ]
  },
  {
   "cell_type": "markdown",
   "metadata": {},
   "source": [
    "Para entender un poco más el problema veremos la distribución de las palabras. Además esto nos va a ayudar a evitar problemas en un futuro."
   ]
  },
  {
   "cell_type": "code",
   "execution_count": 7,
   "metadata": {},
   "outputs": [],
   "source": [
    "from collections import Counter\n",
    "from itertools import chain"
   ]
  },
  {
   "cell_type": "code",
   "execution_count": 8,
   "metadata": {},
   "outputs": [],
   "source": [
    "distribution_words = Counter(chain.from_iterable(df.message.map(lambda x: x.split(' '))))"
   ]
  },
  {
   "cell_type": "code",
   "execution_count": 9,
   "metadata": {},
   "outputs": [],
   "source": [
    "df_distribution = pd.DataFrame(data={'word': list(distribution_words.keys()), 'counter': list(distribution_words.values())})"
   ]
  },
  {
   "cell_type": "markdown",
   "metadata": {},
   "source": [
    "Es decir el vocabulario total es alrededor de:"
   ]
  },
  {
   "cell_type": "code",
   "execution_count": 39,
   "metadata": {},
   "outputs": [
    {
     "data": {
      "text/plain": [
       "counter    56968\n",
       "word       56968\n",
       "dtype: int64"
      ]
     },
     "execution_count": 39,
     "metadata": {},
     "output_type": "execute_result"
    }
   ],
   "source": [
    "df_distribution.count()"
   ]
  },
  {
   "cell_type": "markdown",
   "metadata": {},
   "source": [
    "Por lo que las palabras menos vistas son"
   ]
  },
  {
   "cell_type": "code",
   "execution_count": 11,
   "metadata": {},
   "outputs": [
    {
     "data": {
      "text/html": [
       "<div>\n",
       "<style>\n",
       "    .dataframe thead tr:only-child th {\n",
       "        text-align: right;\n",
       "    }\n",
       "\n",
       "    .dataframe thead th {\n",
       "        text-align: left;\n",
       "    }\n",
       "\n",
       "    .dataframe tbody tr th {\n",
       "        vertical-align: top;\n",
       "    }\n",
       "</style>\n",
       "<table border=\"1\" class=\"dataframe\">\n",
       "  <thead>\n",
       "    <tr style=\"text-align: right;\">\n",
       "      <th></th>\n",
       "      <th>counter</th>\n",
       "      <th>word</th>\n",
       "    </tr>\n",
       "  </thead>\n",
       "  <tbody>\n",
       "    <tr>\n",
       "      <th>47331</th>\n",
       "      <td>1</td>\n",
       "      <td>19:44</td>\n",
       "    </tr>\n",
       "    <tr>\n",
       "      <th>56583</th>\n",
       "      <td>1</td>\n",
       "      <td>tupido</td>\n",
       "    </tr>\n",
       "    <tr>\n",
       "      <th>56580</th>\n",
       "      <td>1</td>\n",
       "      <td>empanadas.</td>\n",
       "    </tr>\n",
       "    <tr>\n",
       "      <th>56578</th>\n",
       "      <td>1</td>\n",
       "      <td>normales??</td>\n",
       "    </tr>\n",
       "    <tr>\n",
       "      <th>56577</th>\n",
       "      <td>1</td>\n",
       "      <td>minimos,amigo!</td>\n",
       "    </tr>\n",
       "    <tr>\n",
       "      <th>56575</th>\n",
       "      <td>1</td>\n",
       "      <td>🎉🎊🎉🎊🎉🎊🎊🎉🎊🎉</td>\n",
       "    </tr>\n",
       "    <tr>\n",
       "      <th>56574</th>\n",
       "      <td>1</td>\n",
       "      <td>Posta!</td>\n",
       "    </tr>\n",
       "    <tr>\n",
       "      <th>56589</th>\n",
       "      <td>1</td>\n",
       "      <td>cadáveres</td>\n",
       "    </tr>\n",
       "    <tr>\n",
       "      <th>56572</th>\n",
       "      <td>1</td>\n",
       "      <td>dalir</td>\n",
       "    </tr>\n",
       "    <tr>\n",
       "      <th>56570</th>\n",
       "      <td>1</td>\n",
       "      <td>testigo?</td>\n",
       "    </tr>\n",
       "    <tr>\n",
       "      <th>56569</th>\n",
       "      <td>1</td>\n",
       "      <td>final\"</td>\n",
       "    </tr>\n",
       "    <tr>\n",
       "      <th>56568</th>\n",
       "      <td>1</td>\n",
       "      <td>(4,5499;</td>\n",
       "    </tr>\n",
       "    <tr>\n",
       "      <th>56567</th>\n",
       "      <td>1</td>\n",
       "      <td>jajajajajajajajjaa</td>\n",
       "    </tr>\n",
       "    <tr>\n",
       "      <th>56566</th>\n",
       "      <td>1</td>\n",
       "      <td>catastral</td>\n",
       "    </tr>\n",
       "    <tr>\n",
       "      <th>56565</th>\n",
       "      <td>1</td>\n",
       "      <td>correctas?</td>\n",
       "    </tr>\n",
       "    <tr>\n",
       "      <th>56571</th>\n",
       "      <td>1</td>\n",
       "      <td>inhumano</td>\n",
       "    </tr>\n",
       "    <tr>\n",
       "      <th>56564</th>\n",
       "      <td>1</td>\n",
       "      <td>sombras?</td>\n",
       "    </tr>\n",
       "    <tr>\n",
       "      <th>56590</th>\n",
       "      <td>1</td>\n",
       "      <td>nosotros!😀</td>\n",
       "    </tr>\n",
       "    <tr>\n",
       "      <th>56594</th>\n",
       "      <td>1</td>\n",
       "      <td>FECHAS:</td>\n",
       "    </tr>\n",
       "    <tr>\n",
       "      <th>56614</th>\n",
       "      <td>1</td>\n",
       "      <td>lara,</td>\n",
       "    </tr>\n",
       "  </tbody>\n",
       "</table>\n",
       "</div>"
      ],
      "text/plain": [
       "       counter                word\n",
       "47331        1               19:44\n",
       "56583        1              tupido\n",
       "56580        1          empanadas.\n",
       "56578        1          normales??\n",
       "56577        1      minimos,amigo!\n",
       "56575        1          🎉🎊🎉🎊🎉🎊🎊🎉🎊🎉\n",
       "56574        1              Posta!\n",
       "56589        1           cadáveres\n",
       "56572        1               dalir\n",
       "56570        1            testigo?\n",
       "56569        1              final\"\n",
       "56568        1            (4,5499;\n",
       "56567        1  jajajajajajajajjaa\n",
       "56566        1           catastral\n",
       "56565        1          correctas?\n",
       "56571        1            inhumano\n",
       "56564        1            sombras?\n",
       "56590        1          nosotros!😀\n",
       "56594        1             FECHAS:\n",
       "56614        1               lara,"
      ]
     },
     "execution_count": 11,
     "metadata": {},
     "output_type": "execute_result"
    }
   ],
   "source": [
    "df_distribution.sort_values('counter').head(20)"
   ]
  },
  {
   "cell_type": "markdown",
   "metadata": {},
   "source": [
    "Pero las más vistas son:"
   ]
  },
  {
   "cell_type": "code",
   "execution_count": 12,
   "metadata": {},
   "outputs": [
    {
     "data": {
      "text/html": [
       "<div>\n",
       "<style>\n",
       "    .dataframe thead tr:only-child th {\n",
       "        text-align: right;\n",
       "    }\n",
       "\n",
       "    .dataframe thead th {\n",
       "        text-align: left;\n",
       "    }\n",
       "\n",
       "    .dataframe tbody tr th {\n",
       "        vertical-align: top;\n",
       "    }\n",
       "</style>\n",
       "<table border=\"1\" class=\"dataframe\">\n",
       "  <thead>\n",
       "    <tr style=\"text-align: right;\">\n",
       "      <th></th>\n",
       "      <th>counter</th>\n",
       "      <th>word</th>\n",
       "    </tr>\n",
       "  </thead>\n",
       "  <tbody>\n",
       "    <tr>\n",
       "      <th>76077</th>\n",
       "      <td>23779</td>\n",
       "      <td>que</td>\n",
       "    </tr>\n",
       "    <tr>\n",
       "      <th>76287</th>\n",
       "      <td>22955</td>\n",
       "      <td>de</td>\n",
       "    </tr>\n",
       "    <tr>\n",
       "      <th>4212</th>\n",
       "      <td>19199</td>\n",
       "      <td>a</td>\n",
       "    </tr>\n",
       "    <tr>\n",
       "      <th>55522</th>\n",
       "      <td>18160</td>\n",
       "      <td>la</td>\n",
       "    </tr>\n",
       "    <tr>\n",
       "      <th>91699</th>\n",
       "      <td>16656</td>\n",
       "      <td>el</td>\n",
       "    </tr>\n",
       "    <tr>\n",
       "      <th>865</th>\n",
       "      <td>14493</td>\n",
       "      <td>no</td>\n",
       "    </tr>\n",
       "    <tr>\n",
       "      <th>1494</th>\n",
       "      <td>12603</td>\n",
       "      <td>y</td>\n",
       "    </tr>\n",
       "    <tr>\n",
       "      <th>56361</th>\n",
       "      <td>12046</td>\n",
       "      <td>en</td>\n",
       "    </tr>\n",
       "    <tr>\n",
       "      <th>3889</th>\n",
       "      <td>11407</td>\n",
       "      <td>omitido&gt;</td>\n",
       "    </tr>\n",
       "    <tr>\n",
       "      <th>35020</th>\n",
       "      <td>11407</td>\n",
       "      <td>&lt;Archivo</td>\n",
       "    </tr>\n",
       "    <tr>\n",
       "      <th>85670</th>\n",
       "      <td>11058</td>\n",
       "      <td>me</td>\n",
       "    </tr>\n",
       "    <tr>\n",
       "      <th>52793</th>\n",
       "      <td>9894</td>\n",
       "      <td>lo</td>\n",
       "    </tr>\n",
       "    <tr>\n",
       "      <th>58138</th>\n",
       "      <td>8425</td>\n",
       "      <td>es</td>\n",
       "    </tr>\n",
       "    <tr>\n",
       "      <th>27505</th>\n",
       "      <td>7218</td>\n",
       "      <td>un</td>\n",
       "    </tr>\n",
       "    <tr>\n",
       "      <th>40686</th>\n",
       "      <td>6895</td>\n",
       "      <td>se</td>\n",
       "    </tr>\n",
       "    <tr>\n",
       "      <th>52518</th>\n",
       "      <td>6624</td>\n",
       "      <td>los</td>\n",
       "    </tr>\n",
       "    <tr>\n",
       "      <th>79531</th>\n",
       "      <td>6489</td>\n",
       "      <td>si</td>\n",
       "    </tr>\n",
       "    <tr>\n",
       "      <th>53698</th>\n",
       "      <td>6233</td>\n",
       "      <td>para</td>\n",
       "    </tr>\n",
       "    <tr>\n",
       "      <th>50931</th>\n",
       "      <td>5980</td>\n",
       "      <td>te</td>\n",
       "    </tr>\n",
       "    <tr>\n",
       "      <th>58911</th>\n",
       "      <td>5884</td>\n",
       "      <td>con</td>\n",
       "    </tr>\n",
       "  </tbody>\n",
       "</table>\n",
       "</div>"
      ],
      "text/plain": [
       "       counter      word\n",
       "76077    23779       que\n",
       "76287    22955        de\n",
       "4212     19199         a\n",
       "55522    18160        la\n",
       "91699    16656        el\n",
       "865      14493        no\n",
       "1494     12603         y\n",
       "56361    12046        en\n",
       "3889     11407  omitido>\n",
       "35020    11407  <Archivo\n",
       "85670    11058        me\n",
       "52793     9894        lo\n",
       "58138     8425        es\n",
       "27505     7218        un\n",
       "40686     6895        se\n",
       "52518     6624       los\n",
       "79531     6489        si\n",
       "53698     6233      para\n",
       "50931     5980        te\n",
       "58911     5884       con"
      ]
     },
     "execution_count": 12,
     "metadata": {},
     "output_type": "execute_result"
    }
   ],
   "source": [
    "df_distribution.sort_values('counter', ascending=False).head(20)"
   ]
  },
  {
   "cell_type": "markdown",
   "metadata": {},
   "source": [
    "Al querer hacer un gráfico de caja, nos dimos cuenta que la media en la distribución de palabras era 1..."
   ]
  },
  {
   "cell_type": "code",
   "execution_count": 13,
   "metadata": {},
   "outputs": [
    {
     "data": {
      "text/plain": [
       "1.0"
      ]
     },
     "execution_count": 13,
     "metadata": {},
     "output_type": "execute_result"
    }
   ],
   "source": [
    "df_distribution.counter.median()"
   ]
  },
  {
   "cell_type": "markdown",
   "metadata": {},
   "source": [
    "Pues luego de ver esa que la media era 1, nos preguntamos...\n",
    "   - ¿Cuántas palabras hay con una sóla aparición? Son útiles o no?"
   ]
  },
  {
   "cell_type": "code",
   "execution_count": 14,
   "metadata": {},
   "outputs": [
    {
     "data": {
      "text/plain": [
       "counter    0.655504\n",
       "word       0.655504\n",
       "dtype: float64"
      ]
     },
     "execution_count": 14,
     "metadata": {},
     "output_type": "execute_result"
    }
   ],
   "source": [
    "sum(df_distribution.counter == 1) / df_distribution.count()"
   ]
  },
  {
   "cell_type": "markdown",
   "metadata": {},
   "source": [
    "Vemos que hay alrededor de un 65% de palabras que aparecen una sóla vez... esto puede causar que la **vectorización no sea tan representativa como queremos...**\n",
    "\n",
    "Problemas que vimos:\n",
    "   - Al ser mensajes instantaneos, por lo general las personas no se preocupan con la ortográfia ni la forma de escribir.\n",
    "   - Muchos tipos de mismas palabras, por ejemplo jajaja = jaja, dale = daleee.\n",
    "   - _Arhivo omitido_ como media no es útil.\n",
    "   - Puntaciones son inútiles para el problema (no ayudan en nada). Ejemplo quiero = quiero'\n",
    "   - Los emoticones son necesarios para este problema?"
   ]
  },
  {
   "cell_type": "markdown",
   "metadata": {},
   "source": [
    "## Conclusión"
   ]
  },
  {
   "cell_type": "markdown",
   "metadata": {},
   "source": [
    "Después de discutir un rato decidimos tomar estás decisiones para mejorar la distribución:\n",
    "   - \"Normalizar palabras más vistas\"\n",
    "   - Remover las puntuaciones\n",
    "   - Pasar a minuscula toda palabra\n",
    "   - Eliminar palabra que no aparezca más de 10 veces (soluciona errores de ortográfia, links, etc)\n",
    "   - Remover acentos\n",
    "\n",
    "Veamos como sería la nueva distribución"
   ]
  },
  {
   "cell_type": "code",
   "execution_count": 29,
   "metadata": {},
   "outputs": [],
   "source": [
    "from string import punctuation\n",
    "import re\n",
    "import unicodedata"
   ]
  },
  {
   "cell_type": "code",
   "execution_count": 62,
   "metadata": {},
   "outputs": [],
   "source": [
    "STOP_WORDS = punctuation\n",
    "\n",
    "def remove_tildes(cadena):\n",
    "    s = ''.join((c for c in unicodedata.normalize('NFD',cadena) if unicodedata.category(c) != 'Mn'))\n",
    "    return s\n",
    "\n",
    "def remove_hola(text):\n",
    "    return re.sub('hol[a]+', 'hola', text)\n",
    "\n",
    "def remove_dale(text):\n",
    "    return re.sub('d[a]+l[e]+', 'dale', text)\n",
    "\n",
    "def remove_ok(text):\n",
    "    return re.sub('(ok)+[a-zA-Z]*', 'ok', text)\n",
    "\n",
    "def remove_si(text):\n",
    "    return re.sub('(s[ií]+)+', 'si', text)\n",
    "\n",
    "def remove_sw(text):\n",
    "    return re.sub('{1}{0}{1}'.format(STOP_WORDS, '[]'), '', text).lower()\n",
    "\n",
    "def remove_ja(text):\n",
    "    return re.sub('(ja[ajs]*)+', 'ja', text)\n",
    "\n",
    "def clean_text(text):\n",
    "    return remove_tildes(remove_hola(remove_dale(remove_si(remove_ok(remove_ja(remove_sw(text)))))))"
   ]
  },
  {
   "cell_type": "code",
   "execution_count": 35,
   "metadata": {},
   "outputs": [],
   "source": [
    "distribution_words = Counter(chain.from_iterable(df.message.map(lambda x: clean_text(x).split(' '))))"
   ]
  },
  {
   "cell_type": "code",
   "execution_count": 36,
   "metadata": {},
   "outputs": [],
   "source": [
    "df_distribution = pd.DataFrame(data={'word': list(distribution_words.keys()), 'counter': list(distribution_words.values())})"
   ]
  },
  {
   "cell_type": "code",
   "execution_count": 55,
   "metadata": {},
   "outputs": [],
   "source": [
    "new_df = df_distribution[df_distribution.counter > 10]"
   ]
  },
  {
   "cell_type": "code",
   "execution_count": 56,
   "metadata": {},
   "outputs": [
    {
     "data": {
      "text/plain": [
       "counter    5507\n",
       "word       5507\n",
       "dtype: int64"
      ]
     },
     "execution_count": 56,
     "metadata": {},
     "output_type": "execute_result"
    }
   ],
   "source": [
    "new_df.count()"
   ]
  },
  {
   "cell_type": "code",
   "execution_count": 59,
   "metadata": {},
   "outputs": [
    {
     "data": {
      "text/html": [
       "<div>\n",
       "<style>\n",
       "    .dataframe thead tr:only-child th {\n",
       "        text-align: right;\n",
       "    }\n",
       "\n",
       "    .dataframe thead th {\n",
       "        text-align: left;\n",
       "    }\n",
       "\n",
       "    .dataframe tbody tr th {\n",
       "        vertical-align: top;\n",
       "    }\n",
       "</style>\n",
       "<table border=\"1\" class=\"dataframe\">\n",
       "  <thead>\n",
       "    <tr style=\"text-align: right;\">\n",
       "      <th></th>\n",
       "      <th>counter</th>\n",
       "      <th>word</th>\n",
       "    </tr>\n",
       "  </thead>\n",
       "  <tbody>\n",
       "    <tr>\n",
       "      <th>38939</th>\n",
       "      <td>28538</td>\n",
       "      <td>que</td>\n",
       "    </tr>\n",
       "    <tr>\n",
       "      <th>35173</th>\n",
       "      <td>24665</td>\n",
       "      <td>de</td>\n",
       "    </tr>\n",
       "    <tr>\n",
       "      <th>5075</th>\n",
       "      <td>21814</td>\n",
       "      <td>a</td>\n",
       "    </tr>\n",
       "    <tr>\n",
       "      <th>1056</th>\n",
       "      <td>21461</td>\n",
       "      <td>no</td>\n",
       "    </tr>\n",
       "    <tr>\n",
       "      <th>9938</th>\n",
       "      <td>20072</td>\n",
       "      <td>la</td>\n",
       "    </tr>\n",
       "    <tr>\n",
       "      <th>7325</th>\n",
       "      <td>19608</td>\n",
       "      <td>ja</td>\n",
       "    </tr>\n",
       "    <tr>\n",
       "      <th>0</th>\n",
       "      <td>19518</td>\n",
       "      <td></td>\n",
       "    </tr>\n",
       "    <tr>\n",
       "      <th>53492</th>\n",
       "      <td>19106</td>\n",
       "      <td>el</td>\n",
       "    </tr>\n",
       "    <tr>\n",
       "      <th>1808</th>\n",
       "      <td>17995</td>\n",
       "      <td>y</td>\n",
       "    </tr>\n",
       "    <tr>\n",
       "      <th>46312</th>\n",
       "      <td>14077</td>\n",
       "      <td>me</td>\n",
       "    </tr>\n",
       "    <tr>\n",
       "      <th>39039</th>\n",
       "      <td>13860</td>\n",
       "      <td>si</td>\n",
       "    </tr>\n",
       "    <tr>\n",
       "      <th>9320</th>\n",
       "      <td>13857</td>\n",
       "      <td>en</td>\n",
       "    </tr>\n",
       "    <tr>\n",
       "      <th>6597</th>\n",
       "      <td>11282</td>\n",
       "      <td>lo</td>\n",
       "    </tr>\n",
       "    <tr>\n",
       "      <th>13048</th>\n",
       "      <td>11092</td>\n",
       "      <td>es</td>\n",
       "    </tr>\n",
       "    <tr>\n",
       "      <th>49136</th>\n",
       "      <td>8883</td>\n",
       "      <td>se</td>\n",
       "    </tr>\n",
       "    <tr>\n",
       "      <th>33307</th>\n",
       "      <td>7679</td>\n",
       "      <td>un</td>\n",
       "    </tr>\n",
       "    <tr>\n",
       "      <th>4358</th>\n",
       "      <td>7628</td>\n",
       "      <td>te</td>\n",
       "    </tr>\n",
       "    <tr>\n",
       "      <th>7697</th>\n",
       "      <td>7310</td>\n",
       "      <td>para</td>\n",
       "    </tr>\n",
       "    <tr>\n",
       "      <th>40726</th>\n",
       "      <td>7232</td>\n",
       "      <td>yo</td>\n",
       "    </tr>\n",
       "    <tr>\n",
       "      <th>6255</th>\n",
       "      <td>7214</td>\n",
       "      <td>los</td>\n",
       "    </tr>\n",
       "  </tbody>\n",
       "</table>\n",
       "</div>"
      ],
      "text/plain": [
       "       counter  word\n",
       "38939    28538   que\n",
       "35173    24665    de\n",
       "5075     21814     a\n",
       "1056     21461    no\n",
       "9938     20072    la\n",
       "7325     19608    ja\n",
       "0        19518      \n",
       "53492    19106    el\n",
       "1808     17995     y\n",
       "46312    14077    me\n",
       "39039    13860    si\n",
       "9320     13857    en\n",
       "6597     11282    lo\n",
       "13048    11092    es\n",
       "49136     8883    se\n",
       "33307     7679    un\n",
       "4358      7628    te\n",
       "7697      7310  para\n",
       "40726     7232    yo\n",
       "6255      7214   los"
      ]
     },
     "execution_count": 59,
     "metadata": {},
     "output_type": "execute_result"
    }
   ],
   "source": [
    "new_df.sort_values('counter', ascending=False).head(20)"
   ]
  },
  {
   "cell_type": "code",
   "execution_count": 60,
   "metadata": {},
   "outputs": [
    {
     "data": {
      "text/html": [
       "<div>\n",
       "<style>\n",
       "    .dataframe thead tr:only-child th {\n",
       "        text-align: right;\n",
       "    }\n",
       "\n",
       "    .dataframe thead th {\n",
       "        text-align: left;\n",
       "    }\n",
       "\n",
       "    .dataframe tbody tr th {\n",
       "        vertical-align: top;\n",
       "    }\n",
       "</style>\n",
       "<table border=\"1\" class=\"dataframe\">\n",
       "  <thead>\n",
       "    <tr style=\"text-align: right;\">\n",
       "      <th></th>\n",
       "      <th>counter</th>\n",
       "      <th>word</th>\n",
       "    </tr>\n",
       "  </thead>\n",
       "  <tbody>\n",
       "    <tr>\n",
       "      <th>52203</th>\n",
       "      <td>11</td>\n",
       "      <td>confirmado</td>\n",
       "    </tr>\n",
       "    <tr>\n",
       "      <th>29930</th>\n",
       "      <td>11</td>\n",
       "      <td>jenny</td>\n",
       "    </tr>\n",
       "    <tr>\n",
       "      <th>29893</th>\n",
       "      <td>11</td>\n",
       "      <td>necesitando</td>\n",
       "    </tr>\n",
       "    <tr>\n",
       "      <th>5087</th>\n",
       "      <td>11</td>\n",
       "      <td>pagamos</td>\n",
       "    </tr>\n",
       "    <tr>\n",
       "      <th>5086</th>\n",
       "      <td>11</td>\n",
       "      <td>reis</td>\n",
       "    </tr>\n",
       "    <tr>\n",
       "      <th>29879</th>\n",
       "      <td>11</td>\n",
       "      <td>haa</td>\n",
       "    </tr>\n",
       "    <tr>\n",
       "      <th>37235</th>\n",
       "      <td>11</td>\n",
       "      <td>sumas</td>\n",
       "    </tr>\n",
       "    <tr>\n",
       "      <th>5030</th>\n",
       "      <td>11</td>\n",
       "      <td>chats</td>\n",
       "    </tr>\n",
       "    <tr>\n",
       "      <th>44326</th>\n",
       "      <td>11</td>\n",
       "      <td>sentimientos</td>\n",
       "    </tr>\n",
       "    <tr>\n",
       "      <th>4976</th>\n",
       "      <td>11</td>\n",
       "      <td>bolivia</td>\n",
       "    </tr>\n",
       "    <tr>\n",
       "      <th>4967</th>\n",
       "      <td>11</td>\n",
       "      <td>passenger</td>\n",
       "    </tr>\n",
       "    <tr>\n",
       "      <th>44500</th>\n",
       "      <td>11</td>\n",
       "      <td>contigo</td>\n",
       "    </tr>\n",
       "    <tr>\n",
       "      <th>44718</th>\n",
       "      <td>11</td>\n",
       "      <td>tv</td>\n",
       "    </tr>\n",
       "    <tr>\n",
       "      <th>29554</th>\n",
       "      <td>11</td>\n",
       "      <td>tono</td>\n",
       "    </tr>\n",
       "    <tr>\n",
       "      <th>44777</th>\n",
       "      <td>11</td>\n",
       "      <td>unicas</td>\n",
       "    </tr>\n",
       "    <tr>\n",
       "      <th>44136</th>\n",
       "      <td>11</td>\n",
       "      <td>1800</td>\n",
       "    </tr>\n",
       "    <tr>\n",
       "      <th>52661</th>\n",
       "      <td>11</td>\n",
       "      <td>ganan</td>\n",
       "    </tr>\n",
       "    <tr>\n",
       "      <th>52653</th>\n",
       "      <td>11</td>\n",
       "      <td>panda</td>\n",
       "    </tr>\n",
       "    <tr>\n",
       "      <th>29283</th>\n",
       "      <td>11</td>\n",
       "      <td>periodismo</td>\n",
       "    </tr>\n",
       "    <tr>\n",
       "      <th>44974</th>\n",
       "      <td>11</td>\n",
       "      <td>duran</td>\n",
       "    </tr>\n",
       "  </tbody>\n",
       "</table>\n",
       "</div>"
      ],
      "text/plain": [
       "       counter          word\n",
       "52203       11    confirmado\n",
       "29930       11         jenny\n",
       "29893       11   necesitando\n",
       "5087        11       pagamos\n",
       "5086        11          reis\n",
       "29879       11           haa\n",
       "37235       11         sumas\n",
       "5030        11         chats\n",
       "44326       11  sentimientos\n",
       "4976        11       bolivia\n",
       "4967        11     passenger\n",
       "44500       11       contigo\n",
       "44718       11            tv\n",
       "29554       11          tono\n",
       "44777       11        unicas\n",
       "44136       11          1800\n",
       "52661       11         ganan\n",
       "52653       11         panda\n",
       "29283       11    periodismo\n",
       "44974       11         duran"
      ]
     },
     "execution_count": 60,
     "metadata": {},
     "output_type": "execute_result"
    }
   ],
   "source": [
    "new_df.sort_values('counter').head(20)"
   ]
  },
  {
   "cell_type": "markdown",
   "metadata": {},
   "source": [
    "Por lo que quedarían 5507 palabras únicas... y las lista cobra sentido"
   ]
  }
 ],
 "metadata": {
  "kernelspec": {
   "display_name": "Python 3",
   "language": "python",
   "name": "python3"
  },
  "language_info": {
   "codemirror_mode": {
    "name": "ipython",
    "version": 3
   },
   "file_extension": ".py",
   "mimetype": "text/x-python",
   "name": "python",
   "nbconvert_exporter": "python",
   "pygments_lexer": "ipython3",
   "version": "3.5.2"
  }
 },
 "nbformat": 4,
 "nbformat_minor": 2
}
