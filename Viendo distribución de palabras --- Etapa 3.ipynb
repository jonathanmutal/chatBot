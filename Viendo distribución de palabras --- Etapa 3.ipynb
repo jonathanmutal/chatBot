{
 "cells": [
  {
   "cell_type": "markdown",
   "metadata": {},
   "source": [
    "## Algunos problemas con el texto"
   ]
  },
  {
   "cell_type": "markdown",
   "metadata": {},
   "source": [
    "Para entender un poco más el problema veremos la distribución de las palabras. Además esto nos va a ayudar a evitar problemas en un futuro."
   ]
  },
  {
   "cell_type": "code",
   "execution_count": 5,
   "metadata": {},
   "outputs": [],
   "source": [
    "from collections import Counter\n",
    "from itertools import chain"
   ]
  },
  {
   "cell_type": "code",
   "execution_count": 6,
   "metadata": {},
   "outputs": [],
   "source": [
    "distribution_words = Counter(chain.from_iterable(df.message.map(lambda x: x.split(' '))))"
   ]
  },
  {
   "cell_type": "code",
   "execution_count": 7,
   "metadata": {},
   "outputs": [],
   "source": [
    "df_distribution = pd.DataFrame(data={'word': list(distribution_words.keys()), 'counter': list(distribution_words.values())})"
   ]
  },
  {
   "cell_type": "markdown",
   "metadata": {},
   "source": [
    "Es decir el vocabulario total es alrededor de:"
   ]
  },
  {
   "cell_type": "code",
   "execution_count": 8,
   "metadata": {},
   "outputs": [
    {
     "data": {
      "text/plain": [
       "counter    94663\n",
       "word       94663\n",
       "dtype: int64"
      ]
     },
     "execution_count": 8,
     "metadata": {},
     "output_type": "execute_result"
    }
   ],
   "source": [
    "df_distribution.count()"
   ]
  },
  {
   "cell_type": "markdown",
   "metadata": {},
   "source": [
    "Por lo que las palabras menos vistas son"
   ]
  },
  {
   "cell_type": "code",
   "execution_count": 9,
   "metadata": {},
   "outputs": [
    {
     "data": {
      "text/html": [
       "<div>\n",
       "<style>\n",
       "    .dataframe thead tr:only-child th {\n",
       "        text-align: right;\n",
       "    }\n",
       "\n",
       "    .dataframe thead th {\n",
       "        text-align: left;\n",
       "    }\n",
       "\n",
       "    .dataframe tbody tr th {\n",
       "        vertical-align: top;\n",
       "    }\n",
       "</style>\n",
       "<table border=\"1\" class=\"dataframe\">\n",
       "  <thead>\n",
       "    <tr style=\"text-align: right;\">\n",
       "      <th></th>\n",
       "      <th>counter</th>\n",
       "      <th>word</th>\n",
       "    </tr>\n",
       "  </thead>\n",
       "  <tbody>\n",
       "    <tr>\n",
       "      <th>47331</th>\n",
       "      <td>1</td>\n",
       "      <td>lluviaaaa!</td>\n",
       "    </tr>\n",
       "    <tr>\n",
       "      <th>56560</th>\n",
       "      <td>1</td>\n",
       "      <td>enganchamos</td>\n",
       "    </tr>\n",
       "    <tr>\n",
       "      <th>56559</th>\n",
       "      <td>1</td>\n",
       "      <td>tatuadas</td>\n",
       "    </tr>\n",
       "    <tr>\n",
       "      <th>56557</th>\n",
       "      <td>1</td>\n",
       "      <td>venado</td>\n",
       "    </tr>\n",
       "    <tr>\n",
       "      <th>56556</th>\n",
       "      <td>1</td>\n",
       "      <td>uchi</td>\n",
       "    </tr>\n",
       "    <tr>\n",
       "      <th>56555</th>\n",
       "      <td>1</td>\n",
       "      <td>notebook?</td>\n",
       "    </tr>\n",
       "    <tr>\n",
       "      <th>56553</th>\n",
       "      <td>1</td>\n",
       "      <td>wooo</td>\n",
       "    </tr>\n",
       "    <tr>\n",
       "      <th>56561</th>\n",
       "      <td>1</td>\n",
       "      <td>edque</td>\n",
       "    </tr>\n",
       "    <tr>\n",
       "      <th>56552</th>\n",
       "      <td>1</td>\n",
       "      <td>Gin?😍</td>\n",
       "    </tr>\n",
       "    <tr>\n",
       "      <th>56550</th>\n",
       "      <td>1</td>\n",
       "      <td>anécdotas,</td>\n",
       "    </tr>\n",
       "    <tr>\n",
       "      <th>56549</th>\n",
       "      <td>1</td>\n",
       "      <td>rifas</td>\n",
       "    </tr>\n",
       "    <tr>\n",
       "      <th>56547</th>\n",
       "      <td>1</td>\n",
       "      <td>pásale</td>\n",
       "    </tr>\n",
       "    <tr>\n",
       "      <th>56543</th>\n",
       "      <td>1</td>\n",
       "      <td>\"Minotauro</td>\n",
       "    </tr>\n",
       "    <tr>\n",
       "      <th>56541</th>\n",
       "      <td>1</td>\n",
       "      <td>lendas</td>\n",
       "    </tr>\n",
       "    <tr>\n",
       "      <th>56540</th>\n",
       "      <td>1</td>\n",
       "      <td>https://youtu.be/sldlwZXDVIA</td>\n",
       "    </tr>\n",
       "    <tr>\n",
       "      <th>56551</th>\n",
       "      <td>1</td>\n",
       "      <td>rajen</td>\n",
       "    </tr>\n",
       "    <tr>\n",
       "      <th>56538</th>\n",
       "      <td>1</td>\n",
       "      <td>🤔jaja</td>\n",
       "    </tr>\n",
       "    <tr>\n",
       "      <th>56562</th>\n",
       "      <td>1</td>\n",
       "      <td>*PARECE*...no</td>\n",
       "    </tr>\n",
       "    <tr>\n",
       "      <th>56564</th>\n",
       "      <td>1</td>\n",
       "      <td>proximo,</td>\n",
       "    </tr>\n",
       "    <tr>\n",
       "      <th>56586</th>\n",
       "      <td>1</td>\n",
       "      <td>haciéndole</td>\n",
       "    </tr>\n",
       "  </tbody>\n",
       "</table>\n",
       "</div>"
      ],
      "text/plain": [
       "       counter                          word\n",
       "47331        1                    lluviaaaa!\n",
       "56560        1                   enganchamos\n",
       "56559        1                      tatuadas\n",
       "56557        1                        venado\n",
       "56556        1                          uchi\n",
       "56555        1                     notebook?\n",
       "56553        1                          wooo\n",
       "56561        1                         edque\n",
       "56552        1                         Gin?😍\n",
       "56550        1                    anécdotas,\n",
       "56549        1                         rifas\n",
       "56547        1                        pásale\n",
       "56543        1                    \"Minotauro\n",
       "56541        1                        lendas\n",
       "56540        1  https://youtu.be/sldlwZXDVIA\n",
       "56551        1                         rajen\n",
       "56538        1                         🤔jaja\n",
       "56562        1                 *PARECE*...no\n",
       "56564        1                      proximo,\n",
       "56586        1                    haciéndole"
      ]
     },
     "execution_count": 9,
     "metadata": {},
     "output_type": "execute_result"
    }
   ],
   "source": [
    "df_distribution.sort_values('counter').head(20)"
   ]
  },
  {
   "cell_type": "markdown",
   "metadata": {},
   "source": [
    "Pero las más vistas son:"
   ]
  },
  {
   "cell_type": "code",
   "execution_count": 10,
   "metadata": {},
   "outputs": [
    {
     "data": {
      "text/html": [
       "<div>\n",
       "<style>\n",
       "    .dataframe thead tr:only-child th {\n",
       "        text-align: right;\n",
       "    }\n",
       "\n",
       "    .dataframe thead th {\n",
       "        text-align: left;\n",
       "    }\n",
       "\n",
       "    .dataframe tbody tr th {\n",
       "        vertical-align: top;\n",
       "    }\n",
       "</style>\n",
       "<table border=\"1\" class=\"dataframe\">\n",
       "  <thead>\n",
       "    <tr style=\"text-align: right;\">\n",
       "      <th></th>\n",
       "      <th>counter</th>\n",
       "      <th>word</th>\n",
       "    </tr>\n",
       "  </thead>\n",
       "  <tbody>\n",
       "    <tr>\n",
       "      <th>39989</th>\n",
       "      <td>23779</td>\n",
       "      <td>que</td>\n",
       "    </tr>\n",
       "    <tr>\n",
       "      <th>14716</th>\n",
       "      <td>22955</td>\n",
       "      <td>de</td>\n",
       "    </tr>\n",
       "    <tr>\n",
       "      <th>37685</th>\n",
       "      <td>19199</td>\n",
       "      <td>a</td>\n",
       "    </tr>\n",
       "    <tr>\n",
       "      <th>7492</th>\n",
       "      <td>18160</td>\n",
       "      <td>la</td>\n",
       "    </tr>\n",
       "    <tr>\n",
       "      <th>20712</th>\n",
       "      <td>16656</td>\n",
       "      <td>el</td>\n",
       "    </tr>\n",
       "    <tr>\n",
       "      <th>27099</th>\n",
       "      <td>14493</td>\n",
       "      <td>no</td>\n",
       "    </tr>\n",
       "    <tr>\n",
       "      <th>24102</th>\n",
       "      <td>12603</td>\n",
       "      <td>y</td>\n",
       "    </tr>\n",
       "    <tr>\n",
       "      <th>38126</th>\n",
       "      <td>12046</td>\n",
       "      <td>en</td>\n",
       "    </tr>\n",
       "    <tr>\n",
       "      <th>47482</th>\n",
       "      <td>11407</td>\n",
       "      <td>omitido&gt;</td>\n",
       "    </tr>\n",
       "    <tr>\n",
       "      <th>41287</th>\n",
       "      <td>11407</td>\n",
       "      <td>&lt;Archivo</td>\n",
       "    </tr>\n",
       "    <tr>\n",
       "      <th>86804</th>\n",
       "      <td>11058</td>\n",
       "      <td>me</td>\n",
       "    </tr>\n",
       "    <tr>\n",
       "      <th>24991</th>\n",
       "      <td>9894</td>\n",
       "      <td>lo</td>\n",
       "    </tr>\n",
       "    <tr>\n",
       "      <th>62427</th>\n",
       "      <td>8425</td>\n",
       "      <td>es</td>\n",
       "    </tr>\n",
       "    <tr>\n",
       "      <th>43626</th>\n",
       "      <td>7218</td>\n",
       "      <td>un</td>\n",
       "    </tr>\n",
       "    <tr>\n",
       "      <th>72689</th>\n",
       "      <td>6895</td>\n",
       "      <td>se</td>\n",
       "    </tr>\n",
       "    <tr>\n",
       "      <th>38996</th>\n",
       "      <td>6624</td>\n",
       "      <td>los</td>\n",
       "    </tr>\n",
       "    <tr>\n",
       "      <th>50039</th>\n",
       "      <td>6489</td>\n",
       "      <td>si</td>\n",
       "    </tr>\n",
       "    <tr>\n",
       "      <th>72939</th>\n",
       "      <td>6233</td>\n",
       "      <td>para</td>\n",
       "    </tr>\n",
       "    <tr>\n",
       "      <th>58758</th>\n",
       "      <td>5980</td>\n",
       "      <td>te</td>\n",
       "    </tr>\n",
       "    <tr>\n",
       "      <th>85309</th>\n",
       "      <td>5884</td>\n",
       "      <td>con</td>\n",
       "    </tr>\n",
       "  </tbody>\n",
       "</table>\n",
       "</div>"
      ],
      "text/plain": [
       "       counter      word\n",
       "39989    23779       que\n",
       "14716    22955        de\n",
       "37685    19199         a\n",
       "7492     18160        la\n",
       "20712    16656        el\n",
       "27099    14493        no\n",
       "24102    12603         y\n",
       "38126    12046        en\n",
       "47482    11407  omitido>\n",
       "41287    11407  <Archivo\n",
       "86804    11058        me\n",
       "24991     9894        lo\n",
       "62427     8425        es\n",
       "43626     7218        un\n",
       "72689     6895        se\n",
       "38996     6624       los\n",
       "50039     6489        si\n",
       "72939     6233      para\n",
       "58758     5980        te\n",
       "85309     5884       con"
      ]
     },
     "execution_count": 10,
     "metadata": {},
     "output_type": "execute_result"
    }
   ],
   "source": [
    "df_distribution.sort_values('counter', ascending=False).head(20)"
   ]
  },
  {
   "cell_type": "markdown",
   "metadata": {},
   "source": [
    "Al querer hacer un gráfico de caja, nos dimos cuenta que la media en la distribución de palabras era 1..."
   ]
  },
  {
   "cell_type": "code",
   "execution_count": 11,
   "metadata": {},
   "outputs": [
    {
     "data": {
      "text/plain": [
       "1.0"
      ]
     },
     "execution_count": 11,
     "metadata": {},
     "output_type": "execute_result"
    }
   ],
   "source": [
    "df_distribution.counter.median()"
   ]
  },
  {
   "cell_type": "markdown",
   "metadata": {},
   "source": [
    "Pues luego de ver esa que la media era 1, nos preguntamos...\n",
    "   - ¿Cuántas palabras hay con una sóla aparición? Son útiles o no?"
   ]
  },
  {
   "cell_type": "code",
   "execution_count": 12,
   "metadata": {},
   "outputs": [
    {
     "data": {
      "text/plain": [
       "counter    0.655504\n",
       "word       0.655504\n",
       "dtype: float64"
      ]
     },
     "execution_count": 12,
     "metadata": {},
     "output_type": "execute_result"
    }
   ],
   "source": [
    "sum(df_distribution.counter == 1) / df_distribution.count()"
   ]
  },
  {
   "cell_type": "markdown",
   "metadata": {},
   "source": [
    "Vemos que hay alrededor de un 65% de palabras que aparecen una sóla vez... esto puede causar que la **vectorización no sea tan representativa como queremos...**\n",
    "\n",
    "Problemas que vimos:\n",
    "   - Al ser mensajes instantaneos, por lo general las personas no se preocupan con la ortográfia ni la forma de escribir.\n",
    "   - Muchos tipos de mismas palabras, por ejemplo jajaja = jaja, dale = daleee.\n",
    "   - _Arhivo omitido_ como media no es útil.\n",
    "   - Puntaciones son inútiles para el problema (no ayudan en nada)"
   ]
  },
  {
   "cell_type": "code",
   "execution_count": null,
   "metadata": {},
   "outputs": [],
   "source": [
    "STOP_WORDS = punctuation\n",
    "\n",
    "def remove_media(text):\n",
    "    return re.sub('<Archivo omitido>', '', text)\n",
    "\n",
    "def remove_dale(text):\n",
    "    return re.sub('d[a]+l[e]+', 'dale', text)\n",
    "\n",
    "def remove_ok(text):\n",
    "    return re.sub('(ok)+[a-zA-Z]*', 'ok', text)\n",
    "\n",
    "def remove_si(text):\n",
    "    return re.sub('(s[ií]+)+', 'si', text)\n",
    "\n",
    "def remove_sw(text):\n",
    "    return re.sub('{1}{0}{1}'.format(STOP_WORDS, '[]'), '', text).lower()\n",
    "\n",
    "def remove_ja(text):\n",
    "    return re.sub('(ja[ajs]*)+', 'ja', text)\n",
    "\n",
    "def clean_text(text):\n",
    "    return remove_dale(remove_si(remove_ok(remove_ja(remove_sw(text)))))"
   ]
  },
  {
   "cell_type": "code",
   "execution_count": null,
   "metadata": {},
   "outputs": [],
   "source": []
  }
 ],
 "metadata": {
  "kernelspec": {
   "display_name": "Python 3",
   "language": "python",
   "name": "python3"
  },
  "language_info": {
   "codemirror_mode": {
    "name": "ipython",
    "version": 3
   },
   "file_extension": ".py",
   "mimetype": "text/x-python",
   "name": "python",
   "nbconvert_exporter": "python",
   "pygments_lexer": "ipython3",
   "version": "3.5.2"
  }
 },
 "nbformat": 4,
 "nbformat_minor": 2
}
