{
 "cells": [
  {
   "cell_type": "markdown",
   "metadata": {},
   "source": [
    "# Entendiendo el problema"
   ]
  },
  {
   "cell_type": "markdown",
   "metadata": {},
   "source": [
    "Como ya sabemos queremos hacer un bot automatico de respuestas cortas para algunas IM. \n",
    "\n",
    "Aquí vienen un par preguntas:\n",
    "   - ¿Que tipo de respuestas dara nuestro bot?\n",
    "   - ¿Como podemos encarar este problema de la mejor manera posible?\n",
    "\n",
    "Para poder contestar estas preguntas hay que ver los datos que tenemos hasta ahora."
   ]
  },
  {
   "cell_type": "code",
   "execution_count": 1,
   "metadata": {},
   "outputs": [],
   "source": [
    "import pandas as pd\n",
    "import csv"
   ]
  },
  {
   "cell_type": "code",
   "execution_count": 2,
   "metadata": {},
   "outputs": [],
   "source": [
    "df = pd.read_csv('corpus.csv')"
   ]
  },
  {
   "cell_type": "code",
   "execution_count": 3,
   "metadata": {},
   "outputs": [
    {
     "data": {
      "text/html": [
       "<div>\n",
       "<style>\n",
       "    .dataframe thead tr:only-child th {\n",
       "        text-align: right;\n",
       "    }\n",
       "\n",
       "    .dataframe thead th {\n",
       "        text-align: left;\n",
       "    }\n",
       "\n",
       "    .dataframe tbody tr th {\n",
       "        vertical-align: top;\n",
       "    }\n",
       "</style>\n",
       "<table border=\"1\" class=\"dataframe\">\n",
       "  <thead>\n",
       "    <tr style=\"text-align: right;\">\n",
       "      <th></th>\n",
       "      <th>id</th>\n",
       "      <th>owner</th>\n",
       "      <th>date</th>\n",
       "      <th>hour</th>\n",
       "      <th>message</th>\n",
       "    </tr>\n",
       "  </thead>\n",
       "  <tbody>\n",
       "    <tr>\n",
       "      <th>0</th>\n",
       "      <td>1</td>\n",
       "      <td>USER0</td>\n",
       "      <td>1/27/16</td>\n",
       "      <td>12:24</td>\n",
       "      <td>&lt;Media omitted&gt;</td>\n",
       "    </tr>\n",
       "    <tr>\n",
       "      <th>1</th>\n",
       "      <td>1</td>\n",
       "      <td>USER0</td>\n",
       "      <td>2/4/16</td>\n",
       "      <td>09:50</td>\n",
       "      <td>Lee Esta Historia!          . Una mujer muy en...</td>\n",
       "    </tr>\n",
       "    <tr>\n",
       "      <th>2</th>\n",
       "      <td>1</td>\n",
       "      <td>USER0</td>\n",
       "      <td>4/4/16</td>\n",
       "      <td>11:28</td>\n",
       "      <td>Hola Dani!vos sabes a donde venden fotocopiado...</td>\n",
       "    </tr>\n",
       "    <tr>\n",
       "      <th>3</th>\n",
       "      <td>1</td>\n",
       "      <td>USER1</td>\n",
       "      <td>4/4/16</td>\n",
       "      <td>11:37</td>\n",
       "      <td>Le pregunto a mi jefe</td>\n",
       "    </tr>\n",
       "    <tr>\n",
       "      <th>4</th>\n",
       "      <td>1</td>\n",
       "      <td>USER0</td>\n",
       "      <td>4/4/16</td>\n",
       "      <td>11:38</td>\n",
       "      <td>Gracias!!!!Para cuando sabes?</td>\n",
       "    </tr>\n",
       "    <tr>\n",
       "      <th>5</th>\n",
       "      <td>1</td>\n",
       "      <td>USER0</td>\n",
       "      <td>4/4/16</td>\n",
       "      <td>11:38</td>\n",
       "      <td>💃</td>\n",
       "    </tr>\n",
       "    <tr>\n",
       "      <th>6</th>\n",
       "      <td>1</td>\n",
       "      <td>USER1</td>\n",
       "      <td>4/4/16</td>\n",
       "      <td>11:40</td>\n",
       "      <td>Le pregunto ahora a ver si sabe algo :P</td>\n",
       "    </tr>\n",
       "    <tr>\n",
       "      <th>7</th>\n",
       "      <td>1</td>\n",
       "      <td>USER0</td>\n",
       "      <td>4/4/16</td>\n",
       "      <td>11:59</td>\n",
       "      <td>👏👏👏👏👏</td>\n",
       "    </tr>\n",
       "    <tr>\n",
       "      <th>8</th>\n",
       "      <td>1</td>\n",
       "      <td>USER0</td>\n",
       "      <td>4/6/16</td>\n",
       "      <td>08:46</td>\n",
       "      <td>✳Whatsapp le comunica, . que debido a la canti...</td>\n",
       "    </tr>\n",
       "    <tr>\n",
       "      <th>9</th>\n",
       "      <td>1</td>\n",
       "      <td>USER1</td>\n",
       "      <td>4/6/16</td>\n",
       "      <td>08:46</td>\n",
       "      <td>Jajaja</td>\n",
       "    </tr>\n",
       "  </tbody>\n",
       "</table>\n",
       "</div>"
      ],
      "text/plain": [
       "   id  owner     date   hour  \\\n",
       "0   1  USER0  1/27/16  12:24   \n",
       "1   1  USER0   2/4/16  09:50   \n",
       "2   1  USER0   4/4/16  11:28   \n",
       "3   1  USER1   4/4/16  11:37   \n",
       "4   1  USER0   4/4/16  11:38   \n",
       "5   1  USER0   4/4/16  11:38   \n",
       "6   1  USER1   4/4/16  11:40   \n",
       "7   1  USER0   4/4/16  11:59   \n",
       "8   1  USER0   4/6/16  08:46   \n",
       "9   1  USER1   4/6/16  08:46   \n",
       "\n",
       "                                             message  \n",
       "0                                    <Media omitted>  \n",
       "1  Lee Esta Historia!          . Una mujer muy en...  \n",
       "2  Hola Dani!vos sabes a donde venden fotocopiado...  \n",
       "3                              Le pregunto a mi jefe  \n",
       "4                      Gracias!!!!Para cuando sabes?  \n",
       "5                                                  💃  \n",
       "6            Le pregunto ahora a ver si sabe algo :P  \n",
       "7                                              👏👏👏👏👏  \n",
       "8  ✳Whatsapp le comunica, . que debido a la canti...  \n",
       "9                                             Jajaja  "
      ]
     },
     "execution_count": 3,
     "metadata": {},
     "output_type": "execute_result"
    }
   ],
   "source": [
    "df.head(10)"
   ]
  },
  {
   "cell_type": "markdown",
   "metadata": {},
   "source": [
    "Uno pensaría que los datos no son de mucha utilidad, sin embargo después de discutir un largo rato decidimos encarar el problema como si fuera un problema de machine learning supervisado donde el contexto de los mensajes serían los datos entrenamiento y como etiquetas las respuestas cortas.\n",
    "\n",
    "Perfecto! Ya sabemos como encararlo... pero antes de empezar debemos aclarar un par definiciones:\n",
    "\n",
    "   - ¿que es una respuesta corta? cualquier turno (de diálogo) hasta 3 palabras que ocurren por lo menos n veces en el corpus. Haremos varios experimentos con diferentes longitud de respuestas cortas.\n",
    "   - ¿que es el contexto de una respuesta corta? El contexto de una respuesta corta son los mensajes que ocurren t turnos anteriores a una respuesta corta."
   ]
  },
  {
   "cell_type": "markdown",
   "metadata": {},
   "source": [
    "## Etiquetando los contextos"
   ]
  },
  {
   "cell_type": "markdown",
   "metadata": {},
   "source": [
    "### Respecto a una respuesta corta"
   ]
  },
  {
   "cell_type": "markdown",
   "metadata": {},
   "source": [
    "Una vez definido el problema, podemos empezar a etiquetar los contextos.\n",
    "\n",
    "Al principio diferenciaremos los etiquetados según el tamaño de respuestas: \n",
    "   - respuesta cortas hasta 1 a 3 palabras"
   ]
  },
  {
   "cell_type": "markdown",
   "metadata": {},
   "source": [
    "Empezaremos a etiquetar los contextos sin importar los turnos. Para ello seguiremos un par de suposiciones:\n",
    "   -  Si hay una respuesta corta:\n",
    "       - Si esta en el mismo chat:\n",
    "             - si no es la misma persona que escribe quiere decir que hubo una respuesta corta. Agregamos esta respuesta corta al contexto siguiente.\n",
    "             - si es la misma persona que escribe la respuesta corta i.e. escribe una respuesta larga y luego una respuesta corta agregamos al contexto.\n",
    "       - Si esta en diferente chat etiquetamos como nonDef debido a que no hubo una respuesta corta después de todo.\n",
    "   - Si es una respuesta larga:\n",
    "        - Si esta en el mismo chat se agrega al contexto\n",
    "        - Si no esta, el contexto anterior lo etiquetamos como nondef"
   ]
  },
  {
   "cell_type": "code",
   "execution_count": 4,
   "metadata": {},
   "outputs": [],
   "source": [
    "def is_short(answer, short_answer):\n",
    "    \"\"\"\n",
    "    is short answer?\n",
    "    \"\"\"\n",
    "    return len(answer.split(' ')) <= short_answer\n",
    "\n",
    "def is_same_owner(own1, own2):\n",
    "    \"\"\"\n",
    "    return whenever own1 is the same as own2\n",
    "    \"\"\"\n",
    "    return own1==own2\n",
    "\n",
    "def is_same_chat(idc1, idc2):\n",
    "    \"\"\"\n",
    "    Is it the same chat?\n",
    "    \"\"\"\n",
    "    return idc1 == idc2"
   ]
  },
  {
   "cell_type": "code",
   "execution_count": 5,
   "metadata": {},
   "outputs": [],
   "source": [
    "fieldnames = ['idchat', 'context', 'label']\n",
    "\n",
    "def label_the_data(filename, short_answer):\n",
    "    with open(filename, 'w') as csvfile:\n",
    "        writer = csv.DictWriter(csvfile, fieldnames=fieldnames, delimiter=',', quotechar='\"', quoting=csv.QUOTE_ALL)\n",
    "        writer.writeheader()\n",
    "\n",
    "        last_owner = ''\n",
    "        last_chat = 0\n",
    "        row = {'idchat': 0, 'context': '', 'label': ''}\n",
    "        for actual_chat, owner, date, hour, text in df.values:\n",
    "            if is_short(text, short_answer):\n",
    "                # respuesta corta\n",
    "                if is_same_chat(actual_chat, last_chat):\n",
    "                    # es el mismo chat\n",
    "                    if not is_same_owner(last_owner, owner):\n",
    "                        # si no es la misma persona que escribe quiere decir que hubo una respuesta (en este caso corta).\n",
    "                        # el label será la respuesta en sí. Empezará un contexto nuevo de la otra persona.\n",
    "                        row['label'] = text\n",
    "                        writer.writerow(row)\n",
    "                        row['context'] = text\n",
    "                    else:\n",
    "                        row['context'] += '. ' + text\n",
    "                else:\n",
    "                    # diferente chat\n",
    "                    row['label'] = 'nonDef'\n",
    "                    writer.writerow(row)\n",
    "                    row['context'] = text\n",
    "                        \n",
    "            else:\n",
    "                # respuesta larga\n",
    "                if is_same_chat(actual_chat, last_chat):\n",
    "                    # es el mismo chat\n",
    "                    row['context'] += '. ' + text\n",
    "                else: \n",
    "                    # es diferente chat\n",
    "                    row['label'] = 'nonDef'\n",
    "                    writer.writerow(row)\n",
    "                    row['context'] = text\n",
    "\n",
    "            row['idchat'] = actual_chat\n",
    "            last_owner = owner\n",
    "            last_chat = actual_chat"
   ]
  },
  {
   "cell_type": "code",
   "execution_count": 6,
   "metadata": {},
   "outputs": [],
   "source": [
    "label_the_data('short_ans1.csv', 1)\n",
    "label_the_data('short_ans2.csv', 2)\n",
    "label_the_data('short_ans3.csv', 3)"
   ]
  },
  {
   "cell_type": "markdown",
   "metadata": {},
   "source": [
    "### Respecto a los turnos anteriores"
   ]
  },
  {
   "cell_type": "markdown",
   "metadata": {},
   "source": [
    "Luego etiquetaremos de acuerdo a los turnos, es decir eligiremos el contexto de acuerdo con:\n",
    "   - el turno inmediatamente anterior de respuesta corta\n",
    "   - los 3 turnos inmediatamente anteriores de respuesta corta\n",
    "   - los 10 turnos inmediatamente anteriores de respuesta corta"
   ]
  },
  {
   "cell_type": "code",
   "execution_count": 7,
   "metadata": {},
   "outputs": [],
   "source": [
    "# Ventana de 10 conversaciones\n",
    "def label_with_turn(filename, frame, short_ans):\n",
    "    with open(filename, 'w', newline='') as csvfile:\n",
    "        fieldnames = ['context', 'label']\n",
    "        writer = csv.DictWriter(csvfile, fieldnames=fieldnames, dialect='unix')\n",
    "        writer.writeheader()\n",
    "\n",
    "        # No uso el datetime\n",
    "        # Tampoco tengo en cuenta el usuario que escribe\n",
    "        row = {'id_chat': 0, 'context': '', 'label': ''}\n",
    "        context = []\n",
    "        for idc, owner, data, hour, text in df.values:\n",
    "            if is_short(text, short_ans):\n",
    "                row['label'] = text\n",
    "                row['context'] = ' '.join(context)\n",
    "                writer.writerow(row)\n",
    "                context = []\n",
    "\n",
    "            # Descartamos la primer conversación en la lista \n",
    "            # y agregamos la última \n",
    "            if len(context) == frame:\n",
    "                context = context[1:]\n",
    "                context.append(text)\n",
    "            else:\n",
    "                context.append(text)"
   ]
  },
  {
   "cell_type": "code",
   "execution_count": 8,
   "metadata": {},
   "outputs": [],
   "source": [
    "label_with_turn('turn1_short1', 1, 1)\n",
    "label_with_turn('turn1_short2', 1, 2)\n",
    "label_with_turn('turn1_short3', 1, 3)\n",
    "label_with_turn('turn3_short1', 3, 1)\n",
    "label_with_turn('turn3_short2', 3, 2)\n",
    "label_with_turn('turn3_short3', 3, 3)\n",
    "label_with_turn('turn10_short1', 10, 1)\n",
    "label_with_turn('turn10_short2', 10, 2)\n",
    "label_with_turn('turn10_short3', 10, 3)"
   ]
  },
  {
   "cell_type": "code",
   "execution_count": null,
   "metadata": {},
   "outputs": [],
   "source": []
  }
 ],
 "metadata": {
  "kernelspec": {
   "display_name": "Python 3",
   "language": "python",
   "name": "python3"
  },
  "language_info": {
   "codemirror_mode": {
    "name": "ipython",
    "version": 3
   },
   "file_extension": ".py",
   "mimetype": "text/x-python",
   "name": "python",
   "nbconvert_exporter": "python",
   "pygments_lexer": "ipython3",
   "version": "3.6.2"
  }
 },
 "nbformat": 4,
 "nbformat_minor": 2
}
