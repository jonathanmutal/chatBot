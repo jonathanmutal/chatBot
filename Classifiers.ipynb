{
 "cells": [
  {
   "cell_type": "markdown",
   "metadata": {},
   "source": [
    "# NAIVE BAYES"
   ]
  },
  {
   "cell_type": "markdown",
   "metadata": {},
   "source": [
    "Firstly we can try with two categories: 'ja' and others :p"
   ]
  },
  {
   "cell_type": "code",
   "execution_count": 117,
   "metadata": {
    "collapsed": true
   },
   "outputs": [],
   "source": [
    "import numpy as np\n",
    "\n",
    "from collections import defaultdict\n",
    "\n",
    "from string import punctuation\n",
    "\n",
    "from sklearn.feature_extraction.text import TfidfTransformer\n",
    "from sklearn.feature_extraction.text import CountVectorizer\n",
    "\n",
    "from sklearn.naive_bayes import MultinomialNB\n",
    "\n",
    "from sklearn.pipeline import Pipeline"
   ]
  },
  {
   "cell_type": "code",
   "execution_count": 73,
   "metadata": {},
   "outputs": [],
   "source": [
    "STOP_WORDS = punctuation\n",
    "# for N-gram\n",
    "N = 2"
   ]
  },
  {
   "cell_type": "code",
   "execution_count": 120,
   "metadata": {},
   "outputs": [
    {
     "data": {
      "text/plain": [
       "[(3, 'si'),\n",
       " (4, 'ja'),\n",
       " (20, 'ja'),\n",
       " (21, 'ja'),\n",
       " (22, 'ja'),\n",
       " (27, 'ja'),\n",
       " (29, 'ja'),\n",
       " (35, 'si'),\n",
       " (36, 'si'),\n",
       " (38, 'si'),\n",
       " (43, 'ja'),\n",
       " (48, 'ja'),\n",
       " (60, 'ja'),\n",
       " (69, 'si'),\n",
       " (78, 'ja'),\n",
       " (85, 'ja'),\n",
       " (86, 'ja'),\n",
       " (90, 'ja'),\n",
       " (91, 'ja'),\n",
       " (95, 'ja'),\n",
       " (100, 'ja'),\n",
       " (101, 'si'),\n",
       " (103, 'ja'),\n",
       " (108, 'ja'),\n",
       " (109, 'ja'),\n",
       " (110, 'ja'),\n",
       " (111, 'ja'),\n",
       " (112, 'ja'),\n",
       " (113, 'si'),\n",
       " (114, 'ja'),\n",
       " (115, 'si'),\n",
       " (116, 'ja'),\n",
       " (119, 'ja'),\n",
       " (121, 'ja'),\n",
       " (122, 'si'),\n",
       " (123, 'ja'),\n",
       " (128, 'si'),\n",
       " (130, 'si'),\n",
       " (132, 'si'),\n",
       " (145, 'ja'),\n",
       " (150, 'ja'),\n",
       " (151, 'ja'),\n",
       " (152, 'si'),\n",
       " (161, 'ja'),\n",
       " (162, 'ja'),\n",
       " (163, 'ja'),\n",
       " (165, 'ja'),\n",
       " (168, 'ja'),\n",
       " (169, 'ja'),\n",
       " (171, 'ja'),\n",
       " (182, 'ja'),\n",
       " (191, 'ja'),\n",
       " (192, 'ja'),\n",
       " (194, 'ja'),\n",
       " (195, 'ja'),\n",
       " (196, 'ja'),\n",
       " (199, 'si'),\n",
       " (200, 'ja'),\n",
       " (201, 'ja'),\n",
       " (203, 'ja'),\n",
       " (205, 'ja'),\n",
       " (206, 'ja'),\n",
       " (207, 'ja'),\n",
       " (212, 'si'),\n",
       " (213, 'ja'),\n",
       " (215, 'ja'),\n",
       " (221, 'ja'),\n",
       " (224, 'si'),\n",
       " (225, 'si'),\n",
       " (226, 'ja'),\n",
       " (237, 'si'),\n",
       " (238, 'ja'),\n",
       " (240, 'si'),\n",
       " (241, 'si'),\n",
       " (249, 'ja'),\n",
       " (250, 'ja'),\n",
       " (251, 'ja'),\n",
       " (252, 'ja'),\n",
       " (255, 'ja'),\n",
       " (260, 'ja'),\n",
       " (265, 'si'),\n",
       " (266, 'ja'),\n",
       " (268, 'ja'),\n",
       " (269, 'ja'),\n",
       " (270, 'ja'),\n",
       " (277, 'si'),\n",
       " (279, 'si'),\n",
       " (280, 'si'),\n",
       " (281, 'ja'),\n",
       " (284, 'ja'),\n",
       " (285, 'ja'),\n",
       " (286, 'ja'),\n",
       " (287, 'si'),\n",
       " (290, 'ja'),\n",
       " (292, 'si'),\n",
       " (293, 'ja'),\n",
       " (299, 'ja'),\n",
       " (301, 'ja'),\n",
       " (305, 'ja'),\n",
       " (307, 'ja'),\n",
       " (310, 'si'),\n",
       " (313, 'ja'),\n",
       " (315, 'ja'),\n",
       " (316, 'si'),\n",
       " (318, 'ja'),\n",
       " (319, 'ja'),\n",
       " (321, 'ja'),\n",
       " (324, 'si'),\n",
       " (326, 'si'),\n",
       " (329, 'ja'),\n",
       " (331, 'ja'),\n",
       " (332, 'ja'),\n",
       " (337, 'si'),\n",
       " (338, 'si'),\n",
       " (340, 'ja'),\n",
       " (348, 'ja'),\n",
       " (356, 'ja'),\n",
       " (360, 'si'),\n",
       " (362, 'ja'),\n",
       " (363, 'ja'),\n",
       " (365, 'ja'),\n",
       " (367, 'ja'),\n",
       " (368, 'ja'),\n",
       " (371, 'ja'),\n",
       " (372, 'si'),\n",
       " (373, 'ja'),\n",
       " (380, 'ja'),\n",
       " (382, 'si')]"
      ]
     },
     "execution_count": 120,
     "metadata": {},
     "output_type": "execute_result"
    }
   ],
   "source": [
    "train_data = []\n",
    "target_data = []\n",
    "\n",
    "with open('corpus2.csv', 'r') as csvfile:\n",
    "    reader = csv.DictReader(csvfile)\n",
    "    for row in reader:\n",
    "        target = row['label']\n",
    "        train = row['context']\n",
    "\n",
    "        if 'ha' in target or 'ja' in target:\n",
    "            target_data.append('ja')\n",
    "        elif 'si' in target:\n",
    "            target_data.append('si')\n",
    "        else:\n",
    "            target_data.append('?')\n",
    "\n",
    "        train_data.append(train)\n",
    "list(filter(lambda x: x[1] != '?', enumerate(target_data)))"
   ]
  },
  {
   "cell_type": "code",
   "execution_count": 111,
   "metadata": {},
   "outputs": [],
   "source": [
    "text_clf = Pipeline([('vect', CountVectorizer(strip_accents='unicode', ngram_range=(N,N))),\n",
    "                      ('tfidf', TfidfTransformer()),\n",
    "                      ('clf', MultinomialNB()),\n",
    "])\n",
    "naive_bayes = text_clf.fit(train_data, target_data)"
   ]
  },
  {
   "cell_type": "code",
   "execution_count": 123,
   "metadata": {},
   "outputs": [
    {
     "data": {
      "text/plain": [
       "array(['?', '?', '?', '?', 'ja', '?', '?', '?', '?', '?', '?', '?', '?',\n",
       "       '?', '?', '?', '?', '?', '?', '?', 'ja', '?', 'ja', '?', '?', '?',\n",
       "       '?', '?', '?', '?', '?', '?', '?', '?', '?', '?', '?', '?', '?',\n",
       "       '?', '?', '?', '?', '?', '?', '?', '?', '?', '?', '?', '?', '?',\n",
       "       '?', '?', '?', '?', '?', '?', '?', '?', 'ja', '?', '?', '?', '?',\n",
       "       '?', '?', '?', '?', '?', '?', '?', '?', '?', '?', '?', '?', '?',\n",
       "       '?', '?', '?', '?', '?', '?', '?', 'ja', '?', '?', '?', '?', 'ja',\n",
       "       '?', '?', '?', '?', 'ja', '?', '?', '?', '?', '?', '?', '?', 'ja',\n",
       "       '?', '?', '?', '?', '?', 'ja', '?', 'ja', '?', '?', 'ja', '?', 'ja',\n",
       "       '?', '?', '?', '?', '?', '?', '?', '?', '?', '?', '?', '?', '?',\n",
       "       '?', '?', '?', '?', '?', '?', '?', '?', '?', '?', '?', '?', '?',\n",
       "       '?', '?', '?', '?', '?', '?', '?', '?', '?', '?', '?', '?', '?',\n",
       "       '?', '?', '?', '?', '?', '?', '?', '?', '?', '?', '?', '?', '?',\n",
       "       '?', '?', '?', '?', '?', '?', '?', '?', '?', '?', '?', '?', '?',\n",
       "       '?', '?', '?', '?', '?', '?', '?', '?', '?', '?', 'ja', '?', 'ja',\n",
       "       '?', '?', '?', '?', '?', 'ja', 'ja', '?', '?', '?', '?', '?', '?',\n",
       "       '?', '?', '?', '?', '?', 'ja', '?', '?', '?', '?', '?', '?', '?',\n",
       "       '?', '?', '?', '?', '?', 'ja', '?', '?', '?', '?', '?', '?', '?',\n",
       "       '?', '?', '?', '?', '?', '?', '?', '?', '?', '?', '?', '?', '?',\n",
       "       '?', '?', 'ja', '?', '?', 'ja', '?', '?', '?', '?', '?', '?', '?',\n",
       "       '?', '?', '?', '?', '?', '?', '?', '?', 'ja', '?', 'ja', '?', '?',\n",
       "       '?', '?', '?', '?', '?', '?', '?', '?', 'ja', '?', '?', 'ja', 'ja',\n",
       "       '?', '?', '?', '?', 'ja', '?', '?', '?', '?', '?', '?', '?', '?',\n",
       "       'ja', '?', '?', '?', '?', '?', 'ja', '?', 'ja', '?', '?', '?', '?',\n",
       "       '?', '?', '?', '?', '?', '?', '?', '?', '?', '?', '?', '?', '?',\n",
       "       '?', '?', '?', '?', '?', '?', '?', '?', '?', '?', '?', '?', '?',\n",
       "       '?', '?', '?', '?', '?', '?', '?', '?', '?', '?', '?', '?', '?',\n",
       "       '?', '?', '?', '?', '?', '?', '?', '?', '?', '?', '?', '?', '?',\n",
       "       '?', '?', '?', '?', '?', '?', '?', '?', '?', 'ja', '?', '?', '?',\n",
       "       '?', '?', '?', '?', '?', '?', '?', '?', '?', '?', '?', '?', '?',\n",
       "       '?', '?', '?', '?', '?', '?', '?'],\n",
       "      dtype='<U2')"
      ]
     },
     "execution_count": 123,
     "metadata": {},
     "output_type": "execute_result"
    }
   ],
   "source": [
    "# obviamente hay que hacerlo con un test data :p. Antes de hacer esto deberíamos hacer tunning tmb.\n",
    "# PD: Resultados horribles\n",
    "\n",
    "result = naive_bayes.predict(train_data)\n",
    "result"
   ]
  },
  {
   "cell_type": "markdown",
   "metadata": {},
   "source": [
    "### ACURRACY EN TRAIN DATA?"
   ]
  },
  {
   "cell_type": "code",
   "execution_count": 125,
   "metadata": {},
   "outputs": [
    {
     "data": {
      "text/plain": [
       "0.75314861460957183"
      ]
     },
     "execution_count": 125,
     "metadata": {},
     "output_type": "execute_result"
    }
   ],
   "source": [
    "## accuracy\n",
    "np.mean(target_data == result)"
   ]
  },
  {
   "cell_type": "code",
   "execution_count": null,
   "metadata": {
    "collapsed": true
   },
   "outputs": [],
   "source": []
  }
 ],
 "metadata": {
  "kernelspec": {
   "display_name": "Python 3",
   "language": "python",
   "name": "python3"
  },
  "language_info": {
   "codemirror_mode": {
    "name": "ipython",
    "version": 3
   },
   "file_extension": ".py",
   "mimetype": "text/x-python",
   "name": "python",
   "nbconvert_exporter": "python",
   "pygments_lexer": "ipython3",
   "version": "3.5.2"
  }
 },
 "nbformat": 4,
 "nbformat_minor": 2
}
