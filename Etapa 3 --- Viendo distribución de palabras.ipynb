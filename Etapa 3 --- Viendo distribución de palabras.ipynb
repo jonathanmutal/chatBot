{
 "cells": [
  {
   "cell_type": "markdown",
   "metadata": {},
   "source": [
    "# Cargando lo que ya teníamos"
   ]
  },
  {
   "cell_type": "code",
   "execution_count": 4,
   "metadata": {},
   "outputs": [],
   "source": [
    "import pandas as pd\n",
    "import csv"
   ]
  },
  {
   "cell_type": "code",
   "execution_count": 5,
   "metadata": {},
   "outputs": [],
   "source": [
    "df = pd.read_csv('corpus.csv')"
   ]
  },
  {
   "cell_type": "markdown",
   "metadata": {},
   "source": [
    "## Distribución de palabras"
   ]
  },
  {
   "cell_type": "markdown",
   "metadata": {},
   "source": [
    "Para entender un poco más el problema veremos la distribución de las palabras. Además esto nos va a ayudar a evitar problemas en un futuro."
   ]
  },
  {
   "cell_type": "code",
   "execution_count": 6,
   "metadata": {},
   "outputs": [],
   "source": [
    "from collections import Counter\n",
    "from itertools import chain"
   ]
  },
  {
   "cell_type": "code",
   "execution_count": 7,
   "metadata": {},
   "outputs": [],
   "source": [
    "distribution_words = Counter(chain.from_iterable(df.message.map(lambda x: x.split(' '))))"
   ]
  },
  {
   "cell_type": "code",
   "execution_count": 8,
   "metadata": {},
   "outputs": [],
   "source": [
    "df_distribution = pd.DataFrame(data={'word': list(distribution_words.keys()), 'counter': list(distribution_words.values())})"
   ]
  },
  {
   "cell_type": "markdown",
   "metadata": {},
   "source": [
    "Es decir el vocabulario total es alrededor de:"
   ]
  },
  {
   "cell_type": "code",
   "execution_count": 9,
   "metadata": {},
   "outputs": [
    {
     "data": {
      "text/plain": [
       "counter    101766\n",
       "word       101766\n",
       "dtype: int64"
      ]
     },
     "execution_count": 9,
     "metadata": {},
     "output_type": "execute_result"
    }
   ],
   "source": [
    "df_distribution.count()"
   ]
  },
  {
   "cell_type": "markdown",
   "metadata": {},
   "source": [
    "Por lo que las palabras menos vistas son"
   ]
  },
  {
   "cell_type": "code",
   "execution_count": 10,
   "metadata": {},
   "outputs": [
    {
     "data": {
      "text/html": [
       "<div>\n",
       "<style>\n",
       "    .dataframe thead tr:only-child th {\n",
       "        text-align: right;\n",
       "    }\n",
       "\n",
       "    .dataframe thead th {\n",
       "        text-align: left;\n",
       "    }\n",
       "\n",
       "    .dataframe tbody tr th {\n",
       "        vertical-align: top;\n",
       "    }\n",
       "</style>\n",
       "<table border=\"1\" class=\"dataframe\">\n",
       "  <thead>\n",
       "    <tr style=\"text-align: right;\">\n",
       "      <th></th>\n",
       "      <th>counter</th>\n",
       "      <th>word</th>\n",
       "    </tr>\n",
       "  </thead>\n",
       "  <tbody>\n",
       "    <tr>\n",
       "      <th>50882</th>\n",
       "      <td>1</td>\n",
       "      <td>¿somos</td>\n",
       "    </tr>\n",
       "    <tr>\n",
       "      <th>56242</th>\n",
       "      <td>1</td>\n",
       "      <td>Ajjaajjaa</td>\n",
       "    </tr>\n",
       "    <tr>\n",
       "      <th>56241</th>\n",
       "      <td>1</td>\n",
       "      <td>siéntase</td>\n",
       "    </tr>\n",
       "    <tr>\n",
       "      <th>56240</th>\n",
       "      <td>1</td>\n",
       "      <td>esceptica</td>\n",
       "    </tr>\n",
       "    <tr>\n",
       "      <th>56239</th>\n",
       "      <td>1</td>\n",
       "      <td>Tambn</td>\n",
       "    </tr>\n",
       "    <tr>\n",
       "      <th>56238</th>\n",
       "      <td>1</td>\n",
       "      <td>cuchareando</td>\n",
       "    </tr>\n",
       "    <tr>\n",
       "      <th>56234</th>\n",
       "      <td>1</td>\n",
       "      <td>Rift</td>\n",
       "    </tr>\n",
       "    <tr>\n",
       "      <th>95882</th>\n",
       "      <td>1</td>\n",
       "      <td>telef.</td>\n",
       "    </tr>\n",
       "    <tr>\n",
       "      <th>95885</th>\n",
       "      <td>1</td>\n",
       "      <td>\"Casos</td>\n",
       "    </tr>\n",
       "    <tr>\n",
       "      <th>56230</th>\n",
       "      <td>1</td>\n",
       "      <td>elimine!!</td>\n",
       "    </tr>\n",
       "    <tr>\n",
       "      <th>95887</th>\n",
       "      <td>1</td>\n",
       "      <td>cuenga</td>\n",
       "    </tr>\n",
       "    <tr>\n",
       "      <th>95888</th>\n",
       "      <td>1</td>\n",
       "      <td>loca!!!</td>\n",
       "    </tr>\n",
       "    <tr>\n",
       "      <th>56226</th>\n",
       "      <td>1</td>\n",
       "      <td>hasia</td>\n",
       "    </tr>\n",
       "    <tr>\n",
       "      <th>95889</th>\n",
       "      <td>1</td>\n",
       "      <td>meha</td>\n",
       "    </tr>\n",
       "    <tr>\n",
       "      <th>56223</th>\n",
       "      <td>1</td>\n",
       "      <td>roadway,</td>\n",
       "    </tr>\n",
       "    <tr>\n",
       "      <th>56231</th>\n",
       "      <td>1</td>\n",
       "      <td>inclinaria</td>\n",
       "    </tr>\n",
       "    <tr>\n",
       "      <th>56244</th>\n",
       "      <td>1</td>\n",
       "      <td>(Computer|Data)-Scientist</td>\n",
       "    </tr>\n",
       "    <tr>\n",
       "      <th>56246</th>\n",
       "      <td>1</td>\n",
       "      <td>😄👌🏻</td>\n",
       "    </tr>\n",
       "    <tr>\n",
       "      <th>56247</th>\n",
       "      <td>1</td>\n",
       "      <td>Paolo</td>\n",
       "    </tr>\n",
       "    <tr>\n",
       "      <th>56266</th>\n",
       "      <td>1</td>\n",
       "      <td>cyverelfa?</td>\n",
       "    </tr>\n",
       "  </tbody>\n",
       "</table>\n",
       "</div>"
      ],
      "text/plain": [
       "       counter                       word\n",
       "50882        1                     ¿somos\n",
       "56242        1                  Ajjaajjaa\n",
       "56241        1                   siéntase\n",
       "56240        1                  esceptica\n",
       "56239        1                      Tambn\n",
       "56238        1                cuchareando\n",
       "56234        1                       Rift\n",
       "95882        1                     telef.\n",
       "95885        1                     \"Casos\n",
       "56230        1                  elimine!!\n",
       "95887        1                     cuenga\n",
       "95888        1                    loca!!!\n",
       "56226        1                      hasia\n",
       "95889        1                       meha\n",
       "56223        1                   roadway,\n",
       "56231        1                 inclinaria\n",
       "56244        1  (Computer|Data)-Scientist\n",
       "56246        1                        😄👌🏻\n",
       "56247        1                      Paolo\n",
       "56266        1                 cyverelfa?"
      ]
     },
     "execution_count": 10,
     "metadata": {},
     "output_type": "execute_result"
    }
   ],
   "source": [
    "df_distribution.sort_values('counter').head(20)"
   ]
  },
  {
   "cell_type": "markdown",
   "metadata": {},
   "source": [
    "Pero las más vistas son:"
   ]
  },
  {
   "cell_type": "code",
   "execution_count": 11,
   "metadata": {},
   "outputs": [
    {
     "data": {
      "text/html": [
       "<div>\n",
       "<style>\n",
       "    .dataframe thead tr:only-child th {\n",
       "        text-align: right;\n",
       "    }\n",
       "\n",
       "    .dataframe thead th {\n",
       "        text-align: left;\n",
       "    }\n",
       "\n",
       "    .dataframe tbody tr th {\n",
       "        vertical-align: top;\n",
       "    }\n",
       "</style>\n",
       "<table border=\"1\" class=\"dataframe\">\n",
       "  <thead>\n",
       "    <tr style=\"text-align: right;\">\n",
       "      <th></th>\n",
       "      <th>counter</th>\n",
       "      <th>word</th>\n",
       "    </tr>\n",
       "  </thead>\n",
       "  <tbody>\n",
       "    <tr>\n",
       "      <th>2244</th>\n",
       "      <td>24708</td>\n",
       "      <td>que</td>\n",
       "    </tr>\n",
       "    <tr>\n",
       "      <th>97407</th>\n",
       "      <td>24334</td>\n",
       "      <td>de</td>\n",
       "    </tr>\n",
       "    <tr>\n",
       "      <th>81804</th>\n",
       "      <td>19958</td>\n",
       "      <td>a</td>\n",
       "    </tr>\n",
       "    <tr>\n",
       "      <th>56515</th>\n",
       "      <td>18938</td>\n",
       "      <td>la</td>\n",
       "    </tr>\n",
       "    <tr>\n",
       "      <th>41661</th>\n",
       "      <td>17263</td>\n",
       "      <td>el</td>\n",
       "    </tr>\n",
       "    <tr>\n",
       "      <th>13296</th>\n",
       "      <td>14857</td>\n",
       "      <td>no</td>\n",
       "    </tr>\n",
       "    <tr>\n",
       "      <th>17074</th>\n",
       "      <td>13412</td>\n",
       "      <td>y</td>\n",
       "    </tr>\n",
       "    <tr>\n",
       "      <th>53512</th>\n",
       "      <td>12577</td>\n",
       "      <td>en</td>\n",
       "    </tr>\n",
       "    <tr>\n",
       "      <th>49124</th>\n",
       "      <td>11407</td>\n",
       "      <td>omitido&gt;</td>\n",
       "    </tr>\n",
       "    <tr>\n",
       "      <th>38721</th>\n",
       "      <td>11407</td>\n",
       "      <td>&lt;Archivo</td>\n",
       "    </tr>\n",
       "    <tr>\n",
       "      <th>50419</th>\n",
       "      <td>11228</td>\n",
       "      <td>me</td>\n",
       "    </tr>\n",
       "    <tr>\n",
       "      <th>0</th>\n",
       "      <td>11176</td>\n",
       "      <td></td>\n",
       "    </tr>\n",
       "    <tr>\n",
       "      <th>3547</th>\n",
       "      <td>10135</td>\n",
       "      <td>lo</td>\n",
       "    </tr>\n",
       "    <tr>\n",
       "      <th>83064</th>\n",
       "      <td>8710</td>\n",
       "      <td>es</td>\n",
       "    </tr>\n",
       "    <tr>\n",
       "      <th>99569</th>\n",
       "      <td>7468</td>\n",
       "      <td>un</td>\n",
       "    </tr>\n",
       "    <tr>\n",
       "      <th>20629</th>\n",
       "      <td>7197</td>\n",
       "      <td>se</td>\n",
       "    </tr>\n",
       "    <tr>\n",
       "      <th>47450</th>\n",
       "      <td>6934</td>\n",
       "      <td>los</td>\n",
       "    </tr>\n",
       "    <tr>\n",
       "      <th>81598</th>\n",
       "      <td>6626</td>\n",
       "      <td>si</td>\n",
       "    </tr>\n",
       "    <tr>\n",
       "      <th>40070</th>\n",
       "      <td>6528</td>\n",
       "      <td>para</td>\n",
       "    </tr>\n",
       "    <tr>\n",
       "      <th>100052</th>\n",
       "      <td>6187</td>\n",
       "      <td>te</td>\n",
       "    </tr>\n",
       "  </tbody>\n",
       "</table>\n",
       "</div>"
      ],
      "text/plain": [
       "        counter      word\n",
       "2244      24708       que\n",
       "97407     24334        de\n",
       "81804     19958         a\n",
       "56515     18938        la\n",
       "41661     17263        el\n",
       "13296     14857        no\n",
       "17074     13412         y\n",
       "53512     12577        en\n",
       "49124     11407  omitido>\n",
       "38721     11407  <Archivo\n",
       "50419     11228        me\n",
       "0         11176          \n",
       "3547      10135        lo\n",
       "83064      8710        es\n",
       "99569      7468        un\n",
       "20629      7197        se\n",
       "47450      6934       los\n",
       "81598      6626        si\n",
       "40070      6528      para\n",
       "100052     6187        te"
      ]
     },
     "execution_count": 11,
     "metadata": {},
     "output_type": "execute_result"
    }
   ],
   "source": [
    "df_distribution.sort_values('counter', ascending=False).head(20)"
   ]
  },
  {
   "cell_type": "markdown",
   "metadata": {},
   "source": [
    "Al querer hacer un gráfico de caja, nos dimos cuenta que la media en la distribución de palabras era 1..."
   ]
  },
  {
   "cell_type": "code",
   "execution_count": 12,
   "metadata": {},
   "outputs": [
    {
     "data": {
      "text/plain": [
       "1.0"
      ]
     },
     "execution_count": 12,
     "metadata": {},
     "output_type": "execute_result"
    }
   ],
   "source": [
    "df_distribution.counter.median()"
   ]
  },
  {
   "cell_type": "markdown",
   "metadata": {},
   "source": [
    "Pues luego de ver esa que la media era 1, nos preguntamos...\n",
    "   - ¿Cuántas palabras hay con una sóla aparición? Son útiles o no?"
   ]
  },
  {
   "cell_type": "code",
   "execution_count": 13,
   "metadata": {},
   "outputs": [
    {
     "data": {
      "text/plain": [
       "counter    0.648979\n",
       "word       0.648979\n",
       "dtype: float64"
      ]
     },
     "execution_count": 13,
     "metadata": {},
     "output_type": "execute_result"
    }
   ],
   "source": [
    "sum(df_distribution.counter == 1) / df_distribution.count()"
   ]
  },
  {
   "cell_type": "markdown",
   "metadata": {},
   "source": [
    "Vemos que hay alrededor de un 65% de palabras que aparecen una sóla vez... esto puede causar que la **vectorización no sea tan representativa como queremos...**\n",
    "\n",
    "Problemas que vimos:\n",
    "   - Al ser mensajes instantaneos, por lo general las personas no se preocupan con la ortográfia ni la forma de escribir.\n",
    "   - Muchos tipos de mismas palabras, por ejemplo jajaja = jaja, dale = daleee.\n",
    "   - _Arhivo omitido_ como media no es útil.\n",
    "   - Puntaciones son inútiles para el problema (no ayudan en nada). Ejemplo quiero = quiero'\n",
    "   - Los emoticones son necesarios para este problema?"
   ]
  },
  {
   "cell_type": "markdown",
   "metadata": {},
   "source": [
    "## Conclusión"
   ]
  },
  {
   "cell_type": "markdown",
   "metadata": {},
   "source": [
    "Después de discutir un rato decidimos tomar estás decisiones para mejorar la distribución:\n",
    "   - \"Normalizar palabras más vistas\" (jajajajajaa --> jaja)\n",
    "   - Tratar las puntuaciones como palabras (\"?\", \"!\", \"...\") o directamente removerlas (quiero' --> quiero)\n",
    "   - Pasar a minuscula toda palabra\n",
    "   - Eliminar palabra que no aparezca más de 10 veces (soluciona errores de ortografía, links, etc)\n",
    "   - Remover acentos\n",
    "   - Pasar digito a la palabra NUM\n",
    "   - Remover characteres repetidos, ejemplo: vaaaaamos por vamos.\n",
    "   - __Hacer Stemm serviría? FIJARSE __\n",
    "\n",
    "Veamos como sería la nueva distribución"
   ]
  },
  {
   "cell_type": "code",
   "execution_count": 14,
   "metadata": {},
   "outputs": [],
   "source": [
    "from string import punctuation\n",
    "import re\n",
    "import unicodedata"
   ]
  },
  {
   "cell_type": "code",
   "execution_count": 15,
   "metadata": {},
   "outputs": [],
   "source": [
    "STOP_WORDS = punctuation + '¡'\n",
    "\n",
    "def dig2num(text):\n",
    "    return re.sub('(\\d+[\\WxX]*[^ ]*)+', 'NUM', text)\n",
    "\n",
    "def rm_tildes(text):\n",
    "    return ''.join((c for c in unicodedata.normalize('NFD', text) if unicodedata.category(c) != 'Mn'))\n",
    "\n",
    "def rm_media(text):\n",
    "    return re.sub(r'<archivo omitido>|<media omitted>', 'MEDIA', text)\n",
    "\n",
    "def rm_repeated(text):\n",
    "    return re.sub(r'([aeourshmi])\\1{2,}', r'\\1', text)\n",
    "\n",
    "def rm_ok(text):\n",
    "    return re.sub('(ok)+[akis]*', 'ok', text)\n",
    "\n",
    "def rm_sw(text):\n",
    "    return re.sub('{1}{0}{1}'.format(STOP_WORDS, '[]'), '', text)\n",
    "\n",
    "def rm_ja(text):\n",
    "    return re.sub('(ja[ja(js)]*)+', 'ja', text)\n",
    "\n",
    "def rm_si(text):\n",
    "    return re.sub('[s]+[i]+', 'si', text)\n",
    "\n",
    "def to_low(text):\n",
    "    return text.lower()\n",
    "\n",
    "def clean_text(text):\n",
    "    return rm_media(rm_tildes(to_low(text)))\n",
    "\n",
    "def clean_text_1(text):\n",
    "    return dig2num(rm_si(rm_ok(rm_ja(rm_repeated(rm_sw(clean_text(text)))))))"
   ]
  },
  {
   "cell_type": "code",
   "execution_count": 16,
   "metadata": {},
   "outputs": [],
   "source": [
    "distribution_words = Counter(chain.from_iterable(df.message.map(lambda x: clean_text_1(x).split())))"
   ]
  },
  {
   "cell_type": "code",
   "execution_count": 17,
   "metadata": {},
   "outputs": [],
   "source": [
    "df_distribution = pd.DataFrame(data={'word': list(distribution_words.keys()), 'counter': list(distribution_words.values())})"
   ]
  },
  {
   "cell_type": "code",
   "execution_count": 18,
   "metadata": {},
   "outputs": [],
   "source": [
    "new_df = df_distribution[df_distribution.counter > 10]"
   ]
  },
  {
   "cell_type": "code",
   "execution_count": 19,
   "metadata": {},
   "outputs": [
    {
     "data": {
      "text/plain": [
       "counter    5504\n",
       "word       5504\n",
       "dtype: int64"
      ]
     },
     "execution_count": 19,
     "metadata": {},
     "output_type": "execute_result"
    }
   ],
   "source": [
    "new_df.count()"
   ]
  },
  {
   "cell_type": "code",
   "execution_count": 20,
   "metadata": {},
   "outputs": [
    {
     "data": {
      "text/html": [
       "<div>\n",
       "<style>\n",
       "    .dataframe thead tr:only-child th {\n",
       "        text-align: right;\n",
       "    }\n",
       "\n",
       "    .dataframe thead th {\n",
       "        text-align: left;\n",
       "    }\n",
       "\n",
       "    .dataframe tbody tr th {\n",
       "        vertical-align: top;\n",
       "    }\n",
       "</style>\n",
       "<table border=\"1\" class=\"dataframe\">\n",
       "  <thead>\n",
       "    <tr style=\"text-align: right;\">\n",
       "      <th></th>\n",
       "      <th>counter</th>\n",
       "      <th>word</th>\n",
       "    </tr>\n",
       "  </thead>\n",
       "  <tbody>\n",
       "    <tr>\n",
       "      <th>2318</th>\n",
       "      <td>29526</td>\n",
       "      <td>que</td>\n",
       "    </tr>\n",
       "    <tr>\n",
       "      <th>49590</th>\n",
       "      <td>25647</td>\n",
       "      <td>de</td>\n",
       "    </tr>\n",
       "    <tr>\n",
       "      <th>33086</th>\n",
       "      <td>22398</td>\n",
       "      <td>a</td>\n",
       "    </tr>\n",
       "    <tr>\n",
       "      <th>38407</th>\n",
       "      <td>22198</td>\n",
       "      <td>no</td>\n",
       "    </tr>\n",
       "    <tr>\n",
       "      <th>6010</th>\n",
       "      <td>20865</td>\n",
       "      <td>la</td>\n",
       "    </tr>\n",
       "    <tr>\n",
       "      <th>44465</th>\n",
       "      <td>19731</td>\n",
       "      <td>el</td>\n",
       "    </tr>\n",
       "    <tr>\n",
       "      <th>43295</th>\n",
       "      <td>19547</td>\n",
       "      <td>ja</td>\n",
       "    </tr>\n",
       "    <tr>\n",
       "      <th>18305</th>\n",
       "      <td>18234</td>\n",
       "      <td>y</td>\n",
       "    </tr>\n",
       "    <tr>\n",
       "      <th>47026</th>\n",
       "      <td>16426</td>\n",
       "      <td>NUM</td>\n",
       "    </tr>\n",
       "    <tr>\n",
       "      <th>11233</th>\n",
       "      <td>16066</td>\n",
       "      <td>MEDIA</td>\n",
       "    </tr>\n",
       "    <tr>\n",
       "      <th>2922</th>\n",
       "      <td>14225</td>\n",
       "      <td>en</td>\n",
       "    </tr>\n",
       "    <tr>\n",
       "      <th>51770</th>\n",
       "      <td>14185</td>\n",
       "      <td>me</td>\n",
       "    </tr>\n",
       "    <tr>\n",
       "      <th>32864</th>\n",
       "      <td>13595</td>\n",
       "      <td>si</td>\n",
       "    </tr>\n",
       "    <tr>\n",
       "      <th>3732</th>\n",
       "      <td>11496</td>\n",
       "      <td>lo</td>\n",
       "    </tr>\n",
       "    <tr>\n",
       "      <th>34429</th>\n",
       "      <td>11287</td>\n",
       "      <td>es</td>\n",
       "    </tr>\n",
       "    <tr>\n",
       "      <th>21997</th>\n",
       "      <td>9315</td>\n",
       "      <td>se</td>\n",
       "    </tr>\n",
       "    <tr>\n",
       "      <th>40356</th>\n",
       "      <td>7943</td>\n",
       "      <td>un</td>\n",
       "    </tr>\n",
       "    <tr>\n",
       "      <th>35717</th>\n",
       "      <td>7817</td>\n",
       "      <td>te</td>\n",
       "    </tr>\n",
       "    <tr>\n",
       "      <th>50710</th>\n",
       "      <td>7565</td>\n",
       "      <td>los</td>\n",
       "    </tr>\n",
       "    <tr>\n",
       "      <th>42803</th>\n",
       "      <td>7549</td>\n",
       "      <td>para</td>\n",
       "    </tr>\n",
       "  </tbody>\n",
       "</table>\n",
       "</div>"
      ],
      "text/plain": [
       "       counter   word\n",
       "2318     29526    que\n",
       "49590    25647     de\n",
       "33086    22398      a\n",
       "38407    22198     no\n",
       "6010     20865     la\n",
       "44465    19731     el\n",
       "43295    19547     ja\n",
       "18305    18234      y\n",
       "47026    16426    NUM\n",
       "11233    16066  MEDIA\n",
       "2922     14225     en\n",
       "51770    14185     me\n",
       "32864    13595     si\n",
       "3732     11496     lo\n",
       "34429    11287     es\n",
       "21997     9315     se\n",
       "40356     7943     un\n",
       "35717     7817     te\n",
       "50710     7565    los\n",
       "42803     7549   para"
      ]
     },
     "execution_count": 20,
     "metadata": {},
     "output_type": "execute_result"
    }
   ],
   "source": [
    "new_df.sort_values('counter', ascending=False).head(20)"
   ]
  },
  {
   "cell_type": "code",
   "execution_count": 23,
   "metadata": {},
   "outputs": [
    {
     "data": {
      "text/html": [
       "<div>\n",
       "<style>\n",
       "    .dataframe thead tr:only-child th {\n",
       "        text-align: right;\n",
       "    }\n",
       "\n",
       "    .dataframe thead th {\n",
       "        text-align: left;\n",
       "    }\n",
       "\n",
       "    .dataframe tbody tr th {\n",
       "        vertical-align: top;\n",
       "    }\n",
       "</style>\n",
       "<table border=\"1\" class=\"dataframe\">\n",
       "  <thead>\n",
       "    <tr style=\"text-align: right;\">\n",
       "      <th></th>\n",
       "      <th>counter</th>\n",
       "      <th>word</th>\n",
       "    </tr>\n",
       "  </thead>\n",
       "  <tbody>\n",
       "    <tr>\n",
       "      <th>1</th>\n",
       "      <td>11</td>\n",
       "      <td>danita</td>\n",
       "    </tr>\n",
       "    <tr>\n",
       "      <th>30727</th>\n",
       "      <td>11</td>\n",
       "      <td>crew</td>\n",
       "    </tr>\n",
       "    <tr>\n",
       "      <th>31455</th>\n",
       "      <td>11</td>\n",
       "      <td>experto</td>\n",
       "    </tr>\n",
       "    <tr>\n",
       "      <th>31499</th>\n",
       "      <td>11</td>\n",
       "      <td>sonrisa</td>\n",
       "    </tr>\n",
       "    <tr>\n",
       "      <th>31641</th>\n",
       "      <td>11</td>\n",
       "      <td>necesiten</td>\n",
       "    </tr>\n",
       "    <tr>\n",
       "      <th>31962</th>\n",
       "      <td>11</td>\n",
       "      <td>rapipago</td>\n",
       "    </tr>\n",
       "    <tr>\n",
       "      <th>32059</th>\n",
       "      <td>11</td>\n",
       "      <td>maldicion</td>\n",
       "    </tr>\n",
       "    <tr>\n",
       "      <th>32129</th>\n",
       "      <td>11</td>\n",
       "      <td>rec</td>\n",
       "    </tr>\n",
       "    <tr>\n",
       "      <th>32165</th>\n",
       "      <td>11</td>\n",
       "      <td>hacemo</td>\n",
       "    </tr>\n",
       "    <tr>\n",
       "      <th>32309</th>\n",
       "      <td>11</td>\n",
       "      <td>extension</td>\n",
       "    </tr>\n",
       "    <tr>\n",
       "      <th>32409</th>\n",
       "      <td>11</td>\n",
       "      <td>metes</td>\n",
       "    </tr>\n",
       "    <tr>\n",
       "      <th>32412</th>\n",
       "      <td>11</td>\n",
       "      <td>sw</td>\n",
       "    </tr>\n",
       "    <tr>\n",
       "      <th>32590</th>\n",
       "      <td>11</td>\n",
       "      <td>elite</td>\n",
       "    </tr>\n",
       "    <tr>\n",
       "      <th>32659</th>\n",
       "      <td>11</td>\n",
       "      <td>monse</td>\n",
       "    </tr>\n",
       "    <tr>\n",
       "      <th>30662</th>\n",
       "      <td>11</td>\n",
       "      <td>cuentes</td>\n",
       "    </tr>\n",
       "    <tr>\n",
       "      <th>32716</th>\n",
       "      <td>11</td>\n",
       "      <td>testdata</td>\n",
       "    </tr>\n",
       "    <tr>\n",
       "      <th>32946</th>\n",
       "      <td>11</td>\n",
       "      <td>enojado</td>\n",
       "    </tr>\n",
       "    <tr>\n",
       "      <th>4251</th>\n",
       "      <td>11</td>\n",
       "      <td>😅😂😂</td>\n",
       "    </tr>\n",
       "    <tr>\n",
       "      <th>33040</th>\n",
       "      <td>11</td>\n",
       "      <td>periodismo</td>\n",
       "    </tr>\n",
       "    <tr>\n",
       "      <th>33196</th>\n",
       "      <td>11</td>\n",
       "      <td>verte</td>\n",
       "    </tr>\n",
       "  </tbody>\n",
       "</table>\n",
       "</div>"
      ],
      "text/plain": [
       "       counter        word\n",
       "1           11      danita\n",
       "30727       11        crew\n",
       "31455       11     experto\n",
       "31499       11     sonrisa\n",
       "31641       11   necesiten\n",
       "31962       11    rapipago\n",
       "32059       11   maldicion\n",
       "32129       11         rec\n",
       "32165       11      hacemo\n",
       "32309       11   extension\n",
       "32409       11       metes\n",
       "32412       11          sw\n",
       "32590       11       elite\n",
       "32659       11       monse\n",
       "30662       11     cuentes\n",
       "32716       11    testdata\n",
       "32946       11     enojado\n",
       "4251        11         😅😂😂\n",
       "33040       11  periodismo\n",
       "33196       11       verte"
      ]
     },
     "execution_count": 23,
     "metadata": {},
     "output_type": "execute_result"
    }
   ],
   "source": [
    "new_df.sort_values('counter').head(20)"
   ]
  },
  {
   "cell_type": "markdown",
   "metadata": {},
   "source": [
    "Las listas van cobrando sentido"
   ]
  }
 ],
 "metadata": {
  "kernelspec": {
   "display_name": "Python 3",
   "language": "python",
   "name": "python3"
  },
  "language_info": {
   "codemirror_mode": {
    "name": "ipython",
    "version": 3
   },
   "file_extension": ".py",
   "mimetype": "text/x-python",
   "name": "python",
   "nbconvert_exporter": "python",
   "pygments_lexer": "ipython3",
   "version": "3.5.2"
  }
 },
 "nbformat": 4,
 "nbformat_minor": 2
}
