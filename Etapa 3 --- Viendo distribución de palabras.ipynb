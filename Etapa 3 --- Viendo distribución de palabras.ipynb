{
 "cells": [
  {
   "cell_type": "markdown",
   "metadata": {},
   "source": [
    "# Cargando lo que ya teníamos"
   ]
  },
  {
   "cell_type": "code",
   "execution_count": 1,
   "metadata": {},
   "outputs": [],
   "source": [
    "import pandas as pd\n",
    "import csv"
   ]
  },
  {
   "cell_type": "code",
   "execution_count": 2,
   "metadata": {},
   "outputs": [],
   "source": [
    "df = pd.read_csv('corpus.csv')"
   ]
  },
  {
   "cell_type": "markdown",
   "metadata": {},
   "source": [
    "## Distribución de palabras"
   ]
  },
  {
   "cell_type": "markdown",
   "metadata": {},
   "source": [
    "Para entender un poco más el problema veremos la distribución de las palabras. Además esto nos va a ayudar a evitar problemas en un futuro."
   ]
  },
  {
   "cell_type": "code",
   "execution_count": 3,
   "metadata": {},
   "outputs": [],
   "source": [
    "from collections import Counter\n",
    "from itertools import chain"
   ]
  },
  {
   "cell_type": "code",
   "execution_count": 14,
   "metadata": {},
   "outputs": [],
   "source": [
    "distribution_words = Counter(chain.from_iterable(df.message.map(lambda x: x.split())))"
   ]
  },
  {
   "cell_type": "code",
   "execution_count": 15,
   "metadata": {},
   "outputs": [],
   "source": [
    "df_distribution = pd.DataFrame(data={'word': list(distribution_words.keys()), 'counter': list(distribution_words.values())})"
   ]
  },
  {
   "cell_type": "markdown",
   "metadata": {},
   "source": [
    "Es decir el vocabulario total es alrededor de:"
   ]
  },
  {
   "cell_type": "code",
   "execution_count": 16,
   "metadata": {},
   "outputs": [
    {
     "data": {
      "text/plain": [
       "counter    101703\n",
       "word       101703\n",
       "dtype: int64"
      ]
     },
     "execution_count": 16,
     "metadata": {},
     "output_type": "execute_result"
    }
   ],
   "source": [
    "df_distribution.count()"
   ]
  },
  {
   "cell_type": "markdown",
   "metadata": {},
   "source": [
    "Por lo que las palabras menos vistas son"
   ]
  },
  {
   "cell_type": "code",
   "execution_count": 17,
   "metadata": {},
   "outputs": [
    {
     "data": {
      "text/html": [
       "<div>\n",
       "<style>\n",
       "    .dataframe thead tr:only-child th {\n",
       "        text-align: right;\n",
       "    }\n",
       "\n",
       "    .dataframe thead th {\n",
       "        text-align: left;\n",
       "    }\n",
       "\n",
       "    .dataframe tbody tr th {\n",
       "        vertical-align: top;\n",
       "    }\n",
       "</style>\n",
       "<table border=\"1\" class=\"dataframe\">\n",
       "  <thead>\n",
       "    <tr style=\"text-align: right;\">\n",
       "      <th></th>\n",
       "      <th>counter</th>\n",
       "      <th>word</th>\n",
       "    </tr>\n",
       "  </thead>\n",
       "  <tbody>\n",
       "    <tr>\n",
       "      <th>50851</th>\n",
       "      <td>1</td>\n",
       "      <td>estaas</td>\n",
       "    </tr>\n",
       "    <tr>\n",
       "      <th>65599</th>\n",
       "      <td>1</td>\n",
       "      <td>boloooooooo</td>\n",
       "    </tr>\n",
       "    <tr>\n",
       "      <th>65598</th>\n",
       "      <td>1</td>\n",
       "      <td>Humble</td>\n",
       "    </tr>\n",
       "    <tr>\n",
       "      <th>65596</th>\n",
       "      <td>1</td>\n",
       "      <td>sin.hacer</td>\n",
       "    </tr>\n",
       "    <tr>\n",
       "      <th>65595</th>\n",
       "      <td>1</td>\n",
       "      <td>dinero.en</td>\n",
       "    </tr>\n",
       "    <tr>\n",
       "      <th>65594</th>\n",
       "      <td>1</td>\n",
       "      <td>muxo</td>\n",
       "    </tr>\n",
       "    <tr>\n",
       "      <th>65593</th>\n",
       "      <td>1</td>\n",
       "      <td>xno</td>\n",
       "    </tr>\n",
       "    <tr>\n",
       "      <th>65592</th>\n",
       "      <td>1</td>\n",
       "      <td>siendo.actor</td>\n",
       "    </tr>\n",
       "    <tr>\n",
       "      <th>65591</th>\n",
       "      <td>1</td>\n",
       "      <td>Jajaajjaaajajaja</td>\n",
       "    </tr>\n",
       "    <tr>\n",
       "      <th>65590</th>\n",
       "      <td>1</td>\n",
       "      <td>nickelodeon</td>\n",
       "    </tr>\n",
       "    <tr>\n",
       "      <th>65589</th>\n",
       "      <td>1</td>\n",
       "      <td>JAJAJAJAJAJAJAJAJJAJAJAJAAJAJA</td>\n",
       "    </tr>\n",
       "    <tr>\n",
       "      <th>65588</th>\n",
       "      <td>1</td>\n",
       "      <td>JAJJAJAJAJJAJA</td>\n",
       "    </tr>\n",
       "    <tr>\n",
       "      <th>65586</th>\n",
       "      <td>1</td>\n",
       "      <td>Podra</td>\n",
       "    </tr>\n",
       "    <tr>\n",
       "      <th>65585</th>\n",
       "      <td>1</td>\n",
       "      <td>pedofilo.</td>\n",
       "    </tr>\n",
       "    <tr>\n",
       "      <th>65584</th>\n",
       "      <td>1</td>\n",
       "      <td>Whyy</td>\n",
       "    </tr>\n",
       "    <tr>\n",
       "      <th>65582</th>\n",
       "      <td>1</td>\n",
       "      <td>snes,</td>\n",
       "    </tr>\n",
       "    <tr>\n",
       "      <th>65581</th>\n",
       "      <td>1</td>\n",
       "      <td>nes,</td>\n",
       "    </tr>\n",
       "    <tr>\n",
       "      <th>65579</th>\n",
       "      <td>1</td>\n",
       "      <td>dreamcast</td>\n",
       "    </tr>\n",
       "    <tr>\n",
       "      <th>65600</th>\n",
       "      <td>1</td>\n",
       "      <td>Meh</td>\n",
       "    </tr>\n",
       "    <tr>\n",
       "      <th>65601</th>\n",
       "      <td>1</td>\n",
       "      <td>1$</td>\n",
       "    </tr>\n",
       "  </tbody>\n",
       "</table>\n",
       "</div>"
      ],
      "text/plain": [
       "       counter                            word\n",
       "50851        1                          estaas\n",
       "65599        1                     boloooooooo\n",
       "65598        1                          Humble\n",
       "65596        1                       sin.hacer\n",
       "65595        1                       dinero.en\n",
       "65594        1                            muxo\n",
       "65593        1                             xno\n",
       "65592        1                    siendo.actor\n",
       "65591        1                Jajaajjaaajajaja\n",
       "65590        1                     nickelodeon\n",
       "65589        1  JAJAJAJAJAJAJAJAJJAJAJAJAAJAJA\n",
       "65588        1                  JAJJAJAJAJJAJA\n",
       "65586        1                           Podra\n",
       "65585        1                       pedofilo.\n",
       "65584        1                            Whyy\n",
       "65582        1                           snes,\n",
       "65581        1                            nes,\n",
       "65579        1                       dreamcast\n",
       "65600        1                             Meh\n",
       "65601        1                              1$"
      ]
     },
     "execution_count": 17,
     "metadata": {},
     "output_type": "execute_result"
    }
   ],
   "source": [
    "df_distribution.sort_values('counter').head(20)"
   ]
  },
  {
   "cell_type": "markdown",
   "metadata": {},
   "source": [
    "Pero las más vistas son:"
   ]
  },
  {
   "cell_type": "code",
   "execution_count": 18,
   "metadata": {},
   "outputs": [
    {
     "data": {
      "text/html": [
       "<div>\n",
       "<style>\n",
       "    .dataframe thead tr:only-child th {\n",
       "        text-align: right;\n",
       "    }\n",
       "\n",
       "    .dataframe thead th {\n",
       "        text-align: left;\n",
       "    }\n",
       "\n",
       "    .dataframe tbody tr th {\n",
       "        vertical-align: top;\n",
       "    }\n",
       "</style>\n",
       "<table border=\"1\" class=\"dataframe\">\n",
       "  <thead>\n",
       "    <tr style=\"text-align: right;\">\n",
       "      <th></th>\n",
       "      <th>counter</th>\n",
       "      <th>word</th>\n",
       "    </tr>\n",
       "  </thead>\n",
       "  <tbody>\n",
       "    <tr>\n",
       "      <th>11</th>\n",
       "      <td>24710</td>\n",
       "      <td>que</td>\n",
       "    </tr>\n",
       "    <tr>\n",
       "      <th>36</th>\n",
       "      <td>24339</td>\n",
       "      <td>de</td>\n",
       "    </tr>\n",
       "    <tr>\n",
       "      <th>15</th>\n",
       "      <td>19958</td>\n",
       "      <td>a</td>\n",
       "    </tr>\n",
       "    <tr>\n",
       "      <th>22</th>\n",
       "      <td>18941</td>\n",
       "      <td>la</td>\n",
       "    </tr>\n",
       "    <tr>\n",
       "      <th>45</th>\n",
       "      <td>17267</td>\n",
       "      <td>el</td>\n",
       "    </tr>\n",
       "    <tr>\n",
       "      <th>95</th>\n",
       "      <td>14857</td>\n",
       "      <td>no</td>\n",
       "    </tr>\n",
       "    <tr>\n",
       "      <th>30</th>\n",
       "      <td>13412</td>\n",
       "      <td>y</td>\n",
       "    </tr>\n",
       "    <tr>\n",
       "      <th>28</th>\n",
       "      <td>12577</td>\n",
       "      <td>en</td>\n",
       "    </tr>\n",
       "    <tr>\n",
       "      <th>2805</th>\n",
       "      <td>11407</td>\n",
       "      <td>omitido&gt;</td>\n",
       "    </tr>\n",
       "    <tr>\n",
       "      <th>2804</th>\n",
       "      <td>11407</td>\n",
       "      <td>&lt;Archivo</td>\n",
       "    </tr>\n",
       "    <tr>\n",
       "      <th>273</th>\n",
       "      <td>11226</td>\n",
       "      <td>me</td>\n",
       "    </tr>\n",
       "    <tr>\n",
       "      <th>53</th>\n",
       "      <td>10135</td>\n",
       "      <td>lo</td>\n",
       "    </tr>\n",
       "    <tr>\n",
       "      <th>44</th>\n",
       "      <td>8711</td>\n",
       "      <td>es</td>\n",
       "    </tr>\n",
       "    <tr>\n",
       "      <th>34</th>\n",
       "      <td>7468</td>\n",
       "      <td>un</td>\n",
       "    </tr>\n",
       "    <tr>\n",
       "      <th>19</th>\n",
       "      <td>7193</td>\n",
       "      <td>se</td>\n",
       "    </tr>\n",
       "    <tr>\n",
       "      <th>233</th>\n",
       "      <td>6935</td>\n",
       "      <td>los</td>\n",
       "    </tr>\n",
       "    <tr>\n",
       "      <th>86</th>\n",
       "      <td>6625</td>\n",
       "      <td>si</td>\n",
       "    </tr>\n",
       "    <tr>\n",
       "      <th>98</th>\n",
       "      <td>6528</td>\n",
       "      <td>para</td>\n",
       "    </tr>\n",
       "    <tr>\n",
       "      <th>102</th>\n",
       "      <td>6186</td>\n",
       "      <td>te</td>\n",
       "    </tr>\n",
       "    <tr>\n",
       "      <th>119</th>\n",
       "      <td>6168</td>\n",
       "      <td>con</td>\n",
       "    </tr>\n",
       "  </tbody>\n",
       "</table>\n",
       "</div>"
      ],
      "text/plain": [
       "      counter      word\n",
       "11      24710       que\n",
       "36      24339        de\n",
       "15      19958         a\n",
       "22      18941        la\n",
       "45      17267        el\n",
       "95      14857        no\n",
       "30      13412         y\n",
       "28      12577        en\n",
       "2805    11407  omitido>\n",
       "2804    11407  <Archivo\n",
       "273     11226        me\n",
       "53      10135        lo\n",
       "44       8711        es\n",
       "34       7468        un\n",
       "19       7193        se\n",
       "233      6935       los\n",
       "86       6625        si\n",
       "98       6528      para\n",
       "102      6186        te\n",
       "119      6168       con"
      ]
     },
     "execution_count": 18,
     "metadata": {},
     "output_type": "execute_result"
    }
   ],
   "source": [
    "df_distribution.sort_values('counter', ascending=False).head(20)"
   ]
  },
  {
   "cell_type": "markdown",
   "metadata": {},
   "source": [
    "Al querer hacer un gráfico de caja, nos dimos cuenta que la media en la distribución de palabras era 1..."
   ]
  },
  {
   "cell_type": "code",
   "execution_count": 19,
   "metadata": {},
   "outputs": [
    {
     "data": {
      "text/plain": [
       "1.0"
      ]
     },
     "execution_count": 19,
     "metadata": {},
     "output_type": "execute_result"
    }
   ],
   "source": [
    "df_distribution.counter.median()"
   ]
  },
  {
   "cell_type": "markdown",
   "metadata": {},
   "source": [
    "Pues luego de ver esa que la media era 1, nos preguntamos...\n",
    "   - ¿Cuántas palabras hay con una sóla aparición? Son útiles o no?"
   ]
  },
  {
   "cell_type": "code",
   "execution_count": 20,
   "metadata": {},
   "outputs": [
    {
     "data": {
      "text/plain": [
       "counter    0.648634\n",
       "word       0.648634\n",
       "dtype: float64"
      ]
     },
     "execution_count": 20,
     "metadata": {},
     "output_type": "execute_result"
    }
   ],
   "source": [
    "sum(df_distribution.counter == 1) / df_distribution.count()"
   ]
  },
  {
   "cell_type": "markdown",
   "metadata": {},
   "source": [
    "Vemos que hay alrededor de un 65% de palabras que aparecen una sóla vez... esto puede causar que la **vectorización no sea tan representativa como queremos...**\n",
    "\n",
    "Problemas que vimos:\n",
    "   - Al ser mensajes instantaneos, por lo general las personas no se preocupan con la ortográfia ni la forma de escribir.\n",
    "   - Muchos tipos de mismas palabras, por ejemplo jajaja = jaja, dale = daleee.\n",
    "   - _Archivo omitido_ como media no es útil.\n",
    "   - Algunas puntaciones son inútiles para el problema (no ayudan en nada). Ejemplo quiero = quiero'\n",
    "   - Los emoticones son necesarios para este problema?"
   ]
  },
  {
   "cell_type": "markdown",
   "metadata": {},
   "source": [
    "## Conclusión"
   ]
  },
  {
   "cell_type": "markdown",
   "metadata": {},
   "source": [
    "Después de discutir un rato decidimos tomar estás decisiones para mejorar la distribución:\n",
    "   - \"Normalizar palabras más vistas\" (jajajajajaa --> jaja)\n",
    "   - Tratar las puntuaciones como palabras (\"?\", \"!\", \"...\") o directamente removerlas (quiero' --> quiero)\n",
    "   - Pasar a minuscula toda palabra\n",
    "   - Eliminar palabra que no aparezca más de 10 veces (soluciona errores de ortografía, links, etc)\n",
    "   - Remover acentos\n",
    "   - Pasar digito a la palabra NUM\n",
    "   - Remover characteres repetidos, ejemplo: vaaaaamos por vamos.\n",
    "   - __Hacer Stemm serviría? FIJARSE __\n",
    "\n",
    "Veamos como sería la nueva distribución"
   ]
  },
  {
   "cell_type": "code",
   "execution_count": 11,
   "metadata": {},
   "outputs": [],
   "source": [
    "from string import punctuation\n",
    "import re\n",
    "import unicodedata"
   ]
  },
  {
   "cell_type": "code",
   "execution_count": 21,
   "metadata": {},
   "outputs": [],
   "source": [
    "STOP_WORDS = punctuation + '¡'\n",
    "\n",
    "def dig2num(text):\n",
    "    return re.sub('(\\d+[\\WxX]*[^ ]*)+', 'NUM', text)\n",
    "\n",
    "def rm_tildes(text):\n",
    "    return ''.join((c for c in unicodedata.normalize('NFD', text) if unicodedata.category(c) != 'Mn'))\n",
    "\n",
    "def rm_media(text):\n",
    "    return re.sub(r'<archivo omitido>|<media omitted>', 'MEDIA', text)\n",
    "\n",
    "def rm_repeated(text):\n",
    "    return re.sub(r'([aeourshmi])\\1{2,}', r'\\1', text)\n",
    "\n",
    "def rm_ok(text):\n",
    "    return re.sub('(ok)+[akis]*', 'ok', text)\n",
    "\n",
    "def rm_sw(text):\n",
    "    return re.sub('{1}{0}{1}'.format(STOP_WORDS, '[]'), '', text)\n",
    "\n",
    "def rm_ja(text):\n",
    "    return re.sub('(ja[ja(js)]*)+', 'ja', text)\n",
    "\n",
    "def rm_si(text):\n",
    "    return re.sub('[s]+[i]+', 'si', text)\n",
    "\n",
    "def to_low(text):\n",
    "    return text.lower()\n",
    "\n",
    "def clean_text(text):\n",
    "    return rm_media(rm_tildes(to_low(text)))\n",
    "\n",
    "def clean_text_1(text):\n",
    "    return dig2num(rm_si(rm_ok(rm_ja(rm_repeated(rm_sw(clean_text(text)))))))"
   ]
  },
  {
   "cell_type": "code",
   "execution_count": 22,
   "metadata": {},
   "outputs": [],
   "source": [
    "distribution_words = Counter(chain.from_iterable(df.message.map(lambda x: clean_text_1(x).split())))"
   ]
  },
  {
   "cell_type": "code",
   "execution_count": 23,
   "metadata": {},
   "outputs": [],
   "source": [
    "df_distribution = pd.DataFrame(\n",
    "    data={\n",
    "        'word': list(distribution_words.keys()), \n",
    "        'counter': list(distribution_words.values())\n",
    "    }\n",
    ")"
   ]
  },
  {
   "cell_type": "code",
   "execution_count": 24,
   "metadata": {},
   "outputs": [],
   "source": [
    "new_df = df_distribution[df_distribution.counter > 10]"
   ]
  },
  {
   "cell_type": "code",
   "execution_count": 25,
   "metadata": {},
   "outputs": [
    {
     "data": {
      "text/plain": [
       "counter    5504\n",
       "word       5504\n",
       "dtype: int64"
      ]
     },
     "execution_count": 25,
     "metadata": {},
     "output_type": "execute_result"
    }
   ],
   "source": [
    "new_df.count()"
   ]
  },
  {
   "cell_type": "code",
   "execution_count": 26,
   "metadata": {},
   "outputs": [
    {
     "data": {
      "text/html": [
       "<div>\n",
       "<style>\n",
       "    .dataframe thead tr:only-child th {\n",
       "        text-align: right;\n",
       "    }\n",
       "\n",
       "    .dataframe thead th {\n",
       "        text-align: left;\n",
       "    }\n",
       "\n",
       "    .dataframe tbody tr th {\n",
       "        vertical-align: top;\n",
       "    }\n",
       "</style>\n",
       "<table border=\"1\" class=\"dataframe\">\n",
       "  <thead>\n",
       "    <tr style=\"text-align: right;\">\n",
       "      <th></th>\n",
       "      <th>counter</th>\n",
       "      <th>word</th>\n",
       "    </tr>\n",
       "  </thead>\n",
       "  <tbody>\n",
       "    <tr>\n",
       "      <th>9</th>\n",
       "      <td>29523</td>\n",
       "      <td>que</td>\n",
       "    </tr>\n",
       "    <tr>\n",
       "      <th>34</th>\n",
       "      <td>25646</td>\n",
       "      <td>de</td>\n",
       "    </tr>\n",
       "    <tr>\n",
       "      <th>13</th>\n",
       "      <td>22396</td>\n",
       "      <td>a</td>\n",
       "    </tr>\n",
       "    <tr>\n",
       "      <th>86</th>\n",
       "      <td>22194</td>\n",
       "      <td>no</td>\n",
       "    </tr>\n",
       "    <tr>\n",
       "      <th>20</th>\n",
       "      <td>20865</td>\n",
       "      <td>la</td>\n",
       "    </tr>\n",
       "    <tr>\n",
       "      <th>42</th>\n",
       "      <td>19731</td>\n",
       "      <td>el</td>\n",
       "    </tr>\n",
       "    <tr>\n",
       "      <th>184</th>\n",
       "      <td>19540</td>\n",
       "      <td>ja</td>\n",
       "    </tr>\n",
       "    <tr>\n",
       "      <th>28</th>\n",
       "      <td>18232</td>\n",
       "      <td>y</td>\n",
       "    </tr>\n",
       "    <tr>\n",
       "      <th>71</th>\n",
       "      <td>16426</td>\n",
       "      <td>NUM</td>\n",
       "    </tr>\n",
       "    <tr>\n",
       "      <th>0</th>\n",
       "      <td>16066</td>\n",
       "      <td>MEDIA</td>\n",
       "    </tr>\n",
       "    <tr>\n",
       "      <th>26</th>\n",
       "      <td>14224</td>\n",
       "      <td>en</td>\n",
       "    </tr>\n",
       "    <tr>\n",
       "      <th>229</th>\n",
       "      <td>14183</td>\n",
       "      <td>me</td>\n",
       "    </tr>\n",
       "    <tr>\n",
       "      <th>77</th>\n",
       "      <td>13594</td>\n",
       "      <td>si</td>\n",
       "    </tr>\n",
       "    <tr>\n",
       "      <th>49</th>\n",
       "      <td>11496</td>\n",
       "      <td>lo</td>\n",
       "    </tr>\n",
       "    <tr>\n",
       "      <th>41</th>\n",
       "      <td>11287</td>\n",
       "      <td>es</td>\n",
       "    </tr>\n",
       "    <tr>\n",
       "      <th>17</th>\n",
       "      <td>9311</td>\n",
       "      <td>se</td>\n",
       "    </tr>\n",
       "    <tr>\n",
       "      <th>32</th>\n",
       "      <td>7942</td>\n",
       "      <td>un</td>\n",
       "    </tr>\n",
       "    <tr>\n",
       "      <th>91</th>\n",
       "      <td>7816</td>\n",
       "      <td>te</td>\n",
       "    </tr>\n",
       "    <tr>\n",
       "      <th>199</th>\n",
       "      <td>7565</td>\n",
       "      <td>los</td>\n",
       "    </tr>\n",
       "    <tr>\n",
       "      <th>89</th>\n",
       "      <td>7549</td>\n",
       "      <td>para</td>\n",
       "    </tr>\n",
       "  </tbody>\n",
       "</table>\n",
       "</div>"
      ],
      "text/plain": [
       "     counter   word\n",
       "9      29523    que\n",
       "34     25646     de\n",
       "13     22396      a\n",
       "86     22194     no\n",
       "20     20865     la\n",
       "42     19731     el\n",
       "184    19540     ja\n",
       "28     18232      y\n",
       "71     16426    NUM\n",
       "0      16066  MEDIA\n",
       "26     14224     en\n",
       "229    14183     me\n",
       "77     13594     si\n",
       "49     11496     lo\n",
       "41     11287     es\n",
       "17      9311     se\n",
       "32      7942     un\n",
       "91      7816     te\n",
       "199     7565    los\n",
       "89      7549   para"
      ]
     },
     "execution_count": 26,
     "metadata": {},
     "output_type": "execute_result"
    }
   ],
   "source": [
    "new_df.sort_values('counter', ascending=False).head(20)"
   ]
  },
  {
   "cell_type": "code",
   "execution_count": 27,
   "metadata": {},
   "outputs": [
    {
     "data": {
      "text/html": [
       "<div>\n",
       "<style>\n",
       "    .dataframe thead tr:only-child th {\n",
       "        text-align: right;\n",
       "    }\n",
       "\n",
       "    .dataframe thead th {\n",
       "        text-align: left;\n",
       "    }\n",
       "\n",
       "    .dataframe tbody tr th {\n",
       "        vertical-align: top;\n",
       "    }\n",
       "</style>\n",
       "<table border=\"1\" class=\"dataframe\">\n",
       "  <thead>\n",
       "    <tr style=\"text-align: right;\">\n",
       "      <th></th>\n",
       "      <th>counter</th>\n",
       "      <th>word</th>\n",
       "    </tr>\n",
       "  </thead>\n",
       "  <tbody>\n",
       "    <tr>\n",
       "      <th>8330</th>\n",
       "      <td>11</td>\n",
       "      <td>rodrigo</td>\n",
       "    </tr>\n",
       "    <tr>\n",
       "      <th>2243</th>\n",
       "      <td>11</td>\n",
       "      <td>😢😢😢</td>\n",
       "    </tr>\n",
       "    <tr>\n",
       "      <th>17894</th>\n",
       "      <td>11</td>\n",
       "      <td>italia</td>\n",
       "    </tr>\n",
       "    <tr>\n",
       "      <th>5727</th>\n",
       "      <td>11</td>\n",
       "      <td>🤐</td>\n",
       "    </tr>\n",
       "    <tr>\n",
       "      <th>15247</th>\n",
       "      <td>11</td>\n",
       "      <td>jjja</td>\n",
       "    </tr>\n",
       "    <tr>\n",
       "      <th>7631</th>\n",
       "      <td>11</td>\n",
       "      <td>min</td>\n",
       "    </tr>\n",
       "    <tr>\n",
       "      <th>5759</th>\n",
       "      <td>11</td>\n",
       "      <td>agreguen</td>\n",
       "    </tr>\n",
       "    <tr>\n",
       "      <th>5772</th>\n",
       "      <td>11</td>\n",
       "      <td>contaba</td>\n",
       "    </tr>\n",
       "    <tr>\n",
       "      <th>23610</th>\n",
       "      <td>11</td>\n",
       "      <td>pereza</td>\n",
       "    </tr>\n",
       "    <tr>\n",
       "      <th>12403</th>\n",
       "      <td>11</td>\n",
       "      <td>normalmente</td>\n",
       "    </tr>\n",
       "    <tr>\n",
       "      <th>17839</th>\n",
       "      <td>11</td>\n",
       "      <td>flayer</td>\n",
       "    </tr>\n",
       "    <tr>\n",
       "      <th>23732</th>\n",
       "      <td>11</td>\n",
       "      <td>elite</td>\n",
       "    </tr>\n",
       "    <tr>\n",
       "      <th>17834</th>\n",
       "      <td>11</td>\n",
       "      <td>flyer</td>\n",
       "    </tr>\n",
       "    <tr>\n",
       "      <th>6967</th>\n",
       "      <td>11</td>\n",
       "      <td>godoy</td>\n",
       "    </tr>\n",
       "    <tr>\n",
       "      <th>12437</th>\n",
       "      <td>11</td>\n",
       "      <td>niveles</td>\n",
       "    </tr>\n",
       "    <tr>\n",
       "      <th>9985</th>\n",
       "      <td>11</td>\n",
       "      <td>potente</td>\n",
       "    </tr>\n",
       "    <tr>\n",
       "      <th>23825</th>\n",
       "      <td>11</td>\n",
       "      <td>saldra</td>\n",
       "    </tr>\n",
       "    <tr>\n",
       "      <th>17820</th>\n",
       "      <td>11</td>\n",
       "      <td>cuentes</td>\n",
       "    </tr>\n",
       "    <tr>\n",
       "      <th>5798</th>\n",
       "      <td>11</td>\n",
       "      <td>upa</td>\n",
       "    </tr>\n",
       "    <tr>\n",
       "      <th>23952</th>\n",
       "      <td>11</td>\n",
       "      <td>haa</td>\n",
       "    </tr>\n",
       "  </tbody>\n",
       "</table>\n",
       "</div>"
      ],
      "text/plain": [
       "       counter         word\n",
       "8330        11      rodrigo\n",
       "2243        11          😢😢😢\n",
       "17894       11       italia\n",
       "5727        11            🤐\n",
       "15247       11         jjja\n",
       "7631        11          min\n",
       "5759        11     agreguen\n",
       "5772        11      contaba\n",
       "23610       11       pereza\n",
       "12403       11  normalmente\n",
       "17839       11       flayer\n",
       "23732       11        elite\n",
       "17834       11        flyer\n",
       "6967        11        godoy\n",
       "12437       11      niveles\n",
       "9985        11      potente\n",
       "23825       11       saldra\n",
       "17820       11      cuentes\n",
       "5798        11          upa\n",
       "23952       11          haa"
      ]
     },
     "execution_count": 27,
     "metadata": {},
     "output_type": "execute_result"
    }
   ],
   "source": [
    "new_df.sort_values('counter').head(20)"
   ]
  },
  {
   "cell_type": "markdown",
   "metadata": {},
   "source": [
    "Las listas van cobrando sentido"
   ]
  }
 ],
 "metadata": {
  "kernelspec": {
   "display_name": "Python 3",
   "language": "python",
   "name": "python3"
  },
  "language_info": {
   "codemirror_mode": {
    "name": "ipython",
    "version": 3
   },
   "file_extension": ".py",
   "mimetype": "text/x-python",
   "name": "python",
   "nbconvert_exporter": "python",
   "pygments_lexer": "ipython3",
   "version": "3.6.2"
  }
 },
 "nbformat": 4,
 "nbformat_minor": 2
}
