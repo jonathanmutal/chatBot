{
 "cells": [
  {
   "cell_type": "markdown",
   "metadata": {},
   "source": [
    "# Experimentación"
   ]
  },
  {
   "cell_type": "markdown",
   "metadata": {},
   "source": [
    "Vimos que la distribución de las palabras en el texto de entrenamiento no es buena. Puede haber dos alternativas para solucionar este problema: conseguir más corpus o balancear las clases. Esto podrá ser tomado como un trabajo futuro, debido a la falta de tiempo y dificultad para adquirir nuevos chats. Por ende, descartamos la posibilidad de utilizar textos sin preproceso (las palabras de los chats aparecerán al menos 20 veces)."
   ]
  },
  {
   "cell_type": "markdown",
   "metadata": {},
   "source": [
    "# Primeros experimento: por respuesta corta\n",
    "\n",
    "Los siguientes experimentos serán realizados por respuesta corta, es decir respuestas con una dos y tres palabras.\n",
    "\n",
    "Compararemos una palabra vs. dos palabras vs. tres palabras como respuesta corta.\n",
    "\n",
    "Experimentaremos con:\n",
    "\n",
    "- palabras que suceden más de 20 veces en el corpus. Quitando todos los signos de puntuación y los emojis, letras repetidas, etc.\n",
    "- bolsa de subpalabras (BOsW) con 3-gramas.\n",
    "- logistic Regression\n",
    "\n",
    "Una vez comparados los tres resultados, elegiremos de este para compararlos con otra forma de etiquetar el corpus."
   ]
  },
  {
   "cell_type": "code",
   "execution_count": 7,
   "metadata": {},
   "outputs": [],
   "source": [
    "from sklearn.linear_model import LogisticRegression\n",
    "from sklearn.model_selection import train_test_split\n",
    "from sklearn.metrics import classification_report\n",
    "from sklearn.feature_extraction.text import CountVectorizer\n",
    "\n",
    "import pandas as pd"
   ]
  },
  {
   "cell_type": "code",
   "execution_count": 22,
   "metadata": {},
   "outputs": [],
   "source": [
    "def manage_file(path):\n",
    "    df = pd.read_csv(path)\n",
    "    labels_unique = df.label.unique()\n",
    "    label_to_num = dict(zip(labels_unique, range(len(labels_unique))))\n",
    "\n",
    "    df.label = df.label.map(label_to_num)\n",
    "\n",
    "    target_names = [x for x, _ in sorted(label_to_num.items(), key=lambda x: x[1])]\n",
    "    return df, target_names"
   ]
  },
  {
   "cell_type": "code",
   "execution_count": 15,
   "metadata": {},
   "outputs": [],
   "source": [
    "def BOW(df, min_df=10, analizer='char', ngram_range=(3,4)):\n",
    "    vectorizer = CountVectorizer(min_df=10, analyzer='char', ngram_range=(3,4))\n",
    "    representation = vectorizer.fit(df.context)\n",
    "    BOW_matrix = representation.transform(df.context)\n",
    "\n",
    "    return BOW_matrix"
   ]
  },
  {
   "cell_type": "code",
   "execution_count": 10,
   "metadata": {},
   "outputs": [],
   "source": [
    "def split_data(X, Y, train_size=.9):\n",
    "    return train_test_split(X, Y, train_size=train_size)"
   ]
  },
  {
   "cell_type": "code",
   "execution_count": 25,
   "metadata": {},
   "outputs": [],
   "source": [
    "def results(Y_test, predict, target_names=[]):\n",
    "    print('accuracy: ', sum(predict == Y_test) / len(Y_test))\n",
    "    print('==================================================================')\n",
    "    \n",
    "    print(classification_report(Y_test, predict, target_names=target_names))\n",
    "    \n",
    "    print('==================================================================')"
   ]
  },
  {
   "cell_type": "markdown",
   "metadata": {},
   "source": [
    "### Una palabra"
   ]
  },
  {
   "cell_type": "code",
   "execution_count": 23,
   "metadata": {},
   "outputs": [],
   "source": [
    "df, target_names = manage_file('short_ans1.csv')"
   ]
  },
  {
   "cell_type": "code",
   "execution_count": 16,
   "metadata": {},
   "outputs": [
    {
     "data": {
      "text/plain": [
       "(12771, 22052)"
      ]
     },
     "execution_count": 16,
     "metadata": {},
     "output_type": "execute_result"
    }
   ],
   "source": [
    "BOG_matrix = BOW(df)\n",
    "BOG_matrix.shape"
   ]
  },
  {
   "cell_type": "markdown",
   "metadata": {},
   "source": [
    "Hay 12,771 oraciones de entrenamiento con 22,052 features por cada oración (muchas columnas de las matriz seguramente son 0, matriz esparsa)"
   ]
  },
  {
   "cell_type": "code",
   "execution_count": 17,
   "metadata": {
    "scrolled": true
   },
   "outputs": [
    {
     "name": "stderr",
     "output_type": "stream",
     "text": [
      "/home/jonathan/.virtualenvs/dataMining/lib/python3.5/site-packages/sklearn/model_selection/_split.py:2010: FutureWarning: From version 0.21, test_size will always complement train_size unless both are specified.\n",
      "  FutureWarning)\n"
     ]
    }
   ],
   "source": [
    "X_train, X_test, Y_train, Y_test = split_data(BOG_matrix, df.label, train_size=.9)"
   ]
  },
  {
   "cell_type": "code",
   "execution_count": 18,
   "metadata": {},
   "outputs": [
    {
     "name": "stderr",
     "output_type": "stream",
     "text": [
      "/home/jonathan/.virtualenvs/dataMining/lib/python3.5/site-packages/sklearn/linear_model/logistic.py:1228: UserWarning: 'n_jobs' > 1 does not have any effect when 'solver' is set to 'liblinear'. Got 'n_jobs' = 4.\n",
      "  \" = {}.\".format(self.n_jobs))\n"
     ]
    }
   ],
   "source": [
    "lg = LogisticRegression(n_jobs=4)\n",
    "lg = lg.fit(X_train, Y_train)"
   ]
  },
  {
   "cell_type": "code",
   "execution_count": 19,
   "metadata": {},
   "outputs": [],
   "source": [
    "predict = lg.predict(X_test)"
   ]
  },
  {
   "cell_type": "code",
   "execution_count": 26,
   "metadata": {},
   "outputs": [
    {
     "name": "stdout",
     "output_type": "stream",
     "text": [
      "accuracy:  0.507042253521\n",
      "==================================================================\n",
      "             precision    recall  f1-score   support\n",
      "\n",
      "         yo       0.17      0.12      0.14         8\n",
      "       hola       0.20      0.05      0.08        20\n",
      "         ja       0.60      0.86      0.71       632\n",
      "          🏼       0.00      0.00      0.00        15\n",
      "          🏻       0.08      0.04      0.05        27\n",
      "         no       0.12      0.04      0.06        47\n",
      "         si       0.09      0.07      0.08        91\n",
      "         🏻🏻       0.00      0.00      0.00         7\n",
      "        jja       0.00      0.00      0.00        13\n",
      "         🏻‍       0.00      0.00      0.00         8\n",
      "         oh       0.00      0.00      0.00         7\n",
      "          m       0.40      0.14      0.21        14\n",
      "         ok       0.47      0.44      0.45       130\n",
      "      claro       0.09      0.05      0.06        20\n",
      "    gracias       0.21      0.14      0.17        42\n",
      "       dale       0.30      0.32      0.31        34\n",
      "     genial       0.50      0.19      0.27        16\n",
      "         ah       0.08      0.05      0.06        19\n",
      "       dani       0.00      0.00      0.00         5\n",
      "        sip       0.40      0.20      0.27        10\n",
      "         uh       0.00      0.00      0.00        12\n",
      "       sisi       0.40      0.12      0.18        17\n",
      "       jiji       0.00      0.00      0.00         2\n",
      "      bueno       0.50      0.17      0.25        12\n",
      "        mal       0.00      0.00      0.00        10\n",
      "          🏽       0.00      0.00      0.00        10\n",
      "         eu       0.00      0.00      0.00         8\n",
      "         se       0.00      0.00      0.00         7\n",
      "        aja       0.20      0.06      0.09        18\n",
      "        xdd       0.75      0.27      0.40        11\n",
      "          v       0.50      0.17      0.25         6\n",
      "\n",
      "avg / total       0.42      0.51      0.44      1278\n",
      "\n",
      "==================================================================\n"
     ]
    },
    {
     "name": "stderr",
     "output_type": "stream",
     "text": [
      "/home/jonathan/.virtualenvs/dataMining/lib/python3.5/site-packages/sklearn/metrics/classification.py:1135: UndefinedMetricWarning: Precision and F-score are ill-defined and being set to 0.0 in labels with no predicted samples.\n",
      "  'precision', 'predicted', average, warn_for)\n"
     ]
    }
   ],
   "source": [
    "results(Y_test, predict, target_names=target_names)"
   ]
  },
  {
   "cell_type": "markdown",
   "metadata": {},
   "source": [
    "### Dos palabras"
   ]
  },
  {
   "cell_type": "code",
   "execution_count": 27,
   "metadata": {},
   "outputs": [],
   "source": [
    "df, target_names = manage_file('short_ans2.csv')"
   ]
  },
  {
   "cell_type": "code",
   "execution_count": 28,
   "metadata": {},
   "outputs": [
    {
     "data": {
      "text/plain": [
       "(13240, 22075)"
      ]
     },
     "execution_count": 28,
     "metadata": {},
     "output_type": "execute_result"
    }
   ],
   "source": [
    "BOG_matrix = BOW(df)\n",
    "BOG_matrix.shape"
   ]
  },
  {
   "cell_type": "markdown",
   "metadata": {},
   "source": [
    "Hay 13,240 oraciones de entrenamiento con 22,075 features por cada oración (muchas columnas de las matriz seguramente son 0, matriz esparsa)"
   ]
  },
  {
   "cell_type": "code",
   "execution_count": 29,
   "metadata": {
    "scrolled": true
   },
   "outputs": [
    {
     "name": "stderr",
     "output_type": "stream",
     "text": [
      "/home/jonathan/.virtualenvs/dataMining/lib/python3.5/site-packages/sklearn/model_selection/_split.py:2010: FutureWarning: From version 0.21, test_size will always complement train_size unless both are specified.\n",
      "  FutureWarning)\n"
     ]
    }
   ],
   "source": [
    "X_train, X_test, Y_train, Y_test = split_data(BOG_matrix, df.label, train_size=.9)"
   ]
  },
  {
   "cell_type": "code",
   "execution_count": 30,
   "metadata": {},
   "outputs": [
    {
     "name": "stderr",
     "output_type": "stream",
     "text": [
      "/home/jonathan/.virtualenvs/dataMining/lib/python3.5/site-packages/sklearn/linear_model/logistic.py:1228: UserWarning: 'n_jobs' > 1 does not have any effect when 'solver' is set to 'liblinear'. Got 'n_jobs' = 4.\n",
      "  \" = {}.\".format(self.n_jobs))\n"
     ]
    }
   ],
   "source": [
    "lg = LogisticRegression(n_jobs=4)\n",
    "lg = lg.fit(X_train, Y_train)"
   ]
  },
  {
   "cell_type": "code",
   "execution_count": 31,
   "metadata": {},
   "outputs": [],
   "source": [
    "predict = lg.predict(X_test)"
   ]
  },
  {
   "cell_type": "code",
   "execution_count": 32,
   "metadata": {},
   "outputs": [
    {
     "name": "stdout",
     "output_type": "stream",
     "text": [
      "accuracy:  0.482628398792\n",
      "==================================================================\n",
      "             precision    recall  f1-score   support\n",
      "\n",
      "         yo       0.43      0.33      0.38         9\n",
      "       hola       0.14      0.11      0.12         9\n",
      "         ja       0.58      0.85      0.69       639\n",
      "          🏼       0.17      0.05      0.08        20\n",
      "          🏻       0.17      0.05      0.08        37\n",
      "      ja si       0.00      0.00      0.00        12\n",
      "         no       0.11      0.08      0.09        39\n",
      "         si       0.15      0.11      0.13       109\n",
      "         🏻🏻       0.00      0.00      0.00         6\n",
      "        jja       0.00      0.00      0.00        12\n",
      "         🏻‍       0.00      0.00      0.00        13\n",
      "         oh       0.00      0.00      0.00        12\n",
      "          m       0.00      0.00      0.00        16\n",
      "         ok       0.37      0.37      0.37       115\n",
      "      claro       0.25      0.17      0.20        12\n",
      "    gracias       0.35      0.20      0.26        30\n",
      "       dale       0.28      0.20      0.24        44\n",
      "     genial       0.60      0.14      0.23        21\n",
      "     de una       0.00      0.00      0.00         7\n",
      "      a ver       0.67      0.29      0.40         7\n",
      "         ah       0.08      0.05      0.06        19\n",
      "       dani       0.00      0.00      0.00        13\n",
      "        sip       0.25      0.15      0.19        13\n",
      "    de nada       0.00      0.00      0.00         8\n",
      "         uh       0.00      0.00      0.00         8\n",
      "       sisi       0.00      0.00      0.00        18\n",
      "       jiji       0.00      0.00      0.00         1\n",
      "      bueno       0.40      0.11      0.17        18\n",
      "        mal       0.00      0.00      0.00         5\n",
      "          🏽       0.00      0.00      0.00         5\n",
      "         eu       0.00      0.00      0.00         8\n",
      "         se       0.00      0.00      0.00        10\n",
      "        aja       0.60      0.18      0.27        17\n",
      "        xdd       0.12      0.17      0.14         6\n",
      "          v       0.00      0.00      0.00         6\n",
      "\n",
      "avg / total       0.39      0.48      0.42      1324\n",
      "\n",
      "==================================================================\n"
     ]
    },
    {
     "name": "stderr",
     "output_type": "stream",
     "text": [
      "/home/jonathan/.virtualenvs/dataMining/lib/python3.5/site-packages/sklearn/metrics/classification.py:1135: UndefinedMetricWarning: Precision and F-score are ill-defined and being set to 0.0 in labels with no predicted samples.\n",
      "  'precision', 'predicted', average, warn_for)\n"
     ]
    }
   ],
   "source": [
    "results(Y_test, predict, target_names=target_names)"
   ]
  },
  {
   "cell_type": "markdown",
   "metadata": {},
   "source": [
    "### Tres palabras"
   ]
  },
  {
   "cell_type": "code",
   "execution_count": 35,
   "metadata": {},
   "outputs": [],
   "source": [
    "df, target_names = manage_file('short_ans3.csv')"
   ]
  },
  {
   "cell_type": "code",
   "execution_count": 36,
   "metadata": {},
   "outputs": [
    {
     "data": {
      "text/plain": [
       "(13240, 22075)"
      ]
     },
     "execution_count": 36,
     "metadata": {},
     "output_type": "execute_result"
    }
   ],
   "source": [
    "BOG_matrix = BOW(df)\n",
    "BOG_matrix.shape"
   ]
  },
  {
   "cell_type": "markdown",
   "metadata": {},
   "source": [
    "Hay 13,240 oraciones de entrenamiento con 22,075 features por cada oración (muchas columnas de las matriz seguramente son 0, matriz esparsa)"
   ]
  },
  {
   "cell_type": "code",
   "execution_count": 37,
   "metadata": {
    "scrolled": true
   },
   "outputs": [
    {
     "name": "stderr",
     "output_type": "stream",
     "text": [
      "/home/jonathan/.virtualenvs/dataMining/lib/python3.5/site-packages/sklearn/model_selection/_split.py:2010: FutureWarning: From version 0.21, test_size will always complement train_size unless both are specified.\n",
      "  FutureWarning)\n"
     ]
    }
   ],
   "source": [
    "X_train, X_test, Y_train, Y_test = split_data(BOG_matrix, df.label, train_size=.9)"
   ]
  },
  {
   "cell_type": "code",
   "execution_count": 38,
   "metadata": {},
   "outputs": [
    {
     "name": "stderr",
     "output_type": "stream",
     "text": [
      "/home/jonathan/.virtualenvs/dataMining/lib/python3.5/site-packages/sklearn/linear_model/logistic.py:1228: UserWarning: 'n_jobs' > 1 does not have any effect when 'solver' is set to 'liblinear'. Got 'n_jobs' = 4.\n",
      "  \" = {}.\".format(self.n_jobs))\n"
     ]
    }
   ],
   "source": [
    "lg = LogisticRegression(n_jobs=4)\n",
    "lg = lg.fit(X_train, Y_train)"
   ]
  },
  {
   "cell_type": "code",
   "execution_count": 39,
   "metadata": {},
   "outputs": [],
   "source": [
    "predict = lg.predict(X_test)"
   ]
  },
  {
   "cell_type": "code",
   "execution_count": 40,
   "metadata": {},
   "outputs": [
    {
     "name": "stdout",
     "output_type": "stream",
     "text": [
      "accuracy:  0.46752265861\n",
      "==================================================================\n",
      "             precision    recall  f1-score   support\n",
      "\n",
      "         yo       0.20      0.18      0.19        11\n",
      "       hola       0.25      0.06      0.10        17\n",
      "         ja       0.57      0.86      0.68       615\n",
      "          🏼       0.08      0.06      0.07        17\n",
      "          🏻       0.23      0.09      0.13        34\n",
      "      ja si       0.00      0.00      0.00         7\n",
      "         no       0.00      0.00      0.00        30\n",
      "         si       0.13      0.11      0.12        99\n",
      "         🏻🏻       0.00      0.00      0.00         8\n",
      "        jja       0.00      0.00      0.00         7\n",
      "         🏻‍       0.00      0.00      0.00        10\n",
      "         oh       0.00      0.00      0.00         5\n",
      "          m       0.33      0.11      0.17         9\n",
      "         ok       0.40      0.37      0.38       131\n",
      "      claro       0.25      0.06      0.10        31\n",
      "    gracias       0.27      0.13      0.18        46\n",
      "       dale       0.27      0.21      0.23        39\n",
      "     genial       0.17      0.11      0.13        18\n",
      "     de una       0.00      0.00      0.00         8\n",
      "      a ver       0.50      0.17      0.25         6\n",
      "         ah       0.33      0.03      0.06        29\n",
      "       dani       0.00      0.00      0.00         6\n",
      "        sip       0.00      0.00      0.00        18\n",
      "    de nada       0.33      0.27      0.30        11\n",
      "         uh       0.00      0.00      0.00        12\n",
      "       sisi       0.00      0.00      0.00         9\n",
      "       jiji       0.00      0.00      0.00         3\n",
      "      bueno       0.00      0.00      0.00        21\n",
      "        mal       0.00      0.00      0.00         4\n",
      "          🏽       0.00      0.00      0.00         7\n",
      "         eu       0.00      0.00      0.00         7\n",
      "         se       0.00      0.00      0.00        18\n",
      "        aja       0.17      0.07      0.10        15\n",
      "        xdd       0.33      0.11      0.17         9\n",
      "          v       0.00      0.00      0.00         7\n",
      "\n",
      "avg / total       0.37      0.47      0.40      1324\n",
      "\n",
      "==================================================================\n"
     ]
    },
    {
     "name": "stderr",
     "output_type": "stream",
     "text": [
      "/home/jonathan/.virtualenvs/dataMining/lib/python3.5/site-packages/sklearn/metrics/classification.py:1135: UndefinedMetricWarning: Precision and F-score are ill-defined and being set to 0.0 in labels with no predicted samples.\n",
      "  'precision', 'predicted', average, warn_for)\n"
     ]
    }
   ],
   "source": [
    "results(Y_test, predict, target_names=target_names)"
   ]
  },
  {
   "cell_type": "markdown",
   "metadata": {},
   "source": [
    "## Conclusión"
   ]
  },
  {
   "cell_type": "markdown",
   "metadata": {},
   "source": [
    "Los resultados fueron mejores para una sola palabra en la respuesta. Es claro que iba a ser mejor debido a que la variedad de respuestas iban a ser mayor. Elegimos el modelo entrenado con una sola palabra de respuesta para comparar con los otros."
   ]
  },
  {
   "cell_type": "markdown",
   "metadata": {},
   "source": [
    "# Segundo experimento: por turnos"
   ]
  },
  {
   "cell_type": "markdown",
   "metadata": {},
   "source": [
    "Etiquetamos de acuerdo a los turnos, es decir eligiremos el contexto de acuerdo con:\n",
    "   - el turno inmediatamente anterior de respuesta corta\n",
    "   - los 3 turnos inmediatamente anteriores de respuesta corta\n",
    "   - los 10 turnos inmediatamente anteriores de respuesta corta\n",
    "   \n",
    "Al igual que el experimento uno, usaremos:\n",
    "\n",
    "- palabras que suceden más de 20 veces en el corpus. Quitando todos los signos de puntuación y los emojis, letras repetidas, etc.\n",
    "- bolsa de subpalabras (BOsW) con 3-gramas.\n",
    "- logistic Regression\n",
    "\n",
    "Eligiremos la mejor de cada uno, para luego intentar otros embeddings y/o clasificadores"
   ]
  },
  {
   "cell_type": "markdown",
   "metadata": {},
   "source": [
    "### Turno inmediatamente anterior"
   ]
  },
  {
   "cell_type": "code",
   "execution_count": 44,
   "metadata": {},
   "outputs": [],
   "source": [
    "df, target_names = manage_file('turn1_short1_pre2.csv')"
   ]
  },
  {
   "cell_type": "code",
   "execution_count": 45,
   "metadata": {},
   "outputs": [
    {
     "data": {
      "text/plain": [
       "(17758, 8480)"
      ]
     },
     "execution_count": 45,
     "metadata": {},
     "output_type": "execute_result"
    }
   ],
   "source": [
    "BOW_matrix = BOW(df)\n",
    "BOW_matrix.shape"
   ]
  },
  {
   "cell_type": "markdown",
   "metadata": {},
   "source": [
    "Hay 17,758 oraciones de entrenamiento con 8,480 features por cada oración (muchas columnas de las matriz seguramente son 0, matriz esparsa)"
   ]
  },
  {
   "cell_type": "code",
   "execution_count": 46,
   "metadata": {
    "scrolled": true
   },
   "outputs": [
    {
     "name": "stderr",
     "output_type": "stream",
     "text": [
      "/home/jonathan/.virtualenvs/dataMining/lib/python3.5/site-packages/sklearn/model_selection/_split.py:2010: FutureWarning: From version 0.21, test_size will always complement train_size unless both are specified.\n",
      "  FutureWarning)\n"
     ]
    }
   ],
   "source": [
    "X_train, X_test, Y_train, Y_test = split_data(BOG_matrix, df.label, train_size=.9)"
   ]
  },
  {
   "cell_type": "code",
   "execution_count": 47,
   "metadata": {},
   "outputs": [
    {
     "name": "stderr",
     "output_type": "stream",
     "text": [
      "/home/jonathan/.virtualenvs/dataMining/lib/python3.5/site-packages/sklearn/linear_model/logistic.py:1228: UserWarning: 'n_jobs' > 1 does not have any effect when 'solver' is set to 'liblinear'. Got 'n_jobs' = 4.\n",
      "  \" = {}.\".format(self.n_jobs))\n"
     ]
    }
   ],
   "source": [
    "lg = LogisticRegression(n_jobs=4)\n",
    "lg = lg.fit(X_train, Y_train)"
   ]
  },
  {
   "cell_type": "code",
   "execution_count": 48,
   "metadata": {},
   "outputs": [],
   "source": [
    "predict = lg.predict(X_test)"
   ]
  },
  {
   "cell_type": "code",
   "execution_count": 49,
   "metadata": {},
   "outputs": [
    {
     "name": "stdout",
     "output_type": "stream",
     "text": [
      "accuracy:  0.515202702703\n",
      "==================================================================\n",
      "             precision    recall  f1-score   support\n",
      "\n",
      "         yo       0.86      0.24      0.38        25\n",
      "       hola       0.38      0.24      0.29        21\n",
      "         ja       0.59      0.88      0.71       935\n",
      "         no       0.16      0.07      0.10        54\n",
      "          🏻       0.38      0.07      0.11        45\n",
      "          🏼       0.09      0.05      0.06        20\n",
      "         🏻‍       1.00      0.06      0.12        16\n",
      "         si       0.16      0.12      0.14       100\n",
      "         ok       0.30      0.27      0.28       128\n",
      "         🏻🏻       0.00      0.00      0.00         8\n",
      "        jja       0.50      0.09      0.15        11\n",
      "    gracias       0.24      0.10      0.14        62\n",
      "         oh       0.00      0.00      0.00         9\n",
      "          m       0.40      0.14      0.21        14\n",
      "         ah       0.29      0.07      0.11        30\n",
      "      claro       0.17      0.04      0.07        24\n",
      "       dale       0.14      0.09      0.11        55\n",
      "     genial       0.33      0.05      0.09        20\n",
      "       dani       0.20      0.07      0.10        15\n",
      "        sip       0.20      0.07      0.11        14\n",
      "       sisi       0.33      0.05      0.09        20\n",
      "         uh       0.00      0.00      0.00         7\n",
      "      bueno       0.50      0.05      0.10        19\n",
      "       jiji       0.00      0.00      0.00        12\n",
      "        mal       0.00      0.00      0.00         7\n",
      "          🏽       0.00      0.00      0.00        17\n",
      "         eu       0.00      0.00      0.00        11\n",
      "          v       0.00      0.00      0.00        11\n",
      "         se       0.00      0.00      0.00        14\n",
      "        aja       0.00      0.00      0.00        37\n",
      "        xdd       0.40      0.13      0.20        15\n",
      "\n",
      "avg / total       0.43      0.52      0.44      1776\n",
      "\n",
      "==================================================================\n"
     ]
    },
    {
     "name": "stderr",
     "output_type": "stream",
     "text": [
      "/home/jonathan/.virtualenvs/dataMining/lib/python3.5/site-packages/sklearn/metrics/classification.py:1135: UndefinedMetricWarning: Precision and F-score are ill-defined and being set to 0.0 in labels with no predicted samples.\n",
      "  'precision', 'predicted', average, warn_for)\n"
     ]
    }
   ],
   "source": [
    "results(Y_test, predict, target_names=target_names)"
   ]
  },
  {
   "cell_type": "markdown",
   "metadata": {},
   "source": [
    "### Tres turnos  anteriores"
   ]
  },
  {
   "cell_type": "code",
   "execution_count": 50,
   "metadata": {},
   "outputs": [],
   "source": [
    "df, target_names = manage_file('turn3_short1_pre2.csv')"
   ]
  },
  {
   "cell_type": "code",
   "execution_count": 51,
   "metadata": {},
   "outputs": [
    {
     "data": {
      "text/plain": [
       "(17758, 14565)"
      ]
     },
     "execution_count": 51,
     "metadata": {},
     "output_type": "execute_result"
    }
   ],
   "source": [
    "BOW_matrix = BOW(df)\n",
    "BOW_matrix.shape"
   ]
  },
  {
   "cell_type": "markdown",
   "metadata": {},
   "source": [
    "Hay 17,758 oraciones de entrenamiento con 14,565 features por cada oración (muchas columnas de las matriz seguramente son 0, matriz esparsa)"
   ]
  },
  {
   "cell_type": "code",
   "execution_count": 52,
   "metadata": {
    "scrolled": true
   },
   "outputs": [
    {
     "name": "stderr",
     "output_type": "stream",
     "text": [
      "/home/jonathan/.virtualenvs/dataMining/lib/python3.5/site-packages/sklearn/model_selection/_split.py:2010: FutureWarning: From version 0.21, test_size will always complement train_size unless both are specified.\n",
      "  FutureWarning)\n"
     ]
    }
   ],
   "source": [
    "X_train, X_test, Y_train, Y_test = split_data(BOG_matrix, df.label, train_size=.9)"
   ]
  },
  {
   "cell_type": "code",
   "execution_count": 53,
   "metadata": {},
   "outputs": [
    {
     "name": "stderr",
     "output_type": "stream",
     "text": [
      "/home/jonathan/.virtualenvs/dataMining/lib/python3.5/site-packages/sklearn/linear_model/logistic.py:1228: UserWarning: 'n_jobs' > 1 does not have any effect when 'solver' is set to 'liblinear'. Got 'n_jobs' = 4.\n",
      "  \" = {}.\".format(self.n_jobs))\n"
     ]
    }
   ],
   "source": [
    "lg = LogisticRegression(n_jobs=4)\n",
    "lg = lg.fit(X_train, Y_train)"
   ]
  },
  {
   "cell_type": "code",
   "execution_count": 54,
   "metadata": {},
   "outputs": [],
   "source": [
    "predict = lg.predict(X_test)"
   ]
  },
  {
   "cell_type": "code",
   "execution_count": 55,
   "metadata": {},
   "outputs": [
    {
     "name": "stdout",
     "output_type": "stream",
     "text": [
      "accuracy:  0.496058558559\n",
      "==================================================================\n",
      "             precision    recall  f1-score   support\n",
      "\n",
      "         yo       0.45      0.29      0.36        17\n",
      "       hola       0.25      0.10      0.14        20\n",
      "         ja       0.57      0.89      0.70       890\n",
      "         no       0.05      0.02      0.03        51\n",
      "          🏻       0.12      0.03      0.05        34\n",
      "          🏼       0.00      0.00      0.00        32\n",
      "         🏻‍       0.00      0.00      0.00        18\n",
      "         si       0.19      0.13      0.15       116\n",
      "         ok       0.34      0.26      0.30       144\n",
      "         🏻🏻       0.00      0.00      0.00        13\n",
      "        jja       0.00      0.00      0.00        10\n",
      "    gracias       0.17      0.07      0.10        56\n",
      "         oh       0.25      0.07      0.11        14\n",
      "          m       0.00      0.00      0.00        13\n",
      "         ah       0.10      0.03      0.05        32\n",
      "      claro       0.09      0.04      0.06        24\n",
      "       dale       0.30      0.15      0.20        53\n",
      "     genial       0.00      0.00      0.00        19\n",
      "       dani       0.00      0.00      0.00        20\n",
      "        sip       0.25      0.11      0.15        18\n",
      "       sisi       0.20      0.10      0.13        20\n",
      "         uh       0.00      0.00      0.00         7\n",
      "      bueno       0.67      0.18      0.29        22\n",
      "       jiji       0.00      0.00      0.00        19\n",
      "        mal       0.00      0.00      0.00        13\n",
      "          🏽       0.00      0.00      0.00        11\n",
      "         eu       0.00      0.00      0.00         8\n",
      "          v       0.00      0.00      0.00         8\n",
      "         se       0.00      0.00      0.00        23\n",
      "        aja       0.00      0.00      0.00        37\n",
      "        xdd       0.00      0.00      0.00        14\n",
      "\n",
      "avg / total       0.37      0.50      0.41      1776\n",
      "\n",
      "==================================================================\n"
     ]
    }
   ],
   "source": [
    "results(Y_test, predict, target_names=target_names)"
   ]
  },
  {
   "cell_type": "markdown",
   "metadata": {},
   "source": [
    "### Diez turnos  anteriores"
   ]
  },
  {
   "cell_type": "code",
   "execution_count": 63,
   "metadata": {},
   "outputs": [],
   "source": [
    "df, target_names = manage_file('turn10_short1_pre2.csv')"
   ]
  },
  {
   "cell_type": "code",
   "execution_count": 64,
   "metadata": {},
   "outputs": [
    {
     "data": {
      "text/plain": [
       "(17758, 23881)"
      ]
     },
     "execution_count": 64,
     "metadata": {},
     "output_type": "execute_result"
    }
   ],
   "source": [
    "BOW_matrix = BOW(df)\n",
    "BOW_matrix.shape"
   ]
  },
  {
   "cell_type": "markdown",
   "metadata": {},
   "source": [
    "Hay 17,758 oraciones de entrenamiento con 23,881 features por cada oración (muchas columnas de las matriz seguramente son 0, matriz esparsa)"
   ]
  },
  {
   "cell_type": "code",
   "execution_count": 65,
   "metadata": {
    "scrolled": true
   },
   "outputs": [
    {
     "name": "stderr",
     "output_type": "stream",
     "text": [
      "/home/jonathan/.virtualenvs/dataMining/lib/python3.5/site-packages/sklearn/model_selection/_split.py:2010: FutureWarning: From version 0.21, test_size will always complement train_size unless both are specified.\n",
      "  FutureWarning)\n"
     ]
    }
   ],
   "source": [
    "X_train, X_test, Y_train, Y_test = split_data(BOG_matrix, df.label, train_size=.9)"
   ]
  },
  {
   "cell_type": "code",
   "execution_count": 66,
   "metadata": {},
   "outputs": [
    {
     "name": "stderr",
     "output_type": "stream",
     "text": [
      "/home/jonathan/.virtualenvs/dataMining/lib/python3.5/site-packages/sklearn/linear_model/logistic.py:1228: UserWarning: 'n_jobs' > 1 does not have any effect when 'solver' is set to 'liblinear'. Got 'n_jobs' = 4.\n",
      "  \" = {}.\".format(self.n_jobs))\n"
     ]
    }
   ],
   "source": [
    "lg = LogisticRegression(n_jobs=4)\n",
    "lg = lg.fit(X_train, Y_train)"
   ]
  },
  {
   "cell_type": "code",
   "execution_count": 67,
   "metadata": {},
   "outputs": [],
   "source": [
    "predict = lg.predict(X_test)"
   ]
  },
  {
   "cell_type": "code",
   "execution_count": 68,
   "metadata": {},
   "outputs": [
    {
     "name": "stdout",
     "output_type": "stream",
     "text": [
      "accuracy:  0.492117117117\n",
      "==================================================================\n",
      "             precision    recall  f1-score   support\n",
      "\n",
      "         yo       0.55      0.30      0.39        20\n",
      "       hola       0.50      0.18      0.26        28\n",
      "         ja       0.57      0.86      0.69       902\n",
      "         no       0.00      0.00      0.00        43\n",
      "          🏻       0.07      0.03      0.04        40\n",
      "          🏼       0.20      0.04      0.07        23\n",
      "         🏻‍       0.00      0.00      0.00        15\n",
      "         si       0.17      0.13      0.15       109\n",
      "         ok       0.28      0.28      0.28       137\n",
      "         🏻🏻       0.00      0.00      0.00         9\n",
      "        jja       0.00      0.00      0.00        14\n",
      "    gracias       0.44      0.21      0.28        58\n",
      "         oh       1.00      0.08      0.15        12\n",
      "          m       0.25      0.06      0.10        16\n",
      "         ah       0.00      0.00      0.00        26\n",
      "      claro       0.20      0.04      0.06        26\n",
      "       dale       0.19      0.13      0.15        55\n",
      "     genial       0.40      0.07      0.12        28\n",
      "       dani       0.17      0.05      0.08        20\n",
      "        sip       0.33      0.05      0.09        20\n",
      "       sisi       0.00      0.00      0.00        18\n",
      "         uh       0.00      0.00      0.00        11\n",
      "      bueno       0.33      0.12      0.17        17\n",
      "       jiji       0.33      0.10      0.15        10\n",
      "        mal       0.00      0.00      0.00        13\n",
      "          🏽       0.00      0.00      0.00        13\n",
      "         eu       0.00      0.00      0.00        12\n",
      "          v       0.00      0.00      0.00        20\n",
      "         se       0.00      0.00      0.00        18\n",
      "        aja       0.00      0.00      0.00        29\n",
      "        xdd       0.25      0.07      0.11        14\n",
      "\n",
      "avg / total       0.39      0.49      0.41      1776\n",
      "\n",
      "==================================================================\n"
     ]
    },
    {
     "name": "stderr",
     "output_type": "stream",
     "text": [
      "/home/jonathan/.virtualenvs/dataMining/lib/python3.5/site-packages/sklearn/metrics/classification.py:1135: UndefinedMetricWarning: Precision and F-score are ill-defined and being set to 0.0 in labels with no predicted samples.\n",
      "  'precision', 'predicted', average, warn_for)\n"
     ]
    }
   ],
   "source": [
    "results(Y_test, predict, target_names=target_names)"
   ]
  },
  {
   "cell_type": "markdown",
   "metadata": {},
   "source": [
    "## Conclusión\n",
    "\n",
    "Resulto el mejor resultado para respuestas de una sóla palabra con turnos de uno."
   ]
  },
  {
   "cell_type": "markdown",
   "metadata": {},
   "source": []
  }
 ],
 "metadata": {
  "kernelspec": {
   "display_name": "Python 3",
   "language": "python",
   "name": "python3"
  },
  "language_info": {
   "codemirror_mode": {
    "name": "ipython",
    "version": 3
   },
   "file_extension": ".py",
   "mimetype": "text/x-python",
   "name": "python",
   "nbconvert_exporter": "python",
   "pygments_lexer": "ipython3",
   "version": "3.5.2"
  }
 },
 "nbformat": 4,
 "nbformat_minor": 2
}
