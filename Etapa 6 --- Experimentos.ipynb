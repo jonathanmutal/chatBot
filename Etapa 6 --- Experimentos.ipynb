{
 "cells": [
  {
   "cell_type": "markdown",
   "metadata": {},
   "source": [
    "# Empezar a experimentar"
   ]
  },
  {
   "cell_type": "markdown",
   "metadata": {},
   "source": [
    "1. clases de repuestas cortas con 3 palabras que ocurren más de n veces (k clases)\n",
    "    1. contexto de turnos anteriores del otro usuario hasta encontrar respuesta del mismo usuario\n",
    "        1. unigramas (que ocurren más de m veces)\n",
    "            1. unigramas (que ocurren más de 10 veces)\n",
    "            2. unigramas (que ocurren más de 20 veces)\n",
    "        2. unigramas (que ocurren más de m veces) y bigramas (que ocurren más de p veces)\n",
    "        3. unigramas (que ocurren más de m veces) y bigramas (que ocurren más de p veces) y subwords (que ocurren más de r veces)\n",
    "        4. subwords (que ocuren más de r veces)\n",
    "    2. contexto de 1 turno anterior\n",
    "        1. unigramas (que ocurren más de m veces)\n",
    "            1. unigramas (que ocurren más de 10 veces)\n",
    "            2. unigramas (que ocurren más de 20 veces)\n",
    "        2. unigramas (que ocurren más de m veces) y bigramas (que ocurren más de p veces)\n",
    "        3. unigramas (que ocurren más de m veces) y bigramas (que ocurren más de p veces) y subwords (que ocurren más de r veces)\n",
    "        4. subwords (que ocuren más de r veces)\n",
    "    3. contexto de 3 turnos anteriores\n",
    "        1. unigramas (que ocurren más de m veces)\n",
    "            1. unigramas (que ocurren más de 10 veces)\n",
    "            2. unigramas (que ocurren más de 20 veces)\n",
    "        2. unigramas (que ocurren más de m veces) y bigramas (que ocurren más de p veces)\n",
    "        3. unigramas (que ocurren más de m veces) y bigramas (que ocurren más de p veces) y subwords (que ocurren más de r veces)\n",
    "        4. subwords (que ocuren más de r veces)\n",
    "    4. contexto de 10 turnos anteriores\n",
    "        1. unigramas (que ocurren más de m veces)\n",
    "            1. unigramas (que ocurren más de 10 veces)\n",
    "            2. unigramas (que ocurren más de 20 veces)\n",
    "        2. unigramas (que ocurren más de m veces) y bigramas (que ocurren más de p veces)\n",
    "        3. unigramas (que ocurren más de m veces) y bigramas (que ocurren más de p veces) y subwords (que ocurren más de r veces)\n",
    "        4. subwords (que ocuren más de r veces)\n",
    "2. clases de respuestas cortas con 2 palabras que ocurren más de n veces (k clases)\n",
    "3. clases de respuestas cortas con 1 palabra que ocurren más de n veces (k clases)"
   ]
  },
  {
   "cell_type": "markdown",
   "metadata": {},
   "source": [
    "como primera iteración, hacer experimentos con:\n",
    "- unigramas y bigramas de palabras y trigramas de letras (incluyendo espacios en blanco) (subwords) que ocurren más de m, p y r veces en el contexto, respectivamente\n",
    "- contexto de 1, 3 y 10 turnos anteriores\n",
    "- clases de 2 y 1-3 palabras\n",
    "\n",
    "Cada experimento hacerlo con SVM, Logistic Regression, Decision Trees, Naïve Bayes"
   ]
  },
  {
   "cell_type": "markdown",
   "metadata": {},
   "source": [
    "    - seleccionar del corpus los ejemplos que cumplan con esa condición (que ocurran más de k veces en el corpus), junto con su contexto \n",
    "    - dividir los ejemplos en training, tuning y test\n",
    "    - definir clases objetivo\n",
    "           - todo el rango de respuestas cortas posibles que ocurren más de n veces (para diferentes valores de n)\n",
    "     "
   ]
  },
  {
   "cell_type": "markdown",
   "metadata": {},
   "source": [
    "- implementar el pipeline de clasificador y evaluación (en función de las clases)\n",
    "- buscar un clasificador que ofrezca múltiples resultados (múltiples clases)"
   ]
  },
  {
   "cell_type": "markdown",
   "metadata": {},
   "source": [
    "## Clases de respuestas cortas con 3 palabras que ocurren más de 10 veces"
   ]
  },
  {
   "cell_type": "code",
   "execution_count": 1,
   "metadata": {},
   "outputs": [],
   "source": [
    "from sklearn import svm\n",
    "from sklearn.manifold import TSNE\n",
    "from gensim.models import Word2Vec\n",
    "import pandas as pd\n",
    "import csv"
   ]
  },
  {
   "cell_type": "code",
   "execution_count": 2,
   "metadata": {},
   "outputs": [],
   "source": [
    "df = pd.read_csv('turn1_short1_pre2.csv')"
   ]
  },
  {
   "cell_type": "code",
   "execution_count": 3,
   "metadata": {},
   "outputs": [],
   "source": [
    "from scipy.sparse import load_npz\n",
    "\n",
    "X = load_npz('BOG1.npz')"
   ]
  },
  {
   "cell_type": "code",
   "execution_count": 4,
   "metadata": {},
   "outputs": [
    {
     "data": {
      "text/plain": [
       "(18781, 909)"
      ]
     },
     "execution_count": 4,
     "metadata": {},
     "output_type": "execute_result"
    }
   ],
   "source": [
    "X.shape"
   ]
  },
  {
   "cell_type": "code",
   "execution_count": 5,
   "metadata": {},
   "outputs": [],
   "source": [
    "y = df.label"
   ]
  },
  {
   "cell_type": "code",
   "execution_count": 6,
   "metadata": {},
   "outputs": [
    {
     "data": {
      "text/plain": [
       "[('ja', 8882),\n",
       " ('ok', 1226),\n",
       " ('😂', 1190),\n",
       " ('si', 1004),\n",
       " ('?', 619),\n",
       " ('🤣', 469),\n",
       " ('no', 464),\n",
       " ('dale', 448),\n",
       " ('🤔', 359),\n",
       " ('aja', 343),\n",
       " ('gracias', 285),\n",
       " ('ah', 282),\n",
       " ('😱', 245),\n",
       " ('😁', 240),\n",
       " ('claro', 210),\n",
       " ('bueno', 197),\n",
       " ('hola', 177),\n",
       " ('sisi', 170),\n",
       " ('yo', 164),\n",
       " ('se', 162)]"
      ]
     },
     "execution_count": 6,
     "metadata": {},
     "output_type": "execute_result"
    }
   ],
   "source": [
    "from collections import Counter\n",
    "\n",
    "Counter(y).most_common(20)"
   ]
  },
  {
   "cell_type": "code",
   "execution_count": 7,
   "metadata": {},
   "outputs": [],
   "source": [
    "train, target, train_test, target_test = X[:2000], y[:2000], X[2001:2050], y[2001:2050]"
   ]
  },
  {
   "cell_type": "code",
   "execution_count": 8,
   "metadata": {},
   "outputs": [],
   "source": [
    "tsne = TSNE(n_components=2, random_state=0)\n",
    "matrix = tsne.fit_transform(train.toarray())"
   ]
  },
  {
   "cell_type": "code",
   "execution_count": 13,
   "metadata": {},
   "outputs": [
    {
     "data": {
      "text/plain": [
       "array([ -7.5015502 , -19.31419945], dtype=float32)"
      ]
     },
     "execution_count": 13,
     "metadata": {},
     "output_type": "execute_result"
    }
   ],
   "source": [
    "matrix[0]"
   ]
  },
  {
   "cell_type": "code",
   "execution_count": 24,
   "metadata": {},
   "outputs": [],
   "source": [
    "points = pd.DataFrame(\n",
    "    [\n",
    "        (coords[0], coords[1])\n",
    "        for coords in matrix\n",
    "    ],\n",
    "    columns=[\"x\", \"y\"]\n",
    ")"
   ]
  },
  {
   "cell_type": "code",
   "execution_count": 25,
   "metadata": {},
   "outputs": [
    {
     "data": {
      "text/plain": [
       "<matplotlib.axes._subplots.AxesSubplot at 0x7effa65c6c50>"
      ]
     },
     "execution_count": 25,
     "metadata": {},
     "output_type": "execute_result"
    },
    {
     "data": {
      "image/png": "[encoded data removed]",
      "text/plain": [
       "<matplotlib.figure.Figure at 0x7effa65c6358>"
      ]
     },
     "metadata": {},
     "output_type": "display_data"
    }
   ],
   "source": [
    "%matplotlib inline\n",
    "points.plot.scatter(\"x\", \"y\", s=10, figsize=(20, 12))"
   ]
  },
  {
   "cell_type": "code",
   "execution_count": 9,
   "metadata": {},
   "outputs": [
    {
     "data": {
      "text/plain": [
       "((2000, 909), 2000)"
      ]
     },
     "execution_count": 9,
     "metadata": {},
     "output_type": "execute_result"
    }
   ],
   "source": [
    "(train.shape, len(target))"
   ]
  },
  {
   "cell_type": "code",
   "execution_count": 10,
   "metadata": {},
   "outputs": [],
   "source": [
    "clf = svm.SVC(kernel=\"rbf\", C=100, gamma=100)\n",
    "result = clf.fit(train, target)"
   ]
  },
  {
   "cell_type": "code",
   "execution_count": 11,
   "metadata": {},
   "outputs": [
    {
     "data": {
      "text/plain": [
       "array(['ja', 'ja', '?', 'ja', 'ja', 'ja', 'ja', 'ja', 'ja', 'ja', 'ja',\n",
       "       'ja', 'ja', 'ja', 'ja', 'ja', 'ja', '🤣', '😂', 'ja', 'ja', 'ja',\n",
       "       'ja', 'ja', 'ja', 'ja', 'ja', 'ja', 'dale', 'aja', 'ja', 'ja', 'ja',\n",
       "       'ja', 'ja', 'ja', 'ja', 'ja', 'ja', 'ja', 'ja', 'ja', 'ja', 'ja',\n",
       "       'ja', 'ja', 'ja', '?', 'ja'], dtype=object)"
      ]
     },
     "execution_count": 11,
     "metadata": {},
     "output_type": "execute_result"
    }
   ],
   "source": [
    "predicted = result.predict(train_test)\n",
    "predicted"
   ]
  },
  {
   "cell_type": "code",
   "execution_count": 12,
   "metadata": {},
   "outputs": [
    {
     "data": {
      "text/plain": [
       "0.32653061224489793"
      ]
     },
     "execution_count": 12,
     "metadata": {},
     "output_type": "execute_result"
    }
   ],
   "source": [
    "from sklearn.metrics import accuracy_score\n",
    "\n",
    "accuracy_score(target_test, predicted)"
   ]
  },
  {
   "cell_type": "code",
   "execution_count": 23,
   "metadata": {},
   "outputs": [
    {
     "data": {
      "text/html": [
       "<div>\n",
       "<style>\n",
       "    .dataframe thead tr:only-child th {\n",
       "        text-align: right;\n",
       "    }\n",
       "\n",
       "    .dataframe thead th {\n",
       "        text-align: left;\n",
       "    }\n",
       "\n",
       "    .dataframe tbody tr th {\n",
       "        vertical-align: top;\n",
       "    }\n",
       "</style>\n",
       "<table border=\"1\" class=\"dataframe\">\n",
       "  <thead>\n",
       "    <tr style=\"text-align: right;\">\n",
       "      <th></th>\n",
       "      <th>context</th>\n",
       "      <th>label</th>\n",
       "      <th>pred</th>\n",
       "    </tr>\n",
       "  </thead>\n",
       "  <tbody>\n",
       "    <tr>\n",
       "      <th>0</th>\n",
       "      <td>😊</td>\n",
       "      <td>😘</td>\n",
       "      <td>ja</td>\n",
       "    </tr>\n",
       "    <tr>\n",
       "      <th>1</th>\n",
       "      <td>😍 bueno vamos no voy a entender nada ja</td>\n",
       "      <td>😘</td>\n",
       "      <td>ja</td>\n",
       "    </tr>\n",
       "    <tr>\n",
       "      <th>2</th>\n",
       "      <td>estas en la facu ?</td>\n",
       "      <td>sip</td>\n",
       "      <td>?</td>\n",
       "    </tr>\n",
       "    <tr>\n",
       "      <th>3</th>\n",
       "      <td>voy pa alla</td>\n",
       "      <td>ok</td>\n",
       "      <td>ja</td>\n",
       "    </tr>\n",
       "    <tr>\n",
       "      <th>4</th>\n",
       "      <td>ahi salgo</td>\n",
       "      <td>😱</td>\n",
       "      <td>ja</td>\n",
       "    </tr>\n",
       "    <tr>\n",
       "      <th>5</th>\n",
       "      <td>\" cifrado extremo a extremo \"</td>\n",
       "      <td>ja</td>\n",
       "      <td>ja</td>\n",
       "    </tr>\n",
       "    <tr>\n",
       "      <th>6</th>\n",
       "      <td>estoy yendo para casa</td>\n",
       "      <td>😁</td>\n",
       "      <td>ja</td>\n",
       "    </tr>\n",
       "    <tr>\n",
       "      <th>7</th>\n",
       "      <td>te aviso cuando este cerca</td>\n",
       "      <td>ok</td>\n",
       "      <td>ja</td>\n",
       "    </tr>\n",
       "    <tr>\n",
       "      <th>8</th>\n",
       "      <td>sale</td>\n",
       "      <td>ja</td>\n",
       "      <td>ja</td>\n",
       "    </tr>\n",
       "    <tr>\n",
       "      <th>9</th>\n",
       "      <td>lo presenta hoy en el cabildo quiza el lunes e...</td>\n",
       "      <td>ja</td>\n",
       "      <td>ja</td>\n",
       "    </tr>\n",
       "    <tr>\n",
       "      <th>10</th>\n",
       "      <td>rompe todo entonces 💥</td>\n",
       "      <td>ja</td>\n",
       "      <td>ja</td>\n",
       "    </tr>\n",
       "    <tr>\n",
       "      <th>11</th>\n",
       "      <td>ja hay uno que puso drop deudas</td>\n",
       "      <td>ja</td>\n",
       "      <td>ja</td>\n",
       "    </tr>\n",
       "    <tr>\n",
       "      <th>12</th>\n",
       "      <td>ni a buscarme</td>\n",
       "      <td>jiji</td>\n",
       "      <td>ja</td>\n",
       "    </tr>\n",
       "    <tr>\n",
       "      <th>13</th>\n",
       "      <td>ia voy ✈ 🛬 💥</td>\n",
       "      <td>ja</td>\n",
       "      <td>ja</td>\n",
       "    </tr>\n",
       "    <tr>\n",
       "      <th>14</th>\n",
       "      <td>capaz NUM</td>\n",
       "      <td>ok</td>\n",
       "      <td>ja</td>\n",
       "    </tr>\n",
       "    <tr>\n",
       "      <th>15</th>\n",
       "      <td>ni idea</td>\n",
       "      <td>hola</td>\n",
       "      <td>ja</td>\n",
       "    </tr>\n",
       "    <tr>\n",
       "      <th>16</th>\n",
       "      <td>la rioja NUM</td>\n",
       "      <td>ok</td>\n",
       "      <td>ja</td>\n",
       "    </tr>\n",
       "    <tr>\n",
       "      <th>17</th>\n",
       "      <td>ok</td>\n",
       "      <td>ok</td>\n",
       "      <td>🤣</td>\n",
       "    </tr>\n",
       "    <tr>\n",
       "      <th>18</th>\n",
       "      <td>NUM NUM</td>\n",
       "      <td>?</td>\n",
       "      <td>😂</td>\n",
       "    </tr>\n",
       "    <tr>\n",
       "      <th>19</th>\n",
       "      <td>estoy a NUM y te mando un whatsapp</td>\n",
       "      <td>ja</td>\n",
       "      <td>ja</td>\n",
       "    </tr>\n",
       "    <tr>\n",
       "      <th>20</th>\n",
       "      <td>de ese es el que falta buscar de este ano</td>\n",
       "      <td>ja</td>\n",
       "      <td>ja</td>\n",
       "    </tr>\n",
       "    <tr>\n",
       "      <th>21</th>\n",
       "      <td>https xjagimksqy localtunnel me</td>\n",
       "      <td>ja</td>\n",
       "      <td>ja</td>\n",
       "    </tr>\n",
       "    <tr>\n",
       "      <th>22</th>\n",
       "      <td>el de la foto \" que estoy haciendo con mi vida \"</td>\n",
       "      <td>ja</td>\n",
       "      <td>ja</td>\n",
       "    </tr>\n",
       "    <tr>\n",
       "      <th>23</th>\n",
       "      <td>ahora si</td>\n",
       "      <td>ok</td>\n",
       "      <td>ja</td>\n",
       "    </tr>\n",
       "    <tr>\n",
       "      <th>24</th>\n",
       "      <td>ahi voy</td>\n",
       "      <td>ja</td>\n",
       "      <td>ja</td>\n",
       "    </tr>\n",
       "    <tr>\n",
       "      <th>25</th>\n",
       "      <td>che food me venis a buscar ?</td>\n",
       "      <td>ok</td>\n",
       "      <td>ja</td>\n",
       "    </tr>\n",
       "    <tr>\n",
       "      <th>26</th>\n",
       "      <td>voy en un rato</td>\n",
       "      <td>ok</td>\n",
       "      <td>ja</td>\n",
       "    </tr>\n",
       "    <tr>\n",
       "      <th>27</th>\n",
       "      <td>patio olmos o donde ?</td>\n",
       "      <td>sip</td>\n",
       "      <td>ja</td>\n",
       "    </tr>\n",
       "    <tr>\n",
       "      <th>28</th>\n",
       "      <td>sip</td>\n",
       "      <td>ok</td>\n",
       "      <td>dale</td>\n",
       "    </tr>\n",
       "    <tr>\n",
       "      <th>29</th>\n",
       "      <td>te wa i busca ?</td>\n",
       "      <td>sip</td>\n",
       "      <td>aja</td>\n",
       "    </tr>\n",
       "    <tr>\n",
       "      <th>30</th>\n",
       "      <td>a la noche te lo doy</td>\n",
       "      <td>ok</td>\n",
       "      <td>ja</td>\n",
       "    </tr>\n",
       "    <tr>\n",
       "      <th>31</th>\n",
       "      <td>nahh que hdp cambialo el root es mahillya NUM</td>\n",
       "      <td>ok</td>\n",
       "      <td>ja</td>\n",
       "    </tr>\n",
       "    <tr>\n",
       "      <th>32</th>\n",
       "      <td>si queres reiniciar el servicio de impresora d...</td>\n",
       "      <td>ok</td>\n",
       "      <td>ja</td>\n",
       "    </tr>\n",
       "    <tr>\n",
       "      <th>33</th>\n",
       "      <td>y volvi como estaban los chmod</td>\n",
       "      <td>ja</td>\n",
       "      <td>ja</td>\n",
       "    </tr>\n",
       "    <tr>\n",
       "      <th>34</th>\n",
       "      <td>nop</td>\n",
       "      <td>🤔</td>\n",
       "      <td>ja</td>\n",
       "    </tr>\n",
       "    <tr>\n",
       "      <th>35</th>\n",
       "      <td>a ver</td>\n",
       "      <td>😱</td>\n",
       "      <td>ja</td>\n",
       "    </tr>\n",
       "    <tr>\n",
       "      <th>36</th>\n",
       "      <td>me buscan en la casa de la yami</td>\n",
       "      <td>?</td>\n",
       "      <td>ja</td>\n",
       "    </tr>\n",
       "    <tr>\n",
       "      <th>37</th>\n",
       "      <td>ahi voy</td>\n",
       "      <td>ok</td>\n",
       "      <td>ja</td>\n",
       "    </tr>\n",
       "    <tr>\n",
       "      <th>38</th>\n",
       "      <td>fod</td>\n",
       "      <td>ah</td>\n",
       "      <td>ja</td>\n",
       "    </tr>\n",
       "    <tr>\n",
       "      <th>39</th>\n",
       "      <td>colon y sucre</td>\n",
       "      <td>ok</td>\n",
       "      <td>ja</td>\n",
       "    </tr>\n",
       "    <tr>\n",
       "      <th>40</th>\n",
       "      <td>ah es verdad ahi los subo devuelta</td>\n",
       "      <td>jiji</td>\n",
       "      <td>ja</td>\n",
       "    </tr>\n",
       "    <tr>\n",
       "      <th>41</th>\n",
       "      <td>🍔</td>\n",
       "      <td>ja</td>\n",
       "      <td>ja</td>\n",
       "    </tr>\n",
       "    <tr>\n",
       "      <th>42</th>\n",
       "      <td>\" exposicion \" no le afina mucho a la perspectiva</td>\n",
       "      <td>ja</td>\n",
       "      <td>ja</td>\n",
       "    </tr>\n",
       "    <tr>\n",
       "      <th>43</th>\n",
       "      <td>la obsesion del pa de quemar cosas</td>\n",
       "      <td>ja</td>\n",
       "      <td>ja</td>\n",
       "    </tr>\n",
       "    <tr>\n",
       "      <th>44</th>\n",
       "      <td>😢</td>\n",
       "      <td>ja</td>\n",
       "      <td>ja</td>\n",
       "    </tr>\n",
       "    <tr>\n",
       "      <th>45</th>\n",
       "      <td>manana miercoles no puedo el jueves si</td>\n",
       "      <td>ok</td>\n",
       "      <td>ja</td>\n",
       "    </tr>\n",
       "    <tr>\n",
       "      <th>46</th>\n",
       "      <td>NUM el jueves</td>\n",
       "      <td>ok</td>\n",
       "      <td>ja</td>\n",
       "    </tr>\n",
       "    <tr>\n",
       "      <th>47</th>\n",
       "      <td>se autopremio ?</td>\n",
       "      <td>ja</td>\n",
       "      <td>?</td>\n",
       "    </tr>\n",
       "    <tr>\n",
       "      <th>48</th>\n",
       "      <td>me venis a buscar ?</td>\n",
       "      <td>ok</td>\n",
       "      <td>ja</td>\n",
       "    </tr>\n",
       "  </tbody>\n",
       "</table>\n",
       "</div>"
      ],
      "text/plain": [
       "                                              context label  pred\n",
       "0                                                   😊     😘    ja\n",
       "1             😍 bueno vamos no voy a entender nada ja     😘    ja\n",
       "2                                  estas en la facu ?   sip     ?\n",
       "3                                         voy pa alla    ok    ja\n",
       "4                                           ahi salgo     😱    ja\n",
       "5                       \" cifrado extremo a extremo \"    ja    ja\n",
       "6                               estoy yendo para casa     😁    ja\n",
       "7                          te aviso cuando este cerca    ok    ja\n",
       "8                                                sale    ja    ja\n",
       "9   lo presenta hoy en el cabildo quiza el lunes e...    ja    ja\n",
       "10                              rompe todo entonces 💥    ja    ja\n",
       "11                    ja hay uno que puso drop deudas    ja    ja\n",
       "12                                      ni a buscarme  jiji    ja\n",
       "13                                       ia voy ✈ 🛬 💥    ja    ja\n",
       "14                                          capaz NUM    ok    ja\n",
       "15                                            ni idea  hola    ja\n",
       "16                                       la rioja NUM    ok    ja\n",
       "17                                                 ok    ok     🤣\n",
       "18                                            NUM NUM     ?     😂\n",
       "19                 estoy a NUM y te mando un whatsapp    ja    ja\n",
       "20          de ese es el que falta buscar de este ano    ja    ja\n",
       "21                    https xjagimksqy localtunnel me    ja    ja\n",
       "22   el de la foto \" que estoy haciendo con mi vida \"    ja    ja\n",
       "23                                           ahora si    ok    ja\n",
       "24                                            ahi voy    ja    ja\n",
       "25                       che food me venis a buscar ?    ok    ja\n",
       "26                                     voy en un rato    ok    ja\n",
       "27                              patio olmos o donde ?   sip    ja\n",
       "28                                                sip    ok  dale\n",
       "29                                    te wa i busca ?   sip   aja\n",
       "30                               a la noche te lo doy    ok    ja\n",
       "31      nahh que hdp cambialo el root es mahillya NUM    ok    ja\n",
       "32  si queres reiniciar el servicio de impresora d...    ok    ja\n",
       "33                     y volvi como estaban los chmod    ja    ja\n",
       "34                                                nop     🤔    ja\n",
       "35                                              a ver     😱    ja\n",
       "36                    me buscan en la casa de la yami     ?    ja\n",
       "37                                            ahi voy    ok    ja\n",
       "38                                                fod    ah    ja\n",
       "39                                      colon y sucre    ok    ja\n",
       "40                 ah es verdad ahi los subo devuelta  jiji    ja\n",
       "41                                                  🍔    ja    ja\n",
       "42  \" exposicion \" no le afina mucho a la perspectiva    ja    ja\n",
       "43                 la obsesion del pa de quemar cosas    ja    ja\n",
       "44                                                  😢    ja    ja\n",
       "45             manana miercoles no puedo el jueves si    ok    ja\n",
       "46                                      NUM el jueves    ok    ja\n",
       "47                                    se autopremio ?    ja     ?\n",
       "48                                me venis a buscar ?    ok    ja"
      ]
     },
     "execution_count": 23,
     "metadata": {},
     "output_type": "execute_result"
    }
   ],
   "source": [
    "pre = pd.DataFrame(\n",
    "    data={\n",
    "        \"context\": list(df.context[2001:2050]),\n",
    "        \"label\": list(df.label[2001:2050]),\n",
    "        \"pred\": list(predicted)\n",
    "    }\n",
    ")\n",
    "pre"
   ]
  },
  {
   "cell_type": "code",
   "execution_count": null,
   "metadata": {},
   "outputs": [],
   "source": []
  }
 ],
 "metadata": {
  "kernelspec": {
   "display_name": "Python 3",
   "language": "python",
   "name": "python3"
  },
  "language_info": {
   "codemirror_mode": {
    "name": "ipython",
    "version": 3
   },
   "file_extension": ".py",
   "mimetype": "text/x-python",
   "name": "python",
   "nbconvert_exporter": "python",
   "pygments_lexer": "ipython3",
   "version": "3.6.2"
  }
 },
 "nbformat": 4,
 "nbformat_minor": 2
}
