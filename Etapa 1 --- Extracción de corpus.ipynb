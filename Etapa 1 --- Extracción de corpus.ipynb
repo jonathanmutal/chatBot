{
 "cells": [
  {
   "cell_type": "markdown",
   "metadata": {},
   "source": [
    "# Trabajo final data mining"
   ]
  },
  {
   "cell_type": "markdown",
   "metadata": {},
   "source": [
    "En este trabajo brindaremos un chat bot de respuestas cortas para IM en español. Primero que nada definiremos una respuesta corta como cualquier turno hasta 3 palabras que ocurren al menos n veces. Iremos probando diferentes n a modo de prueba. El texto anterior a la respuesta corta será llamado contexto"
   ]
  },
  {
   "cell_type": "markdown",
   "metadata": {},
   "source": [
    "## Extracción del corpus y formación del conjunto de datos"
   ]
  },
  {
   "cell_type": "markdown",
   "metadata": {},
   "source": [
    "Debido a que no hay un corpus bien definido para este problema utilizaremos el contexto del chat como texto de entrenamiento, por lo que la respuesta corta será la etiqueta. Utilizaremos mensajes de whatsapp tomadas de nuestras conversaciones."
   ]
  },
  {
   "cell_type": "markdown",
   "metadata": {},
   "source": [
    "### Procesamiento"
   ]
  },
  {
   "cell_type": "code",
   "execution_count": 2,
   "metadata": {},
   "outputs": [],
   "source": [
    "import re\n",
    "import csv\n",
    "import pandas as pd\n",
    "import glob\n",
    "import matplotlib.pyplot as plt\n",
    "import numpy as np\n",
    "\n",
    "from datetime import datetime, timedelta\n",
    "from string import punctuation\n",
    "from collections import defaultdict"
   ]
  },
  {
   "cell_type": "code",
   "execution_count": 3,
   "metadata": {
    "scrolled": true
   },
   "outputs": [],
   "source": [
    "files = glob.glob('todos/*')\n",
    "raw_data = []\n",
    "for file in files:\n",
    "    with open(file, 'r') as f:\n",
    "        raw_data += [f.readlines()]"
   ]
  },
  {
   "cell_type": "markdown",
   "metadata": {},
   "source": [
    "Debemos quitar líneas que no son parte de los chats. Todos contienen fecha y hora.\n",
    "\n",
    "`6/18/17, 16:43 - Los mensajes y llamadas en este chat ahora están protegidos con cifrado de extremo a extremo. Toca para más información.`\n",
    "\n",
    "`3/22/17, 19:12 - Mati created group \"Discreta II\"\\n`\n",
    "\n",
    "`4/6/15, 22:44 - You were added\\n`\n",
    "\n",
    "`2/1/17, 01:41 - NN's security code changed. Tap for more info.\\n`"
   ]
  },
  {
   "cell_type": "code",
   "execution_count": 4,
   "metadata": {},
   "outputs": [
    {
     "data": {
      "text/plain": [
       "['10/16/17, 17:44 - Messages to this chat and calls are now secured with end-to-end encryption. Tap for more info.\\n',\n",
       " '10/16/17, 17:44 - \\u202a+54 9 351 328-5957\\u202c: https://m.facebook.com/story.php?story_fbid=1490068964433492&id=161872773919791\\n',\n",
       " '10/16/17, 17:54 - Daniela Bosch: Hola Te confundiste de numero\\n']"
      ]
     },
     "execution_count": 4,
     "metadata": {},
     "output_type": "execute_result"
    }
   ],
   "source": [
    "raw_data[0]"
   ]
  },
  {
   "cell_type": "code",
   "execution_count": 5,
   "metadata": {},
   "outputs": [
    {
     "data": {
      "text/plain": [
       "['29/9/17, 16:59 - Ori creó el grupo \"Libertad 🗽 🌏\"\\n',\n",
       " '6/10/17, 16:57 - Ori te añadió\\n',\n",
       " '6/10/17, 16:57 - Ahora eres un administrador\\n',\n",
       " '6/10/17, 16:58 - Ori: 😂😂😂😂😂😂😂😂😂😂\\n',\n",
       " '6/10/17, 17:43 - Luciano: Que es este lugar 👀\\n']"
      ]
     },
     "execution_count": 5,
     "metadata": {},
     "output_type": "execute_result"
    }
   ],
   "source": [
    "# Veamos cómo se guardan los mensajes de múltiples líneas.\n",
    "raw_data[1][1:6]"
   ]
  },
  {
   "cell_type": "markdown",
   "metadata": {},
   "source": [
    "A pesar que tiene varias líneas este mensaje, debería ser __parte del mismo__."
   ]
  },
  {
   "cell_type": "code",
   "execution_count": 7,
   "metadata": {},
   "outputs": [
    {
     "data": {
      "text/plain": [
       "'10/16/17, 17:44 - Messages to this chat and calls are now secured with end-to-end encryption. Tap for more info.\\n'"
      ]
     },
     "execution_count": 7,
     "metadata": {},
     "output_type": "execute_result"
    }
   ],
   "source": [
    "raw_data[0][0]"
   ]
  },
  {
   "cell_type": "markdown",
   "metadata": {},
   "source": [
    "Además esta claro que está __información extra__ (denominada meta) en los mensajes de nada sirve."
   ]
  },
  {
   "cell_type": "markdown",
   "metadata": {},
   "source": [
    "Luego para resumir un poco los problemas podemos nombras los siguientes:\n",
    "- __mensaje de varias líneas__: unir todos como un sólo mensaje. funciones: is_continuation e is_message.\n",
    "- __meta información en el mensaje__: todo mensaje de bienvenida\n",
    "\n",
    "Es claro que pertenece al mismo mensaje, sin embargo esta divido por \\n. \n",
    "\n",
    "La solución planteada fue agregar todo al mismo mensaje (is_continuation)."
   ]
  },
  {
   "cell_type": "markdown",
   "metadata": {},
   "source": [
    "#### Formato lindo\n",
    "\n",
    "Para ello spliteo cada línea por la primera ocurrencia de \": \". Ver bien si se puede hacer algo con las líneas que no tengan el mismo formato (por ahora la quitamos). Hay un problema con las fechas debido a la configuración de cada telefono. Algunos formatos es mm/dd/yyyy y otros dd/mm/yyyy. Veremos como solucionarlo en un futuro."
   ]
  },
  {
   "cell_type": "code",
   "execution_count": 9,
   "metadata": {
    "scrolled": false
   },
   "outputs": [],
   "source": [
    "def is_message(text):\n",
    "    \"\"\"\n",
    "    No es un mensaje de varias líneas.\n",
    "    \"\"\"\n",
    "    return re.search(r'\\d+/\\d+/\\d+, \\d+:\\d+.+ - .+: ', text) is not None\n",
    "    # return ': ' in text and '/' in text and ',' in text\n",
    "\n",
    "def is_continuation(text):\n",
    "    \"\"\"\n",
    "    Pertenece al mismo mensaje anterior.\n",
    "    \"\"\"\n",
    "    return re.search(r'\\d+/\\d+/\\d+, \\d+:\\d+.+ - ', text) is None\n",
    "    # return '/' not in text or ': ' not in text or ',' not in text\n",
    "\n",
    "def is_meta(text):\n",
    "    \"\"\"\n",
    "    Contiene metadatos sobre el chat.\n",
    "    \"\"\"\n",
    "    return re.search(r'\\d+/\\d+/\\d+, \\d+:\\d+.+ - ', text) is not None and ': ' not in text\n",
    "\n",
    "# at the begining we don't filter any kind of message. Let's see what happend.\n",
    "info_chat = []\n",
    "for i, chat in enumerate(raw_data):\n",
    "    users = {}\n",
    "    for line in chat:\n",
    "        line = line.strip('\\n')\n",
    "        if is_meta(line):\n",
    "            continue\n",
    "        if is_continuation(line):\n",
    "            info_chat[len(info_chat)-1][4] += \". \" + line\n",
    "            continue\n",
    "        if is_message(line):\n",
    "            info, text = line.split(\": \", 1)\n",
    "            datetime, owner = info.split(\" - \", 1)\n",
    "            date, time = datetime.split(\", \", 1)\n",
    "            \n",
    "            # anonymizing users\n",
    "            if owner not in users:\n",
    "                users[owner] = str(len(users))\n",
    "            user = \"USER\" + users[owner]\n",
    "                \n",
    "            info_chat.append([i, user, date, time, text])"
   ]
  },
  {
   "cell_type": "markdown",
   "metadata": {},
   "source": [
    "Ahora guardaremos el corpus en formato csv para hacerlo legible. \n",
    "\n",
    "Tendrá cinco columnas: numero de chat, persona que escribe el msj, fecha y hora en que se envío, mensaje.\n",
    "\n",
    "| idchat ||  Owner  ||     Date    || hour ||    Message     |\n",
    "|--------||---------||-------------||------||----------------|\n",
    "|    1   ||  USER0  || 20-05-2017  || 20:10|| hola que haces |\n",
    "|    1   ||  USER1  || 21-05-2017  || 12:20|| Todo bien?     |\n",
    "|    2   ||  USER0  || 15-07-2017  || 13:15||Me fui al baile |"
   ]
  },
  {
   "cell_type": "code",
   "execution_count": 10,
   "metadata": {},
   "outputs": [
    {
     "data": {
      "text/plain": [
       "[[1, 'USER0', '1/27/16', '12:24', '<Media omitted>'],\n",
       " [1,\n",
       "  'USER0',\n",
       "  '2/4/16',\n",
       "  '09:50',\n",
       "  'Lee Esta Historia!          . Una mujer muy enferma soñó que Jesús le dio a beber agua.. . Cuando se despertó por la mañana estaba bien otra vez, en forma, bien y curada.. . Ella vio un trozo de papel al lado de su mesa que decía: \"Jesús es el verdadero Dios viviente\".. . Le dijo a la gente acerca de lo que le había sucedido a ella.. . Un oficial que escucho la historia de la dama,  y al instante fue promovido en el trabajo.. . Otro hombre que recibio el texto elimino el mensaje de inmediato y este  sufrio grandes pérdidas durante 13 dias.. . Veras como Jesus hara maravilla yo si lo creo porque Dios existe... ¡Amen!. . \"Hola soy Jesucristo, se que casi no tienes tiempo para mi... Te Amo y te Bendigo siempre estoy contigo. Hoy quiero que  este mensaje recorra todo el mundo antes de la media noche por favor no la cortes y te voy a ayudar con algo que tu estas necesitando... Amén.        . Manda este mensaje y si no necesitas que DIOS te abra puertas, solo borralo.... . Así como cae agua del cielo,. 💦💦💦💦💦💦💦💦💦. 💦💦💦💦💦💦💦💦💦. 💦💦💦💦💦💦💦💦💦. 💦___ Π__💦💦💦💦💦💦.  /_______c. /\\\\ |  . |｜  田|門| Π||. |                   | |________|||___|🍃🌺🍃.  🌿🐐🌿 🐐🌿🐐🌿. Así caerán en ti las mas bellas Bendiciones en el nombre de Jesus. (Toma 1 min y envialo).               Repite! Jesus eres mi fuerza te amo, te necesito, saname y sana a mi familia pasalo a 13 personas y veras 1 milagro esta.  noche'],\n",
       " [1,\n",
       "  'USER0',\n",
       "  '4/4/16',\n",
       "  '11:28',\n",
       "  'Hola Dani!vos sabes a donde venden fotocopiadoras usadas'],\n",
       " [1, 'USER1', '4/4/16', '11:37', 'Le pregunto a mi jefe'],\n",
       " [1, 'USER0', '4/4/16', '11:38', 'Gracias!!!!Para cuando sabes?'],\n",
       " [1, 'USER0', '4/4/16', '11:38', '💃'],\n",
       " [1, 'USER1', '4/4/16', '11:40', 'Le pregunto ahora a ver si sabe algo :P'],\n",
       " [1, 'USER0', '4/4/16', '11:59', '👏👏👏👏👏'],\n",
       " [1,\n",
       "  'USER0',\n",
       "  '4/6/16',\n",
       "  '08:46',\n",
       "  '✳Whatsapp le comunica, . que debido a la cantidad de mensajes y notificaciones que usted ha  enviado este mes, se le obsequiará:. un trapo de piso y una escoba, para que se ponga a hacer algo útil !!. . Jajajaja. Pásalo!!!'],\n",
       " [1, 'USER1', '4/6/16', '08:46', 'Jajaja']]"
      ]
     },
     "execution_count": 10,
     "metadata": {},
     "output_type": "execute_result"
    }
   ],
   "source": [
    "info_chat[:10]"
   ]
  },
  {
   "cell_type": "code",
   "execution_count": 11,
   "metadata": {},
   "outputs": [],
   "source": [
    "fieldnames = ['id', 'owner', 'date', 'hour', 'message']\n",
    "with open('corpus.csv', 'w', newline='') as csvfile:\n",
    "    writer = csv.DictWriter(csvfile, fieldnames=fieldnames, delimiter=',', quotechar='\"', quoting=csv.QUOTE_ALL)\n",
    "    writer.writeheader()\n",
    "    \n",
    "    for idc, owner, date, hour, message in info_chat:\n",
    "        if message =='':\n",
    "            continue\n",
    "        writer.writerow({'id': idc, 'owner': owner, 'date': date, 'hour': hour, 'message': message})"
   ]
  },
  {
   "cell_type": "code",
   "execution_count": null,
   "metadata": {},
   "outputs": [],
   "source": []
  }
 ],
 "metadata": {
  "kernelspec": {
   "display_name": "Python 3",
   "language": "python",
   "name": "python3"
  },
  "language_info": {
   "codemirror_mode": {
    "name": "ipython",
    "version": 3
   },
   "file_extension": ".py",
   "mimetype": "text/x-python",
   "name": "python",
   "nbconvert_exporter": "python",
   "pygments_lexer": "ipython3",
   "version": "3.5.2"
  }
 },
 "nbformat": 4,
 "nbformat_minor": 2
}
