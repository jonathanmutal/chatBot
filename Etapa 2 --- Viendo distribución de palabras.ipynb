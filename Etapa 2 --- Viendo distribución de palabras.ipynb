{
 "cells": [
  {
   "cell_type": "markdown",
   "metadata": {},
   "source": [
    "# Cargando lo que ya teníamos"
   ]
  },
  {
   "cell_type": "code",
   "execution_count": 1,
   "metadata": {},
   "outputs": [],
   "source": [
    "import pandas as pd\n",
    "import csv"
   ]
  },
  {
   "cell_type": "code",
   "execution_count": 2,
   "metadata": {},
   "outputs": [],
   "source": [
    "df = pd.read_csv('corpus.csv')"
   ]
  },
  {
   "cell_type": "markdown",
   "metadata": {},
   "source": [
    "## Distribución de palabras en los mensajes"
   ]
  },
  {
   "cell_type": "markdown",
   "metadata": {},
   "source": [
    "Para entender un poco más el problema veremos la distribución de las palabras. Además esto nos va a ayudar a evitar problemas en un futuro."
   ]
  },
  {
   "cell_type": "code",
   "execution_count": 3,
   "metadata": {},
   "outputs": [],
   "source": [
    "from collections import Counter\n",
    "from itertools import chain"
   ]
  },
  {
   "cell_type": "code",
   "execution_count": 4,
   "metadata": {},
   "outputs": [],
   "source": [
    "distribution_words = Counter(chain.from_iterable(df.message.map(lambda x: x.split())))"
   ]
  },
  {
   "cell_type": "code",
   "execution_count": 5,
   "metadata": {},
   "outputs": [],
   "source": [
    "df_distribution = pd.DataFrame(data={'word': list(distribution_words.keys()), 'counter': list(distribution_words.values())})"
   ]
  },
  {
   "cell_type": "markdown",
   "metadata": {},
   "source": [
    "Es decir el vocabulario total es alrededor de:"
   ]
  },
  {
   "cell_type": "code",
   "execution_count": 6,
   "metadata": {},
   "outputs": [
    {
     "data": {
      "text/plain": [
       "counter    101709\n",
       "word       101709\n",
       "dtype: int64"
      ]
     },
     "execution_count": 6,
     "metadata": {},
     "output_type": "execute_result"
    }
   ],
   "source": [
    "df_distribution.count()"
   ]
  },
  {
   "cell_type": "markdown",
   "metadata": {},
   "source": [
    "Por lo que las palabras menos vistas son"
   ]
  },
  {
   "cell_type": "code",
   "execution_count": 7,
   "metadata": {},
   "outputs": [
    {
     "data": {
      "text/html": [
       "<div>\n",
       "<style>\n",
       "    .dataframe thead tr:only-child th {\n",
       "        text-align: right;\n",
       "    }\n",
       "\n",
       "    .dataframe thead th {\n",
       "        text-align: left;\n",
       "    }\n",
       "\n",
       "    .dataframe tbody tr th {\n",
       "        vertical-align: top;\n",
       "    }\n",
       "</style>\n",
       "<table border=\"1\" class=\"dataframe\">\n",
       "  <thead>\n",
       "    <tr style=\"text-align: right;\">\n",
       "      <th></th>\n",
       "      <th>counter</th>\n",
       "      <th>word</th>\n",
       "    </tr>\n",
       "  </thead>\n",
       "  <tbody>\n",
       "    <tr>\n",
       "      <th>0</th>\n",
       "      <td>1</td>\n",
       "      <td>dormidasooo</td>\n",
       "    </tr>\n",
       "    <tr>\n",
       "      <th>60728</th>\n",
       "      <td>1</td>\n",
       "      <td>ajkaka</td>\n",
       "    </tr>\n",
       "    <tr>\n",
       "      <th>60727</th>\n",
       "      <td>1</td>\n",
       "      <td>ADICTO</td>\n",
       "    </tr>\n",
       "    <tr>\n",
       "      <th>60724</th>\n",
       "      <td>1</td>\n",
       "      <td>comunicacion</td>\n",
       "    </tr>\n",
       "    <tr>\n",
       "      <th>60723</th>\n",
       "      <td>1</td>\n",
       "      <td>estorbar</td>\n",
       "    </tr>\n",
       "    <tr>\n",
       "      <th>60714</th>\n",
       "      <td>1</td>\n",
       "      <td>zarpado?</td>\n",
       "    </tr>\n",
       "    <tr>\n",
       "      <th>60713</th>\n",
       "      <td>1</td>\n",
       "      <td>PTT-20171018-WA0012.opus</td>\n",
       "    </tr>\n",
       "    <tr>\n",
       "      <th>60712</th>\n",
       "      <td>1</td>\n",
       "      <td>qqqq?</td>\n",
       "    </tr>\n",
       "    <tr>\n",
       "      <th>60711</th>\n",
       "      <td>1</td>\n",
       "      <td>línea!?</td>\n",
       "    </tr>\n",
       "    <tr>\n",
       "      <th>60710</th>\n",
       "      <td>1</td>\n",
       "      <td>(x3</td>\n",
       "    </tr>\n",
       "    <tr>\n",
       "      <th>60704</th>\n",
       "      <td>1</td>\n",
       "      <td>Es.la.Sofi</td>\n",
       "    </tr>\n",
       "    <tr>\n",
       "      <th>60703</th>\n",
       "      <td>1</td>\n",
       "      <td>o/</td>\n",
       "    </tr>\n",
       "    <tr>\n",
       "      <th>60702</th>\n",
       "      <td>1</td>\n",
       "      <td>obtenido?</td>\n",
       "    </tr>\n",
       "    <tr>\n",
       "      <th>60701</th>\n",
       "      <td>1</td>\n",
       "      <td>petrifica</td>\n",
       "    </tr>\n",
       "    <tr>\n",
       "      <th>60700</th>\n",
       "      <td>1</td>\n",
       "      <td>penalty.</td>\n",
       "    </tr>\n",
       "    <tr>\n",
       "      <th>60699</th>\n",
       "      <td>1</td>\n",
       "      <td>determinante....para</td>\n",
       "    </tr>\n",
       "    <tr>\n",
       "      <th>60731</th>\n",
       "      <td>1</td>\n",
       "      <td>www.pussy.org.</td>\n",
       "    </tr>\n",
       "    <tr>\n",
       "      <th>60732</th>\n",
       "      <td>1</td>\n",
       "      <td>ago?</td>\n",
       "    </tr>\n",
       "    <tr>\n",
       "      <th>60733</th>\n",
       "      <td>1</td>\n",
       "      <td>plagadas</td>\n",
       "    </tr>\n",
       "    <tr>\n",
       "      <th>60737</th>\n",
       "      <td>1</td>\n",
       "      <td>viñedos</td>\n",
       "    </tr>\n",
       "  </tbody>\n",
       "</table>\n",
       "</div>"
      ],
      "text/plain": [
       "       counter                      word\n",
       "0            1               dormidasooo\n",
       "60728        1                    ajkaka\n",
       "60727        1                    ADICTO\n",
       "60724        1              comunicacion\n",
       "60723        1                  estorbar\n",
       "60714        1                  zarpado?\n",
       "60713        1  PTT-20171018-WA0012.opus\n",
       "60712        1                     qqqq?\n",
       "60711        1                   línea!?\n",
       "60710        1                       (x3\n",
       "60704        1                Es.la.Sofi\n",
       "60703        1                        o/\n",
       "60702        1                 obtenido?\n",
       "60701        1                 petrifica\n",
       "60700        1                  penalty.\n",
       "60699        1      determinante....para\n",
       "60731        1            www.pussy.org.\n",
       "60732        1                      ago?\n",
       "60733        1                  plagadas\n",
       "60737        1                   viñedos"
      ]
     },
     "execution_count": 7,
     "metadata": {},
     "output_type": "execute_result"
    }
   ],
   "source": [
    "df_distribution.sort_values('counter').head(20)"
   ]
  },
  {
   "cell_type": "markdown",
   "metadata": {},
   "source": [
    "Pero las más vistas son:"
   ]
  },
  {
   "cell_type": "code",
   "execution_count": 8,
   "metadata": {},
   "outputs": [
    {
     "data": {
      "text/html": [
       "<div>\n",
       "<style>\n",
       "    .dataframe thead tr:only-child th {\n",
       "        text-align: right;\n",
       "    }\n",
       "\n",
       "    .dataframe thead th {\n",
       "        text-align: left;\n",
       "    }\n",
       "\n",
       "    .dataframe tbody tr th {\n",
       "        vertical-align: top;\n",
       "    }\n",
       "</style>\n",
       "<table border=\"1\" class=\"dataframe\">\n",
       "  <thead>\n",
       "    <tr style=\"text-align: right;\">\n",
       "      <th></th>\n",
       "      <th>counter</th>\n",
       "      <th>word</th>\n",
       "    </tr>\n",
       "  </thead>\n",
       "  <tbody>\n",
       "    <tr>\n",
       "      <th>60356</th>\n",
       "      <td>24711</td>\n",
       "      <td>que</td>\n",
       "    </tr>\n",
       "    <tr>\n",
       "      <th>60007</th>\n",
       "      <td>24340</td>\n",
       "      <td>de</td>\n",
       "    </tr>\n",
       "    <tr>\n",
       "      <th>85641</th>\n",
       "      <td>19959</td>\n",
       "      <td>a</td>\n",
       "    </tr>\n",
       "    <tr>\n",
       "      <th>83913</th>\n",
       "      <td>18941</td>\n",
       "      <td>la</td>\n",
       "    </tr>\n",
       "    <tr>\n",
       "      <th>37194</th>\n",
       "      <td>17267</td>\n",
       "      <td>el</td>\n",
       "    </tr>\n",
       "    <tr>\n",
       "      <th>72658</th>\n",
       "      <td>14858</td>\n",
       "      <td>no</td>\n",
       "    </tr>\n",
       "    <tr>\n",
       "      <th>33179</th>\n",
       "      <td>13413</td>\n",
       "      <td>y</td>\n",
       "    </tr>\n",
       "    <tr>\n",
       "      <th>37373</th>\n",
       "      <td>12578</td>\n",
       "      <td>en</td>\n",
       "    </tr>\n",
       "    <tr>\n",
       "      <th>13021</th>\n",
       "      <td>11407</td>\n",
       "      <td>&lt;Archivo</td>\n",
       "    </tr>\n",
       "    <tr>\n",
       "      <th>98714</th>\n",
       "      <td>11407</td>\n",
       "      <td>omitido&gt;</td>\n",
       "    </tr>\n",
       "    <tr>\n",
       "      <th>21182</th>\n",
       "      <td>11228</td>\n",
       "      <td>me</td>\n",
       "    </tr>\n",
       "    <tr>\n",
       "      <th>90229</th>\n",
       "      <td>10135</td>\n",
       "      <td>lo</td>\n",
       "    </tr>\n",
       "    <tr>\n",
       "      <th>4497</th>\n",
       "      <td>8711</td>\n",
       "      <td>es</td>\n",
       "    </tr>\n",
       "    <tr>\n",
       "      <th>86572</th>\n",
       "      <td>7469</td>\n",
       "      <td>un</td>\n",
       "    </tr>\n",
       "    <tr>\n",
       "      <th>19909</th>\n",
       "      <td>7197</td>\n",
       "      <td>se</td>\n",
       "    </tr>\n",
       "    <tr>\n",
       "      <th>56265</th>\n",
       "      <td>6935</td>\n",
       "      <td>los</td>\n",
       "    </tr>\n",
       "    <tr>\n",
       "      <th>44050</th>\n",
       "      <td>6626</td>\n",
       "      <td>si</td>\n",
       "    </tr>\n",
       "    <tr>\n",
       "      <th>78724</th>\n",
       "      <td>6528</td>\n",
       "      <td>para</td>\n",
       "    </tr>\n",
       "    <tr>\n",
       "      <th>1571</th>\n",
       "      <td>6187</td>\n",
       "      <td>te</td>\n",
       "    </tr>\n",
       "    <tr>\n",
       "      <th>62692</th>\n",
       "      <td>6168</td>\n",
       "      <td>con</td>\n",
       "    </tr>\n",
       "  </tbody>\n",
       "</table>\n",
       "</div>"
      ],
      "text/plain": [
       "       counter      word\n",
       "60356    24711       que\n",
       "60007    24340        de\n",
       "85641    19959         a\n",
       "83913    18941        la\n",
       "37194    17267        el\n",
       "72658    14858        no\n",
       "33179    13413         y\n",
       "37373    12578        en\n",
       "13021    11407  <Archivo\n",
       "98714    11407  omitido>\n",
       "21182    11228        me\n",
       "90229    10135        lo\n",
       "4497      8711        es\n",
       "86572     7469        un\n",
       "19909     7197        se\n",
       "56265     6935       los\n",
       "44050     6626        si\n",
       "78724     6528      para\n",
       "1571      6187        te\n",
       "62692     6168       con"
      ]
     },
     "execution_count": 8,
     "metadata": {},
     "output_type": "execute_result"
    }
   ],
   "source": [
    "df_distribution.sort_values('counter', ascending=False).head(20)"
   ]
  },
  {
   "cell_type": "code",
   "execution_count": 9,
   "metadata": {},
   "outputs": [
    {
     "data": {
      "text/html": [
       "<div>\n",
       "<style>\n",
       "    .dataframe thead tr:only-child th {\n",
       "        text-align: right;\n",
       "    }\n",
       "\n",
       "    .dataframe thead th {\n",
       "        text-align: left;\n",
       "    }\n",
       "\n",
       "    .dataframe tbody tr th {\n",
       "        vertical-align: top;\n",
       "    }\n",
       "</style>\n",
       "<table border=\"1\" class=\"dataframe\">\n",
       "  <thead>\n",
       "    <tr style=\"text-align: right;\">\n",
       "      <th></th>\n",
       "      <th>counter</th>\n",
       "    </tr>\n",
       "  </thead>\n",
       "  <tbody>\n",
       "    <tr>\n",
       "      <th>count</th>\n",
       "      <td>101709.000000</td>\n",
       "    </tr>\n",
       "    <tr>\n",
       "      <th>mean</th>\n",
       "      <td>9.733337</td>\n",
       "    </tr>\n",
       "    <tr>\n",
       "      <th>std</th>\n",
       "      <td>206.484416</td>\n",
       "    </tr>\n",
       "    <tr>\n",
       "      <th>min</th>\n",
       "      <td>1.000000</td>\n",
       "    </tr>\n",
       "    <tr>\n",
       "      <th>25%</th>\n",
       "      <td>1.000000</td>\n",
       "    </tr>\n",
       "    <tr>\n",
       "      <th>50%</th>\n",
       "      <td>1.000000</td>\n",
       "    </tr>\n",
       "    <tr>\n",
       "      <th>75%</th>\n",
       "      <td>2.000000</td>\n",
       "    </tr>\n",
       "    <tr>\n",
       "      <th>max</th>\n",
       "      <td>24711.000000</td>\n",
       "    </tr>\n",
       "  </tbody>\n",
       "</table>\n",
       "</div>"
      ],
      "text/plain": [
       "             counter\n",
       "count  101709.000000\n",
       "mean        9.733337\n",
       "std       206.484416\n",
       "min         1.000000\n",
       "25%         1.000000\n",
       "50%         1.000000\n",
       "75%         2.000000\n",
       "max     24711.000000"
      ]
     },
     "execution_count": 9,
     "metadata": {},
     "output_type": "execute_result"
    }
   ],
   "source": [
    "df_distribution.describe()"
   ]
  },
  {
   "cell_type": "code",
   "execution_count": 11,
   "metadata": {},
   "outputs": [
    {
     "data": {
      "image/png": "[encoded data removed]",
      "text/plain": [
       "<matplotlib.figure.Figure at 0x7ff6a494e8d0>"
      ]
     },
     "metadata": {},
     "output_type": "display_data"
    }
   ],
   "source": [
    "import seaborn as sns\n",
    "sns.set_style(\"whitegrid\")\n",
    "ax = sns.boxplot(x=df_distribution[\"counter\"])"
   ]
  },
  {
   "cell_type": "code",
   "execution_count": 14,
   "metadata": {},
   "outputs": [
    {
     "data": {
      "text/plain": [
       "<matplotlib.axes._subplots.AxesSubplot at 0x7ff6a4fc7940>"
      ]
     },
     "execution_count": 14,
     "metadata": {},
     "output_type": "execute_result"
    },
    {
     "data": {
      "image/png": "[encoded data removed]",
      "text/plain": [
       "<matplotlib.figure.Figure at 0x7ff6a4fc4ac8>"
      ]
     },
     "metadata": {},
     "output_type": "display_data"
    }
   ],
   "source": [
    "sns.distplot(df_distribution[\"counter\"])"
   ]
  },
  {
   "cell_type": "markdown",
   "metadata": {},
   "source": [
    "Luego al ver algunas caracteristicas de la distribución podemos los siguientes problemas:\n",
    "- __25,50 y 75 percentiles muy bajos__: la mayoría de las palabras tienen una sóla aparición.\n",
    "- __maximo - minimo muy alto__: esto quiere decir que hay gran diferencia entre los conteos de las palabras\n",
    "- __desviación estándar muy alto__: el esparcimiento de los datos es muy grande. Las palabras están muy distribuidas.\n",
    "- __histograma y gráfico de caja imposibles de leer__: toda la distribución se concentra en palabras de 1 sola aparicín"
   ]
  },
  {
   "cell_type": "code",
   "execution_count": 15,
   "metadata": {},
   "outputs": [
    {
     "data": {
      "text/plain": [
       "counter    0.648645\n",
       "word       0.648645\n",
       "dtype: float64"
      ]
     },
     "execution_count": 15,
     "metadata": {},
     "output_type": "execute_result"
    }
   ],
   "source": [
    "sum(df_distribution.counter == 1) / df_distribution.count()"
   ]
  },
  {
   "cell_type": "markdown",
   "metadata": {},
   "source": [
    "Vemos que hay alrededor de un 65% de palabras que aparecen una sóla vez... esto puede causar que la **vectorización no sea tan representativa como queremos...**\n",
    "\n",
    "Problemas que vimos:\n",
    "   - Al ser mensajes instantaneos, por lo general las personas no se preocupan con la ortográfia ni la forma de escribir.\n",
    "   - Muchos tipos de mismas palabras, por ejemplo jajaja = jaja, dale = daleee.\n",
    "   - _Archivo omitido_ como media en un principio no es útil.\n",
    "   - Algunas puntaciones son inútiles para el problema (no ayudan en nada). Ejemplo amen = amén.\n",
    "   - Los emoticones son necesarios para este problema?"
   ]
  },
  {
   "cell_type": "markdown",
   "metadata": {},
   "source": [
    "## Conclusión"
   ]
  },
  {
   "cell_type": "markdown",
   "metadata": {},
   "source": [
    "Después de discutir un rato decidimos tomar estás decisiones para mejorar la distribución:\n",
    "   - \"Normalizar palabras más vistas\" (jajajajajaa --> ja)\n",
    "   - Tratar las puntuaciones como palabras (\"?\", \"!\", \"...\") o directamente removerlas (quiero' --> quiero)\n",
    "   - Pasar a minuscula toda palabra\n",
    "   - Eliminar palabra que no aparezca más de 10 veces (soluciona errores de ortografía, links, etc)\n",
    "   - Remover acentos\n",
    "   - Pasar digito a la palabra NUM\n",
    "   - Remover characteres repetidos, ejemplo: vaaaaamos por vamos.\n",
    "   - __Hacer Stemm serviría? FIJARSE __"
   ]
  },
  {
   "cell_type": "code",
   "execution_count": null,
   "metadata": {},
   "outputs": [],
   "source": []
  }
 ],
 "metadata": {
  "kernelspec": {
   "display_name": "Python 3",
   "language": "python",
   "name": "python3"
  },
  "language_info": {
   "codemirror_mode": {
    "name": "ipython",
    "version": 3
   },
   "file_extension": ".py",
   "mimetype": "text/x-python",
   "name": "python",
   "nbconvert_exporter": "python",
   "pygments_lexer": "ipython3",
   "version": "3.5.2"
  }
 },
 "nbformat": 4,
 "nbformat_minor": 2
}
