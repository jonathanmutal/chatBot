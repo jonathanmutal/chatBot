{
 "cells": [
  {
   "cell_type": "markdown",
   "metadata": {},
   "source": [
    "# Cargando lo que ya teníamos"
   ]
  },
  {
   "cell_type": "code",
   "execution_count": 1,
   "metadata": {},
   "outputs": [],
   "source": [
    "import pandas as pd\n",
    "import csv"
   ]
  },
  {
   "cell_type": "code",
   "execution_count": 2,
   "metadata": {},
   "outputs": [],
   "source": [
    "df = pd.read_csv('corpus.csv')"
   ]
  },
  {
   "cell_type": "markdown",
   "metadata": {},
   "source": [
    "## Distribución de palabras"
   ]
  },
  {
   "cell_type": "markdown",
   "metadata": {},
   "source": [
    "Para entender un poco más el problema veremos la distribución de las palabras. Además esto nos va a ayudar a evitar problemas en un futuro."
   ]
  },
  {
   "cell_type": "code",
   "execution_count": 3,
   "metadata": {},
   "outputs": [],
   "source": [
    "from collections import Counter\n",
    "from itertools import chain"
   ]
  },
  {
   "cell_type": "code",
   "execution_count": 14,
   "metadata": {},
   "outputs": [],
   "source": [
    "distribution_words = Counter(chain.from_iterable(df.message.map(lambda x: x.split())))"
   ]
  },
  {
   "cell_type": "code",
   "execution_count": 15,
   "metadata": {},
   "outputs": [],
   "source": [
    "df_distribution = pd.DataFrame(data={'word': list(distribution_words.keys()), 'counter': list(distribution_words.values())})"
   ]
  },
  {
   "cell_type": "markdown",
   "metadata": {},
   "source": [
    "Es decir el vocabulario total es alrededor de:"
   ]
  },
  {
   "cell_type": "code",
   "execution_count": 16,
   "metadata": {},
   "outputs": [
    {
     "data": {
      "text/plain": [
       "counter    101703\n",
       "word       101703\n",
       "dtype: int64"
      ]
     },
     "execution_count": 16,
     "metadata": {},
     "output_type": "execute_result"
    }
   ],
   "source": [
    "df_distribution.count()"
   ]
  },
  {
   "cell_type": "markdown",
   "metadata": {},
   "source": [
    "Por lo que las palabras menos vistas son"
   ]
  },
  {
   "cell_type": "code",
   "execution_count": 17,
   "metadata": {},
   "outputs": [
    {
     "data": {
      "text/html": [
       "<div>\n",
       "<style>\n",
       "    .dataframe thead tr:only-child th {\n",
       "        text-align: right;\n",
       "    }\n",
       "\n",
       "    .dataframe thead th {\n",
       "        text-align: left;\n",
       "    }\n",
       "\n",
       "    .dataframe tbody tr th {\n",
       "        vertical-align: top;\n",
       "    }\n",
       "</style>\n",
       "<table border=\"1\" class=\"dataframe\">\n",
       "  <thead>\n",
       "    <tr style=\"text-align: right;\">\n",
       "      <th></th>\n",
       "      <th>counter</th>\n",
       "      <th>word</th>\n",
       "    </tr>\n",
       "  </thead>\n",
       "  <tbody>\n",
       "    <tr>\n",
       "      <th>50851</th>\n",
       "      <td>1</td>\n",
       "      <td>estaas</td>\n",
       "    </tr>\n",
       "    <tr>\n",
       "      <th>65599</th>\n",
       "      <td>1</td>\n",
       "      <td>boloooooooo</td>\n",
       "    </tr>\n",
       "    <tr>\n",
       "      <th>65598</th>\n",
       "      <td>1</td>\n",
       "      <td>Humble</td>\n",
       "    </tr>\n",
       "    <tr>\n",
       "      <th>65596</th>\n",
       "      <td>1</td>\n",
       "      <td>sin.hacer</td>\n",
       "    </tr>\n",
       "    <tr>\n",
       "      <th>65595</th>\n",
       "      <td>1</td>\n",
       "      <td>dinero.en</td>\n",
       "    </tr>\n",
       "    <tr>\n",
       "      <th>65594</th>\n",
       "      <td>1</td>\n",
       "      <td>muxo</td>\n",
       "    </tr>\n",
       "    <tr>\n",
       "      <th>65593</th>\n",
       "      <td>1</td>\n",
       "      <td>xno</td>\n",
       "    </tr>\n",
       "    <tr>\n",
       "      <th>65592</th>\n",
       "      <td>1</td>\n",
       "      <td>siendo.actor</td>\n",
       "    </tr>\n",
       "    <tr>\n",
       "      <th>65591</th>\n",
       "      <td>1</td>\n",
       "      <td>Jajaajjaaajajaja</td>\n",
       "    </tr>\n",
       "    <tr>\n",
       "      <th>65590</th>\n",
       "      <td>1</td>\n",
       "      <td>nickelodeon</td>\n",
       "    </tr>\n",
       "    <tr>\n",
       "      <th>65589</th>\n",
       "      <td>1</td>\n",
       "      <td>JAJAJAJAJAJAJAJAJJAJAJAJAAJAJA</td>\n",
       "    </tr>\n",
       "    <tr>\n",
       "      <th>65588</th>\n",
       "      <td>1</td>\n",
       "      <td>JAJJAJAJAJJAJA</td>\n",
       "    </tr>\n",
       "    <tr>\n",
       "      <th>65586</th>\n",
       "      <td>1</td>\n",
       "      <td>Podra</td>\n",
       "    </tr>\n",
       "    <tr>\n",
       "      <th>65585</th>\n",
       "      <td>1</td>\n",
       "      <td>pedofilo.</td>\n",
       "    </tr>\n",
       "    <tr>\n",
       "      <th>65584</th>\n",
       "      <td>1</td>\n",
       "      <td>Whyy</td>\n",
       "    </tr>\n",
       "    <tr>\n",
       "      <th>65582</th>\n",
       "      <td>1</td>\n",
       "      <td>snes,</td>\n",
       "    </tr>\n",
       "    <tr>\n",
       "      <th>65581</th>\n",
       "      <td>1</td>\n",
       "      <td>nes,</td>\n",
       "    </tr>\n",
       "    <tr>\n",
       "      <th>65579</th>\n",
       "      <td>1</td>\n",
       "      <td>dreamcast</td>\n",
       "    </tr>\n",
       "    <tr>\n",
       "      <th>65600</th>\n",
       "      <td>1</td>\n",
       "      <td>Meh</td>\n",
       "    </tr>\n",
       "    <tr>\n",
       "      <th>65601</th>\n",
       "      <td>1</td>\n",
       "      <td>1$</td>\n",
       "    </tr>\n",
       "  </tbody>\n",
       "</table>\n",
       "</div>"
      ],
      "text/plain": [
       "       counter                            word\n",
       "50851        1                          estaas\n",
       "65599        1                     boloooooooo\n",
       "65598        1                          Humble\n",
       "65596        1                       sin.hacer\n",
       "65595        1                       dinero.en\n",
       "65594        1                            muxo\n",
       "65593        1                             xno\n",
       "65592        1                    siendo.actor\n",
       "65591        1                Jajaajjaaajajaja\n",
       "65590        1                     nickelodeon\n",
       "65589        1  JAJAJAJAJAJAJAJAJJAJAJAJAAJAJA\n",
       "65588        1                  JAJJAJAJAJJAJA\n",
       "65586        1                           Podra\n",
       "65585        1                       pedofilo.\n",
       "65584        1                            Whyy\n",
       "65582        1                           snes,\n",
       "65581        1                            nes,\n",
       "65579        1                       dreamcast\n",
       "65600        1                             Meh\n",
       "65601        1                              1$"
      ]
     },
     "execution_count": 17,
     "metadata": {},
     "output_type": "execute_result"
    }
   ],
   "source": [
    "df_distribution.sort_values('counter').head(20)"
   ]
  },
  {
   "cell_type": "markdown",
   "metadata": {},
   "source": [
    "Pero las más vistas son:"
   ]
  },
  {
   "cell_type": "code",
   "execution_count": 18,
   "metadata": {},
   "outputs": [
    {
     "data": {
      "text/html": [
       "<div>\n",
       "<style>\n",
       "    .dataframe thead tr:only-child th {\n",
       "        text-align: right;\n",
       "    }\n",
       "\n",
       "    .dataframe thead th {\n",
       "        text-align: left;\n",
       "    }\n",
       "\n",
       "    .dataframe tbody tr th {\n",
       "        vertical-align: top;\n",
       "    }\n",
       "</style>\n",
       "<table border=\"1\" class=\"dataframe\">\n",
       "  <thead>\n",
       "    <tr style=\"text-align: right;\">\n",
       "      <th></th>\n",
       "      <th>counter</th>\n",
       "      <th>word</th>\n",
       "    </tr>\n",
       "  </thead>\n",
       "  <tbody>\n",
       "    <tr>\n",
       "      <th>11</th>\n",
       "      <td>24710</td>\n",
       "      <td>que</td>\n",
       "    </tr>\n",
       "    <tr>\n",
       "      <th>36</th>\n",
       "      <td>24339</td>\n",
       "      <td>de</td>\n",
       "    </tr>\n",
       "    <tr>\n",
       "      <th>15</th>\n",
       "      <td>19958</td>\n",
       "      <td>a</td>\n",
       "    </tr>\n",
       "    <tr>\n",
       "      <th>22</th>\n",
       "      <td>18941</td>\n",
       "      <td>la</td>\n",
       "    </tr>\n",
       "    <tr>\n",
       "      <th>45</th>\n",
       "      <td>17267</td>\n",
       "      <td>el</td>\n",
       "    </tr>\n",
       "    <tr>\n",
       "      <th>95</th>\n",
       "      <td>14857</td>\n",
       "      <td>no</td>\n",
       "    </tr>\n",
       "    <tr>\n",
       "      <th>30</th>\n",
       "      <td>13412</td>\n",
       "      <td>y</td>\n",
       "    </tr>\n",
       "    <tr>\n",
       "      <th>28</th>\n",
       "      <td>12577</td>\n",
       "      <td>en</td>\n",
       "    </tr>\n",
       "    <tr>\n",
       "      <th>2805</th>\n",
       "      <td>11407</td>\n",
       "      <td>omitido&gt;</td>\n",
       "    </tr>\n",
       "    <tr>\n",
       "      <th>2804</th>\n",
       "      <td>11407</td>\n",
       "      <td>&lt;Archivo</td>\n",
       "    </tr>\n",
       "    <tr>\n",
       "      <th>273</th>\n",
       "      <td>11226</td>\n",
       "      <td>me</td>\n",
       "    </tr>\n",
       "    <tr>\n",
       "      <th>53</th>\n",
       "      <td>10135</td>\n",
       "      <td>lo</td>\n",
       "    </tr>\n",
       "    <tr>\n",
       "      <th>44</th>\n",
       "      <td>8711</td>\n",
       "      <td>es</td>\n",
       "    </tr>\n",
       "    <tr>\n",
       "      <th>34</th>\n",
       "      <td>7468</td>\n",
       "      <td>un</td>\n",
       "    </tr>\n",
       "    <tr>\n",
       "      <th>19</th>\n",
       "      <td>7193</td>\n",
       "      <td>se</td>\n",
       "    </tr>\n",
       "    <tr>\n",
       "      <th>233</th>\n",
       "      <td>6935</td>\n",
       "      <td>los</td>\n",
       "    </tr>\n",
       "    <tr>\n",
       "      <th>86</th>\n",
       "      <td>6625</td>\n",
       "      <td>si</td>\n",
       "    </tr>\n",
       "    <tr>\n",
       "      <th>98</th>\n",
       "      <td>6528</td>\n",
       "      <td>para</td>\n",
       "    </tr>\n",
       "    <tr>\n",
       "      <th>102</th>\n",
       "      <td>6186</td>\n",
       "      <td>te</td>\n",
       "    </tr>\n",
       "    <tr>\n",
       "      <th>119</th>\n",
       "      <td>6168</td>\n",
       "      <td>con</td>\n",
       "    </tr>\n",
       "  </tbody>\n",
       "</table>\n",
       "</div>"
      ],
      "text/plain": [
       "      counter      word\n",
       "11      24710       que\n",
       "36      24339        de\n",
       "15      19958         a\n",
       "22      18941        la\n",
       "45      17267        el\n",
       "95      14857        no\n",
       "30      13412         y\n",
       "28      12577        en\n",
       "2805    11407  omitido>\n",
       "2804    11407  <Archivo\n",
       "273     11226        me\n",
       "53      10135        lo\n",
       "44       8711        es\n",
       "34       7468        un\n",
       "19       7193        se\n",
       "233      6935       los\n",
       "86       6625        si\n",
       "98       6528      para\n",
       "102      6186        te\n",
       "119      6168       con"
      ]
     },
     "execution_count": 18,
     "metadata": {},
     "output_type": "execute_result"
    }
   ],
   "source": [
    "df_distribution.sort_values('counter', ascending=False).head(20)"
   ]
  },
  {
   "cell_type": "markdown",
   "metadata": {},
   "source": [
    "Al querer hacer un gráfico de caja, nos dimos cuenta que la media en la distribución de palabras era 1..."
   ]
  },
  {
   "cell_type": "code",
   "execution_count": 19,
   "metadata": {},
   "outputs": [
    {
     "data": {
      "text/plain": [
       "1.0"
      ]
     },
     "execution_count": 19,
     "metadata": {},
     "output_type": "execute_result"
    }
   ],
   "source": [
    "df_distribution.counter.median()"
   ]
  },
  {
   "cell_type": "markdown",
   "metadata": {},
   "source": [
    "Pues luego de ver esa que la media era 1, nos preguntamos...\n",
    "   - ¿Cuántas palabras hay con una sóla aparición? Son útiles o no?"
   ]
  },
  {
   "cell_type": "code",
   "execution_count": 20,
   "metadata": {},
   "outputs": [
    {
     "data": {
      "text/plain": [
       "counter    0.648634\n",
       "word       0.648634\n",
       "dtype: float64"
      ]
     },
     "execution_count": 20,
     "metadata": {},
     "output_type": "execute_result"
    }
   ],
   "source": [
    "sum(df_distribution.counter == 1) / df_distribution.count()"
   ]
  },
  {
   "cell_type": "markdown",
   "metadata": {},
   "source": [
    "Vemos que hay alrededor de un 65% de palabras que aparecen una sóla vez... esto puede causar que la **vectorización no sea tan representativa como queremos...**\n",
    "\n",
    "Problemas que vimos:\n",
    "   - Al ser mensajes instantaneos, por lo general las personas no se preocupan con la ortográfia ni la forma de escribir.\n",
    "   - Muchos tipos de mismas palabras, por ejemplo jajaja = jaja, dale = daleee.\n",
    "   - _Archivo omitido_ como media no es útil.\n",
    "   - Algunas puntaciones son inútiles para el problema (no ayudan en nada). Ejemplo quiero = quiero'\n",
    "   - Los emoticones son necesarios para este problema?"
   ]
  },
  {
   "cell_type": "markdown",
   "metadata": {},
   "source": [
    "## Conclusión"
   ]
  },
  {
   "cell_type": "markdown",
   "metadata": {},
   "source": [
    "Después de discutir un rato decidimos tomar estás decisiones para mejorar la distribución:\n",
    "   - \"Normalizar palabras más vistas\" (jajajajajaa --> ja)\n",
    "   - Tratar las puntuaciones como palabras (\"?\", \"!\", \"...\") o directamente removerlas (quiero' --> quiero)\n",
    "   - Pasar a minuscula toda palabra\n",
    "   - Eliminar palabra que no aparezca más de 10 veces (soluciona errores de ortografía, links, etc)\n",
    "   - Remover acentos\n",
    "   - Pasar digito a la palabra NUM\n",
    "   - Remover characteres repetidos, ejemplo: vaaaaamos por vamos.\n",
    "   - __Hacer Stemm serviría? FIJARSE __"
   ]
  }
 ],
 "metadata": {
  "kernelspec": {
   "display_name": "Python 3",
   "language": "python",
   "name": "python3"
  },
  "language_info": {
   "codemirror_mode": {
    "name": "ipython",
    "version": 3
   },
   "file_extension": ".py",
   "mimetype": "text/x-python",
   "name": "python",
   "nbconvert_exporter": "python",
   "pygments_lexer": "ipython3",
   "version": "3.6.2"
  }
 },
 "nbformat": 4,
 "nbformat_minor": 2
}
