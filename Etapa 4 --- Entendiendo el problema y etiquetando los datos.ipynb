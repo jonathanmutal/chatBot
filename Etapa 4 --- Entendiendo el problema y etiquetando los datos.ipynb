{
 "cells": [
  {
   "cell_type": "markdown",
   "metadata": {},
   "source": [
    "# Entendiendo el problema"
   ]
  },
  {
   "cell_type": "markdown",
   "metadata": {},
   "source": [
    "Como ya sabemos queremos hacer un bot automatico de respuestas cortas para algunas IM. \n",
    "\n",
    "Aquí vienen un par preguntas:\n",
    "   - ¿Que tipo de respuestas dara nuestro bot?\n",
    "   - ¿Como podemos encarar este problema de la mejor manera posible?\n",
    "\n",
    "Para poder contestar estas preguntas hay que ver los datos que tenemos hasta ahora."
   ]
  },
  {
   "cell_type": "code",
   "execution_count": 29,
   "metadata": {},
   "outputs": [],
   "source": [
    "import pandas as pd\n",
    "import csv\n",
    "from itertools import chain"
   ]
  },
  {
   "cell_type": "code",
   "execution_count": 2,
   "metadata": {},
   "outputs": [],
   "source": [
    "df_pre1 = pd.read_csv('preprocessed_corpus_pre1.csv')\n",
    "df_pre2 = pd.read_csv('preprocessed_corpus_pre2.csv')\n",
    "df_pre3 = pd.read_csv('preprocessed_corpus_pre3.csv')\n",
    "df_pre4 = pd.read_csv('preprocessed_corpus_pre4.csv')"
   ]
  },
  {
   "cell_type": "code",
   "execution_count": 3,
   "metadata": {},
   "outputs": [],
   "source": [
    "df = df_pre1, df_pre2, df_pre3, df_pre4"
   ]
  },
  {
   "cell_type": "code",
   "execution_count": 4,
   "metadata": {},
   "outputs": [
    {
     "data": {
      "text/html": [
       "<div>\n",
       "<style>\n",
       "    .dataframe thead tr:only-child th {\n",
       "        text-align: right;\n",
       "    }\n",
       "\n",
       "    .dataframe thead th {\n",
       "        text-align: left;\n",
       "    }\n",
       "\n",
       "    .dataframe tbody tr th {\n",
       "        vertical-align: top;\n",
       "    }\n",
       "</style>\n",
       "<table border=\"1\" class=\"dataframe\">\n",
       "  <thead>\n",
       "    <tr style=\"text-align: right;\">\n",
       "      <th></th>\n",
       "      <th>Unnamed: 0</th>\n",
       "      <th>id</th>\n",
       "      <th>owner</th>\n",
       "      <th>date</th>\n",
       "      <th>hour</th>\n",
       "      <th>message</th>\n",
       "    </tr>\n",
       "  </thead>\n",
       "  <tbody>\n",
       "    <tr>\n",
       "      <th>0</th>\n",
       "      <td>0</td>\n",
       "      <td>0</td>\n",
       "      <td>USER0</td>\n",
       "      <td>10/16/17</td>\n",
       "      <td>17:44</td>\n",
       "      <td>https : / m . facebook . com / story . php ? s...</td>\n",
       "    </tr>\n",
       "    <tr>\n",
       "      <th>1</th>\n",
       "      <td>1</td>\n",
       "      <td>0</td>\n",
       "      <td>USER1</td>\n",
       "      <td>10/16/17</td>\n",
       "      <td>17:54</td>\n",
       "      <td>hola te confundiste de numero</td>\n",
       "    </tr>\n",
       "    <tr>\n",
       "      <th>2</th>\n",
       "      <td>2</td>\n",
       "      <td>1</td>\n",
       "      <td>USER0</td>\n",
       "      <td>6/10/17</td>\n",
       "      <td>16:58</td>\n",
       "      <td>😂</td>\n",
       "    </tr>\n",
       "    <tr>\n",
       "      <th>3</th>\n",
       "      <td>3</td>\n",
       "      <td>1</td>\n",
       "      <td>USER1</td>\n",
       "      <td>6/10/17</td>\n",
       "      <td>17:43</td>\n",
       "      <td>que es este lugar 👀</td>\n",
       "    </tr>\n",
       "    <tr>\n",
       "      <th>4</th>\n",
       "      <td>4</td>\n",
       "      <td>1</td>\n",
       "      <td>USER2</td>\n",
       "      <td>6/10/17</td>\n",
       "      <td>17:44</td>\n",
       "      <td>qur hace este aqui</td>\n",
       "    </tr>\n",
       "    <tr>\n",
       "      <th>5</th>\n",
       "      <td>5</td>\n",
       "      <td>1</td>\n",
       "      <td>USER2</td>\n",
       "      <td>6/10/17</td>\n",
       "      <td>17:44</td>\n",
       "      <td>🤣</td>\n",
       "    </tr>\n",
       "    <tr>\n",
       "      <th>6</th>\n",
       "      <td>6</td>\n",
       "      <td>1</td>\n",
       "      <td>USER3</td>\n",
       "      <td>6/10/17</td>\n",
       "      <td>17:44</td>\n",
       "      <td>bienvenido</td>\n",
       "    </tr>\n",
       "    <tr>\n",
       "      <th>7</th>\n",
       "      <td>7</td>\n",
       "      <td>1</td>\n",
       "      <td>USER1</td>\n",
       "      <td>6/10/17</td>\n",
       "      <td>17:50</td>\n",
       "      <td>vengo a pasarle fotos obscenas e irme ? )</td>\n",
       "    </tr>\n",
       "    <tr>\n",
       "      <th>8</th>\n",
       "      <td>8</td>\n",
       "      <td>1</td>\n",
       "      <td>USER1</td>\n",
       "      <td>6/10/17</td>\n",
       "      <td>17:50</td>\n",
       "      <td>pasarles</td>\n",
       "    </tr>\n",
       "    <tr>\n",
       "      <th>9</th>\n",
       "      <td>9</td>\n",
       "      <td>1</td>\n",
       "      <td>USER3</td>\n",
       "      <td>6/10/17</td>\n",
       "      <td>17:51</td>\n",
       "      <td>👀</td>\n",
       "    </tr>\n",
       "  </tbody>\n",
       "</table>\n",
       "</div>"
      ],
      "text/plain": [
       "   Unnamed: 0  id  owner      date   hour  \\\n",
       "0           0   0  USER0  10/16/17  17:44   \n",
       "1           1   0  USER1  10/16/17  17:54   \n",
       "2           2   1  USER0   6/10/17  16:58   \n",
       "3           3   1  USER1   6/10/17  17:43   \n",
       "4           4   1  USER2   6/10/17  17:44   \n",
       "5           5   1  USER2   6/10/17  17:44   \n",
       "6           6   1  USER3   6/10/17  17:44   \n",
       "7           7   1  USER1   6/10/17  17:50   \n",
       "8           8   1  USER1   6/10/17  17:50   \n",
       "9           9   1  USER3   6/10/17  17:51   \n",
       "\n",
       "                                             message  \n",
       "0  https : / m . facebook . com / story . php ? s...  \n",
       "1                      hola te confundiste de numero  \n",
       "2                                                  😂  \n",
       "3                                que es este lugar 👀  \n",
       "4                                 qur hace este aqui  \n",
       "5                                                  🤣  \n",
       "6                                         bienvenido  \n",
       "7          vengo a pasarle fotos obscenas e irme ? )  \n",
       "8                                           pasarles  \n",
       "9                                                  👀  "
      ]
     },
     "execution_count": 4,
     "metadata": {},
     "output_type": "execute_result"
    }
   ],
   "source": [
    "df_pre1.head(10)"
   ]
  },
  {
   "cell_type": "code",
   "execution_count": 5,
   "metadata": {},
   "outputs": [],
   "source": [
    "distribution_pre1 = pd.read_csv('distribution_pre1.csv')\n",
    "distribution_pre2 = pd.read_csv('distribution_pre2.csv')\n",
    "distribution_pre3 = pd.read_csv('distribution_pre3.csv')\n",
    "distribution_pre4 = pd.read_csv('distribution_pre4.csv')"
   ]
  },
  {
   "cell_type": "code",
   "execution_count": 6,
   "metadata": {},
   "outputs": [],
   "source": [
    "distribution = distribution_pre1, distribution_pre2, distribution_pre3, distribution_pre4"
   ]
  },
  {
   "cell_type": "markdown",
   "metadata": {},
   "source": [
    "Uno pensaría que los datos no son de mucha utilidad, sin embargo después de discutir un largo rato decidimos encarar el problema como si fuera un problema de machine learning supervisado donde el contexto de los mensajes serían los datos entrenamiento y como etiquetas las respuestas cortas.\n",
    "\n",
    "Perfecto! Ya sabemos como encararlo... pero antes de empezar debemos aclarar un par definiciones:\n",
    "\n",
    "   - ¿que es una respuesta corta? cualquier turno (de diálogo) hasta 3 palabras que ocurren por lo menos n veces en el corpus. Haremos varios experimentos con diferentes longitud de respuestas cortas.\n",
    "   - ¿que es el contexto de una respuesta corta? El contexto de una respuesta corta son los mensajes que ocurren t turnos anteriores a una respuesta corta."
   ]
  },
  {
   "cell_type": "markdown",
   "metadata": {},
   "source": [
    "## Distribución de respuestas cortas\n",
    "\n",
    "Veamos ahora la distribución de las respuestas cortas"
   ]
  },
  {
   "cell_type": "code",
   "execution_count": 7,
   "metadata": {},
   "outputs": [],
   "source": [
    "from collections import Counter\n",
    "\n",
    "N = 5\n",
    "\n",
    "counter_pre1 = Counter([answer for answer in df_pre1.message if 0 < len(str(answer).split()) <= N])\n",
    "counter_pre2 = Counter([answer for answer in df_pre2.message if 0 < len(str(answer).split()) <= N])\n",
    "counter_pre3 = Counter([answer for answer in df_pre3.message if 0 < len(str(answer).split()) <= N])\n",
    "counter_pre4 = Counter([answer for answer in df_pre4.message if 0 < len(str(answer).split()) <= N])"
   ]
  },
  {
   "cell_type": "code",
   "execution_count": 8,
   "metadata": {},
   "outputs": [],
   "source": [
    "distribution_answer_pre1 = pd.Series(counter_pre1)\n",
    "distribution_answer_pre2 = pd.Series(counter_pre2)\n",
    "distribution_answer_pre3 = pd.Series(counter_pre3)\n",
    "distribution_answer_pre4 = pd.Series(counter_pre4)"
   ]
  },
  {
   "cell_type": "code",
   "execution_count": 9,
   "metadata": {},
   "outputs": [
    {
     "data": {
      "text/plain": [
       "MEDIA    16066\n",
       "ja        9094\n",
       "si        1279\n",
       "ok        1197\n",
       "😂         1191\n",
       "NUM        556\n",
       "?          525\n",
       "🤣          469\n",
       "no         446\n",
       "dale       433\n",
       "dtype: int64"
      ]
     },
     "execution_count": 9,
     "metadata": {},
     "output_type": "execute_result"
    }
   ],
   "source": [
    "distribution_answer_pre1.sort_values(ascending=False).head(10)"
   ]
  },
  {
   "cell_type": "code",
   "execution_count": 10,
   "metadata": {},
   "outputs": [],
   "source": [
    "distribution_answer_pre1.to_csv(path='distribution_answer_pre1.csv')\n",
    "distribution_answer_pre2.to_csv(path='distribution_answer_pre2.csv')\n",
    "distribution_answer_pre3.to_csv(path='distribution_answer_pre3.csv')\n",
    "distribution_answer_pre4.to_csv(path='distribution_answer_pre4.csv')"
   ]
  },
  {
   "cell_type": "code",
   "execution_count": 11,
   "metadata": {},
   "outputs": [],
   "source": [
    "distribution_answer = distribution_answer_pre1, distribution_answer_pre2, distribution_answer_pre3, distribution_answer_pre4"
   ]
  },
  {
   "cell_type": "markdown",
   "metadata": {},
   "source": [
    "## Etiquetando los contextos"
   ]
  },
  {
   "cell_type": "markdown",
   "metadata": {},
   "source": [
    "### Respecto a una respuesta corta"
   ]
  },
  {
   "cell_type": "markdown",
   "metadata": {},
   "source": [
    "Una vez definido el problema, podemos empezar a etiquetar los contextos.\n",
    "\n",
    "Al principio diferenciaremos los etiquetados según el tamaño de respuestas: \n",
    "   - respuesta cortas hasta 1 a 3 palabras"
   ]
  },
  {
   "cell_type": "markdown",
   "metadata": {},
   "source": [
    "Empezaremos a etiquetar los contextos sin importar los turnos. Para ello seguiremos un par de suposiciones:\n",
    "   -  Si hay una respuesta corta:\n",
    "       - Si esta en el mismo chat:\n",
    "           - si no es la misma persona que escribe quiere decir que hubo una respuesta corta. Agregamos esta respuesta corta al contexto siguiente.\n",
    "           - si es la misma persona que escribe la respuesta corta la agregamos al contexto.\n",
    "       - Si esta en diferente chat empezamos un nuevo contexto debido a que no hubo una respuesta corta después de todo.\n",
    "   - Si es una respuesta larga:\n",
    "        - Si esta en el mismo chat se agrega al contexto\n",
    "        - Si no esta, el empezamos un nuevo contexto"
   ]
  },
  {
   "cell_type": "code",
   "execution_count": 12,
   "metadata": {},
   "outputs": [],
   "source": [
    "def is_short(answer, answer_length, threshold, pre_n):\n",
    "    \"\"\"\n",
    "    is short answer?\n",
    "    \"\"\"\n",
    "    return (0 < len(answer.split()) <= answer_length) and distribution_answer[pre_n][answer] >= threshold\n",
    "\n",
    "def is_same_owner(own1, own2):\n",
    "    \"\"\"\n",
    "    return whenever own1 is the same as own2\n",
    "    \"\"\"\n",
    "    return own1==own2\n",
    "\n",
    "def is_same_chat(idc1, idc2):\n",
    "    \"\"\"\n",
    "    Is it the same chat?\n",
    "    \"\"\"\n",
    "    return idc1 == idc2\n",
    "\n",
    "def is_valid(answer):\n",
    "    \"\"\"\n",
    "    Is not NaN, null or empty?\n",
    "    \"\"\"\n",
    "    return type(answer) is not float and answer is not \"\" and answer is not None\n",
    "\n",
    "def is_answer(answer):\n",
    "    \"\"\"\n",
    "    is not MEDIA or NUM?\n",
    "    \"\"\"\n",
    "    return answer != 'MEDIA' and answer != 'NUM'"
   ]
  },
  {
   "cell_type": "code",
   "execution_count": 13,
   "metadata": {},
   "outputs": [],
   "source": [
    "fieldnames = ['idchat', 'context', 'label']\n",
    "threshold = 100\n",
    "\n",
    "def label_the_data(filename, answer_length, pre_n):\n",
    "    with open(filename, 'w') as csvfile:\n",
    "        writer = csv.DictWriter(csvfile, fieldnames=fieldnames, delimiter=',', quotechar='\"', quoting=csv.QUOTE_ALL)\n",
    "        writer.writeheader()\n",
    "\n",
    "        data = df[pre_n]\n",
    "        last_owner = ''\n",
    "        last_chat = 0\n",
    "        row = {'idchat': 0, 'context': '', 'label': ''}\n",
    "        for id, actual_chat, owner, date, hour, text in data.values:\n",
    "            if not is_valid(text):\n",
    "                continue\n",
    "            if not is_answer(text):\n",
    "                continue\n",
    "            # respuesta corta\n",
    "            if is_short(text, answer_length, threshold, pre_n):\n",
    "                # es el mismo chat\n",
    "                if is_same_chat(actual_chat, last_chat):\n",
    "                    # si no es la misma persona que escribe quiere decir que hubo una respuesta (en este caso corta).\n",
    "                    # el label será la respuesta en sí. Empezará un contexto nuevo de la otra persona.\n",
    "                    if not is_same_owner(last_owner, owner):\n",
    "                        row['label'] = text\n",
    "                        writer.writerow(row)\n",
    "                        row['context'] = text\n",
    "                    else:\n",
    "                        row['context'] += ' . ' + text\n",
    "                # diferente chat\n",
    "                else:\n",
    "                    row['context'] = text\n",
    "            # respuesta larga           \n",
    "            else:\n",
    "                # es el mismo chat\n",
    "                if is_same_chat(actual_chat, last_chat):\n",
    "                    row['context'] += ' . ' + text\n",
    "                # es diferente chat\n",
    "                else: \n",
    "                    row['context'] = text\n",
    "\n",
    "            row['idchat'] = actual_chat\n",
    "            last_owner = owner\n",
    "            last_chat = actual_chat"
   ]
  },
  {
   "cell_type": "code",
   "execution_count": 14,
   "metadata": {},
   "outputs": [],
   "source": [
    "label_the_data('short_ans1.csv', 1, 3)\n",
    "label_the_data('short_ans2.csv', 2, 3)\n",
    "label_the_data('short_ans3.csv', 3, 3)"
   ]
  },
  {
   "cell_type": "markdown",
   "metadata": {},
   "source": [
    "### Respecto a los turnos anteriores"
   ]
  },
  {
   "cell_type": "markdown",
   "metadata": {},
   "source": [
    "Luego etiquetaremos de acuerdo a los turnos, es decir eligiremos el contexto de acuerdo con:\n",
    "   - el turno inmediatamente anterior de respuesta corta\n",
    "   - los 3 turnos inmediatamente anteriores de respuesta corta\n",
    "   - los 10 turnos inmediatamente anteriores de respuesta corta"
   ]
  },
  {
   "cell_type": "code",
   "execution_count": 15,
   "metadata": {},
   "outputs": [],
   "source": [
    "def label_with_turn(filename, frame, answer_length, pre_n):\n",
    "    with open(filename, 'w', newline='') as csvfile:\n",
    "        writer = csv.DictWriter(csvfile, fieldnames=fieldnames, dialect='unix')\n",
    "        writer.writeheader()\n",
    "\n",
    "        # No uso el datetime\n",
    "        # Tampoco tengo en cuenta el usuario que escribe\n",
    "        row = {'idchat': 0, 'context': '', 'label': ''}\n",
    "        data = df[pre_n]\n",
    "        last_chat = 0\n",
    "        context = []\n",
    "        for id, actual_chat, owner, data, hour, text in data.values:\n",
    "            if not is_valid(text):\n",
    "                continue\n",
    "            if not is_answer(text):\n",
    "                continue\n",
    "            if is_short(text, answer_length, threshold, pre_n) and is_valid(text):\n",
    "                if is_same_chat(actual_chat, last_chat):\n",
    "                    row['label'] = text\n",
    "                    row['context'] = ' '.join(context)\n",
    "                    writer.writerow(row)\n",
    "                # No petenece al mismo chat, reiniciamos el contexto\n",
    "                else:\n",
    "                    context = []\n",
    "\n",
    "            # Descartamos la primer conversación en la lista \n",
    "            # y agregamos la última \n",
    "            if len(context) == frame:\n",
    "                context = context[1:]\n",
    "                context.append(text)\n",
    "            else:\n",
    "                context.append(text)\n",
    "            \n",
    "            row['idchat'] = actual_chat\n",
    "            last_chat = actual_chat"
   ]
  },
  {
   "cell_type": "code",
   "execution_count": 16,
   "metadata": {},
   "outputs": [],
   "source": [
    "label_with_turn('turn1_short1_pre2.csv', 1, 1, 3)\n",
    "label_with_turn('turn1_short2_pre2.csv', 1, 2, 3)\n",
    "label_with_turn('turn1_short3_pre2.csv', 1, 3, 3)\n",
    "label_with_turn('turn3_short1_pre2.csv', 3, 1, 3)\n",
    "label_with_turn('turn3_short2_pre2.csv', 3, 2, 3)\n",
    "label_with_turn('turn3_short3_pre2.csv', 3, 3, 3)\n",
    "label_with_turn('turn10_short1_pre2.csv', 10, 1, 3)\n",
    "label_with_turn('turn10_short2_pre2.csv', 10, 2, 3)\n",
    "label_with_turn('turn10_short3_pre2.csv', 10, 3, 3)"
   ]
  },
  {
   "cell_type": "markdown",
   "metadata": {},
   "source": [
    "# Just words with >= 20 occurrencies"
   ]
  },
  {
   "cell_type": "code",
   "execution_count": 60,
   "metadata": {},
   "outputs": [],
   "source": [
    "df_pre1 = pd.read_csv('preprocessed_corpus_pre1_20words.csv')\n",
    "df_pre2 = pd.read_csv('preprocessed_corpus_pre2_20words.csv')\n",
    "df_pre3 = pd.read_csv('preprocessed_corpus_pre3_20words.csv')\n",
    "df_pre4 = pd.read_csv('preprocessed_corpus_pre4_20words.csv')"
   ]
  },
  {
   "cell_type": "code",
   "execution_count": 61,
   "metadata": {},
   "outputs": [],
   "source": [
    "counter_pre1 = Counter([answer for answer in df_pre1.message if 0 < len(str(answer).split()) <= N])\n",
    "counter_pre2 = Counter([answer for answer in df_pre2.message if 0 < len(str(answer).split()) <= N])\n",
    "counter_pre3 = Counter([answer for answer in df_pre3.message if 0 < len(str(answer).split()) <= N])\n",
    "counter_pre4 = Counter([answer for answer in df_pre4.message if 0 < len(str(answer).split()) <= N])"
   ]
  },
  {
   "cell_type": "code",
   "execution_count": 62,
   "metadata": {},
   "outputs": [],
   "source": [
    "distribution_answer_pre1 = pd.Series(counter_pre1)\n",
    "distribution_answer_pre2 = pd.Series(counter_pre2)\n",
    "distribution_answer_pre3 = pd.Series(counter_pre3)\n",
    "distribution_answer_pre4 = pd.Series(counter_pre4)"
   ]
  },
  {
   "cell_type": "code",
   "execution_count": 54,
   "metadata": {},
   "outputs": [],
   "source": [
    "df = df_pre1, df_pre2, df_pre3, df_pre4.dropna()"
   ]
  },
  {
   "cell_type": "code",
   "execution_count": 55,
   "metadata": {},
   "outputs": [],
   "source": [
    "counter_pre4 = Counter(chain.from_iterable(df_pre4.dropna().message.map(lambda x: x.split())))\n",
    "distribution_pre4 = pd.DataFrame(\n",
    "    data={\n",
    "        'word': list(counter_pre4.keys()),\n",
    "        'counter': list(counter_pre4.values())\n",
    "    }\n",
    ")"
   ]
  },
  {
   "cell_type": "code",
   "execution_count": 56,
   "metadata": {},
   "outputs": [],
   "source": [
    "distribution_answer = distribution_pre1, distribution_pre2, distribution_pre3, distribution_pre4"
   ]
  },
  {
   "cell_type": "code",
   "execution_count": 59,
   "metadata": {},
   "outputs": [
    {
     "ename": "KeyError",
     "evalue": "'bienvenido'",
     "output_type": "error",
     "traceback": [
      "\u001b[0;31m---------------------------------------------------------------------------\u001b[0m",
      "\u001b[0;31mKeyError\u001b[0m                                  Traceback (most recent call last)",
      "\u001b[0;32m~/.virtualenvs/dataMining/lib/python3.5/site-packages/pandas/core/indexes/base.py\u001b[0m in \u001b[0;36mget_loc\u001b[0;34m(self, key, method, tolerance)\u001b[0m\n\u001b[1;32m   2441\u001b[0m             \u001b[0;32mtry\u001b[0m\u001b[0;34m:\u001b[0m\u001b[0;34m\u001b[0m\u001b[0m\n\u001b[0;32m-> 2442\u001b[0;31m                 \u001b[0;32mreturn\u001b[0m \u001b[0mself\u001b[0m\u001b[0;34m.\u001b[0m\u001b[0m_engine\u001b[0m\u001b[0;34m.\u001b[0m\u001b[0mget_loc\u001b[0m\u001b[0;34m(\u001b[0m\u001b[0mkey\u001b[0m\u001b[0;34m)\u001b[0m\u001b[0;34m\u001b[0m\u001b[0m\n\u001b[0m\u001b[1;32m   2443\u001b[0m             \u001b[0;32mexcept\u001b[0m \u001b[0mKeyError\u001b[0m\u001b[0;34m:\u001b[0m\u001b[0;34m\u001b[0m\u001b[0m\n",
      "\u001b[0;32mpandas/_libs/index.pyx\u001b[0m in \u001b[0;36mpandas._libs.index.IndexEngine.get_loc (pandas/_libs/index.c:5280)\u001b[0;34m()\u001b[0m\n",
      "\u001b[0;32mpandas/_libs/index.pyx\u001b[0m in \u001b[0;36mpandas._libs.index.IndexEngine.get_loc (pandas/_libs/index.c:5126)\u001b[0;34m()\u001b[0m\n",
      "\u001b[0;32mpandas/_libs/hashtable_class_helper.pxi\u001b[0m in \u001b[0;36mpandas._libs.hashtable.PyObjectHashTable.get_item (pandas/_libs/hashtable.c:20523)\u001b[0;34m()\u001b[0m\n",
      "\u001b[0;32mpandas/_libs/hashtable_class_helper.pxi\u001b[0m in \u001b[0;36mpandas._libs.hashtable.PyObjectHashTable.get_item (pandas/_libs/hashtable.c:20477)\u001b[0;34m()\u001b[0m\n",
      "\u001b[0;31mKeyError\u001b[0m: 'bienvenido'",
      "\nDuring handling of the above exception, another exception occurred:\n",
      "\u001b[0;31mKeyError\u001b[0m                                  Traceback (most recent call last)",
      "\u001b[0;32m<ipython-input-59-76ede51b4b58>\u001b[0m in \u001b[0;36m<module>\u001b[0;34m()\u001b[0m\n\u001b[0;32m----> 1\u001b[0;31m \u001b[0mlabel_with_turn\u001b[0m\u001b[0;34m(\u001b[0m\u001b[0;34m'turn1_short1_pre2_20words.csv'\u001b[0m\u001b[0;34m,\u001b[0m \u001b[0;36m1\u001b[0m\u001b[0;34m,\u001b[0m \u001b[0;36m1\u001b[0m\u001b[0;34m,\u001b[0m \u001b[0;36m3\u001b[0m\u001b[0;34m)\u001b[0m\u001b[0;34m\u001b[0m\u001b[0m\n\u001b[0m\u001b[1;32m      2\u001b[0m \u001b[0mlabel_with_turn\u001b[0m\u001b[0;34m(\u001b[0m\u001b[0;34m'turn3_short1_pre2_20words.csv'\u001b[0m\u001b[0;34m,\u001b[0m \u001b[0;36m3\u001b[0m\u001b[0;34m,\u001b[0m \u001b[0;36m1\u001b[0m\u001b[0;34m,\u001b[0m \u001b[0;36m3\u001b[0m\u001b[0;34m)\u001b[0m\u001b[0;34m\u001b[0m\u001b[0m\n\u001b[1;32m      3\u001b[0m \u001b[0mlabel_with_turn\u001b[0m\u001b[0;34m(\u001b[0m\u001b[0;34m'turn10_short1_pre2_20words.csv'\u001b[0m\u001b[0;34m,\u001b[0m \u001b[0;36m10\u001b[0m\u001b[0;34m,\u001b[0m \u001b[0;36m1\u001b[0m\u001b[0;34m,\u001b[0m \u001b[0;36m3\u001b[0m\u001b[0;34m)\u001b[0m\u001b[0;34m\u001b[0m\u001b[0m\n\u001b[1;32m      4\u001b[0m \u001b[0mlabel_the_data\u001b[0m\u001b[0;34m(\u001b[0m\u001b[0;34m'short_ans1.csv'\u001b[0m\u001b[0;34m,\u001b[0m \u001b[0;36m1\u001b[0m\u001b[0;34m,\u001b[0m \u001b[0;36m3\u001b[0m\u001b[0;34m)\u001b[0m\u001b[0;34m\u001b[0m\u001b[0m\n\u001b[1;32m      5\u001b[0m \u001b[0mlabel_the_data\u001b[0m\u001b[0;34m(\u001b[0m\u001b[0;34m'short_ans2.csv'\u001b[0m\u001b[0;34m,\u001b[0m \u001b[0;36m2\u001b[0m\u001b[0;34m,\u001b[0m \u001b[0;36m3\u001b[0m\u001b[0;34m)\u001b[0m\u001b[0;34m\u001b[0m\u001b[0m\n",
      "\u001b[0;32m<ipython-input-15-f8e81d6998f5>\u001b[0m in \u001b[0;36mlabel_with_turn\u001b[0;34m(filename, frame, answer_length, pre_n)\u001b[0m\n\u001b[1;32m     15\u001b[0m             \u001b[0;32mif\u001b[0m \u001b[0;32mnot\u001b[0m \u001b[0mis_answer\u001b[0m\u001b[0;34m(\u001b[0m\u001b[0mtext\u001b[0m\u001b[0;34m)\u001b[0m\u001b[0;34m:\u001b[0m\u001b[0;34m\u001b[0m\u001b[0m\n\u001b[1;32m     16\u001b[0m                 \u001b[0;32mcontinue\u001b[0m\u001b[0;34m\u001b[0m\u001b[0m\n\u001b[0;32m---> 17\u001b[0;31m             \u001b[0;32mif\u001b[0m \u001b[0mis_short\u001b[0m\u001b[0;34m(\u001b[0m\u001b[0mtext\u001b[0m\u001b[0;34m,\u001b[0m \u001b[0manswer_length\u001b[0m\u001b[0;34m,\u001b[0m \u001b[0mthreshold\u001b[0m\u001b[0;34m,\u001b[0m \u001b[0mpre_n\u001b[0m\u001b[0;34m)\u001b[0m \u001b[0;32mand\u001b[0m \u001b[0mis_valid\u001b[0m\u001b[0;34m(\u001b[0m\u001b[0mtext\u001b[0m\u001b[0;34m)\u001b[0m\u001b[0;34m:\u001b[0m\u001b[0;34m\u001b[0m\u001b[0m\n\u001b[0m\u001b[1;32m     18\u001b[0m                 \u001b[0;32mif\u001b[0m \u001b[0mis_same_chat\u001b[0m\u001b[0;34m(\u001b[0m\u001b[0mactual_chat\u001b[0m\u001b[0;34m,\u001b[0m \u001b[0mlast_chat\u001b[0m\u001b[0;34m)\u001b[0m\u001b[0;34m:\u001b[0m\u001b[0;34m\u001b[0m\u001b[0m\n\u001b[1;32m     19\u001b[0m                     \u001b[0mrow\u001b[0m\u001b[0;34m[\u001b[0m\u001b[0;34m'label'\u001b[0m\u001b[0;34m]\u001b[0m \u001b[0;34m=\u001b[0m \u001b[0mtext\u001b[0m\u001b[0;34m\u001b[0m\u001b[0m\n",
      "\u001b[0;32m<ipython-input-12-f3d87be38297>\u001b[0m in \u001b[0;36mis_short\u001b[0;34m(answer, answer_length, threshold, pre_n)\u001b[0m\n\u001b[1;32m      3\u001b[0m     \u001b[0;32mis\u001b[0m \u001b[0mshort\u001b[0m \u001b[0manswer\u001b[0m\u001b[0;31m?\u001b[0m\u001b[0;34m\u001b[0m\u001b[0m\n\u001b[1;32m      4\u001b[0m     \"\"\"\n\u001b[0;32m----> 5\u001b[0;31m     \u001b[0;32mreturn\u001b[0m \u001b[0;34m(\u001b[0m\u001b[0;36m0\u001b[0m \u001b[0;34m<\u001b[0m \u001b[0mlen\u001b[0m\u001b[0;34m(\u001b[0m\u001b[0manswer\u001b[0m\u001b[0;34m.\u001b[0m\u001b[0msplit\u001b[0m\u001b[0;34m(\u001b[0m\u001b[0;34m)\u001b[0m\u001b[0;34m)\u001b[0m \u001b[0;34m<=\u001b[0m \u001b[0manswer_length\u001b[0m\u001b[0;34m)\u001b[0m \u001b[0;32mand\u001b[0m \u001b[0mdistribution_answer\u001b[0m\u001b[0;34m[\u001b[0m\u001b[0mpre_n\u001b[0m\u001b[0;34m]\u001b[0m\u001b[0;34m[\u001b[0m\u001b[0manswer\u001b[0m\u001b[0;34m]\u001b[0m \u001b[0;34m>=\u001b[0m \u001b[0mthreshold\u001b[0m\u001b[0;34m\u001b[0m\u001b[0m\n\u001b[0m\u001b[1;32m      6\u001b[0m \u001b[0;34m\u001b[0m\u001b[0m\n\u001b[1;32m      7\u001b[0m \u001b[0;32mdef\u001b[0m \u001b[0mis_same_owner\u001b[0m\u001b[0;34m(\u001b[0m\u001b[0mown1\u001b[0m\u001b[0;34m,\u001b[0m \u001b[0mown2\u001b[0m\u001b[0;34m)\u001b[0m\u001b[0;34m:\u001b[0m\u001b[0;34m\u001b[0m\u001b[0m\n",
      "\u001b[0;32m~/.virtualenvs/dataMining/lib/python3.5/site-packages/pandas/core/frame.py\u001b[0m in \u001b[0;36m__getitem__\u001b[0;34m(self, key)\u001b[0m\n\u001b[1;32m   1962\u001b[0m             \u001b[0;32mreturn\u001b[0m \u001b[0mself\u001b[0m\u001b[0;34m.\u001b[0m\u001b[0m_getitem_multilevel\u001b[0m\u001b[0;34m(\u001b[0m\u001b[0mkey\u001b[0m\u001b[0;34m)\u001b[0m\u001b[0;34m\u001b[0m\u001b[0m\n\u001b[1;32m   1963\u001b[0m         \u001b[0;32melse\u001b[0m\u001b[0;34m:\u001b[0m\u001b[0;34m\u001b[0m\u001b[0m\n\u001b[0;32m-> 1964\u001b[0;31m             \u001b[0;32mreturn\u001b[0m \u001b[0mself\u001b[0m\u001b[0;34m.\u001b[0m\u001b[0m_getitem_column\u001b[0m\u001b[0;34m(\u001b[0m\u001b[0mkey\u001b[0m\u001b[0;34m)\u001b[0m\u001b[0;34m\u001b[0m\u001b[0m\n\u001b[0m\u001b[1;32m   1965\u001b[0m \u001b[0;34m\u001b[0m\u001b[0m\n\u001b[1;32m   1966\u001b[0m     \u001b[0;32mdef\u001b[0m \u001b[0m_getitem_column\u001b[0m\u001b[0;34m(\u001b[0m\u001b[0mself\u001b[0m\u001b[0;34m,\u001b[0m \u001b[0mkey\u001b[0m\u001b[0;34m)\u001b[0m\u001b[0;34m:\u001b[0m\u001b[0;34m\u001b[0m\u001b[0m\n",
      "\u001b[0;32m~/.virtualenvs/dataMining/lib/python3.5/site-packages/pandas/core/frame.py\u001b[0m in \u001b[0;36m_getitem_column\u001b[0;34m(self, key)\u001b[0m\n\u001b[1;32m   1969\u001b[0m         \u001b[0;31m# get column\u001b[0m\u001b[0;34m\u001b[0m\u001b[0;34m\u001b[0m\u001b[0m\n\u001b[1;32m   1970\u001b[0m         \u001b[0;32mif\u001b[0m \u001b[0mself\u001b[0m\u001b[0;34m.\u001b[0m\u001b[0mcolumns\u001b[0m\u001b[0;34m.\u001b[0m\u001b[0mis_unique\u001b[0m\u001b[0;34m:\u001b[0m\u001b[0;34m\u001b[0m\u001b[0m\n\u001b[0;32m-> 1971\u001b[0;31m             \u001b[0;32mreturn\u001b[0m \u001b[0mself\u001b[0m\u001b[0;34m.\u001b[0m\u001b[0m_get_item_cache\u001b[0m\u001b[0;34m(\u001b[0m\u001b[0mkey\u001b[0m\u001b[0;34m)\u001b[0m\u001b[0;34m\u001b[0m\u001b[0m\n\u001b[0m\u001b[1;32m   1972\u001b[0m \u001b[0;34m\u001b[0m\u001b[0m\n\u001b[1;32m   1973\u001b[0m         \u001b[0;31m# duplicate columns & possible reduce dimensionality\u001b[0m\u001b[0;34m\u001b[0m\u001b[0;34m\u001b[0m\u001b[0m\n",
      "\u001b[0;32m~/.virtualenvs/dataMining/lib/python3.5/site-packages/pandas/core/generic.py\u001b[0m in \u001b[0;36m_get_item_cache\u001b[0;34m(self, item)\u001b[0m\n\u001b[1;32m   1643\u001b[0m         \u001b[0mres\u001b[0m \u001b[0;34m=\u001b[0m \u001b[0mcache\u001b[0m\u001b[0;34m.\u001b[0m\u001b[0mget\u001b[0m\u001b[0;34m(\u001b[0m\u001b[0mitem\u001b[0m\u001b[0;34m)\u001b[0m\u001b[0;34m\u001b[0m\u001b[0m\n\u001b[1;32m   1644\u001b[0m         \u001b[0;32mif\u001b[0m \u001b[0mres\u001b[0m \u001b[0;32mis\u001b[0m \u001b[0;32mNone\u001b[0m\u001b[0;34m:\u001b[0m\u001b[0;34m\u001b[0m\u001b[0m\n\u001b[0;32m-> 1645\u001b[0;31m             \u001b[0mvalues\u001b[0m \u001b[0;34m=\u001b[0m \u001b[0mself\u001b[0m\u001b[0;34m.\u001b[0m\u001b[0m_data\u001b[0m\u001b[0;34m.\u001b[0m\u001b[0mget\u001b[0m\u001b[0;34m(\u001b[0m\u001b[0mitem\u001b[0m\u001b[0;34m)\u001b[0m\u001b[0;34m\u001b[0m\u001b[0m\n\u001b[0m\u001b[1;32m   1646\u001b[0m             \u001b[0mres\u001b[0m \u001b[0;34m=\u001b[0m \u001b[0mself\u001b[0m\u001b[0;34m.\u001b[0m\u001b[0m_box_item_values\u001b[0m\u001b[0;34m(\u001b[0m\u001b[0mitem\u001b[0m\u001b[0;34m,\u001b[0m \u001b[0mvalues\u001b[0m\u001b[0;34m)\u001b[0m\u001b[0;34m\u001b[0m\u001b[0m\n\u001b[1;32m   1647\u001b[0m             \u001b[0mcache\u001b[0m\u001b[0;34m[\u001b[0m\u001b[0mitem\u001b[0m\u001b[0;34m]\u001b[0m \u001b[0;34m=\u001b[0m \u001b[0mres\u001b[0m\u001b[0;34m\u001b[0m\u001b[0m\n",
      "\u001b[0;32m~/.virtualenvs/dataMining/lib/python3.5/site-packages/pandas/core/internals.py\u001b[0m in \u001b[0;36mget\u001b[0;34m(self, item, fastpath)\u001b[0m\n\u001b[1;32m   3588\u001b[0m \u001b[0;34m\u001b[0m\u001b[0m\n\u001b[1;32m   3589\u001b[0m             \u001b[0;32mif\u001b[0m \u001b[0;32mnot\u001b[0m \u001b[0misnull\u001b[0m\u001b[0;34m(\u001b[0m\u001b[0mitem\u001b[0m\u001b[0;34m)\u001b[0m\u001b[0;34m:\u001b[0m\u001b[0;34m\u001b[0m\u001b[0m\n\u001b[0;32m-> 3590\u001b[0;31m                 \u001b[0mloc\u001b[0m \u001b[0;34m=\u001b[0m \u001b[0mself\u001b[0m\u001b[0;34m.\u001b[0m\u001b[0mitems\u001b[0m\u001b[0;34m.\u001b[0m\u001b[0mget_loc\u001b[0m\u001b[0;34m(\u001b[0m\u001b[0mitem\u001b[0m\u001b[0;34m)\u001b[0m\u001b[0;34m\u001b[0m\u001b[0m\n\u001b[0m\u001b[1;32m   3591\u001b[0m             \u001b[0;32melse\u001b[0m\u001b[0;34m:\u001b[0m\u001b[0;34m\u001b[0m\u001b[0m\n\u001b[1;32m   3592\u001b[0m                 \u001b[0mindexer\u001b[0m \u001b[0;34m=\u001b[0m \u001b[0mnp\u001b[0m\u001b[0;34m.\u001b[0m\u001b[0marange\u001b[0m\u001b[0;34m(\u001b[0m\u001b[0mlen\u001b[0m\u001b[0;34m(\u001b[0m\u001b[0mself\u001b[0m\u001b[0;34m.\u001b[0m\u001b[0mitems\u001b[0m\u001b[0;34m)\u001b[0m\u001b[0;34m)\u001b[0m\u001b[0;34m[\u001b[0m\u001b[0misnull\u001b[0m\u001b[0;34m(\u001b[0m\u001b[0mself\u001b[0m\u001b[0;34m.\u001b[0m\u001b[0mitems\u001b[0m\u001b[0;34m)\u001b[0m\u001b[0;34m]\u001b[0m\u001b[0;34m\u001b[0m\u001b[0m\n",
      "\u001b[0;32m~/.virtualenvs/dataMining/lib/python3.5/site-packages/pandas/core/indexes/base.py\u001b[0m in \u001b[0;36mget_loc\u001b[0;34m(self, key, method, tolerance)\u001b[0m\n\u001b[1;32m   2442\u001b[0m                 \u001b[0;32mreturn\u001b[0m \u001b[0mself\u001b[0m\u001b[0;34m.\u001b[0m\u001b[0m_engine\u001b[0m\u001b[0;34m.\u001b[0m\u001b[0mget_loc\u001b[0m\u001b[0;34m(\u001b[0m\u001b[0mkey\u001b[0m\u001b[0;34m)\u001b[0m\u001b[0;34m\u001b[0m\u001b[0m\n\u001b[1;32m   2443\u001b[0m             \u001b[0;32mexcept\u001b[0m \u001b[0mKeyError\u001b[0m\u001b[0;34m:\u001b[0m\u001b[0;34m\u001b[0m\u001b[0m\n\u001b[0;32m-> 2444\u001b[0;31m                 \u001b[0;32mreturn\u001b[0m \u001b[0mself\u001b[0m\u001b[0;34m.\u001b[0m\u001b[0m_engine\u001b[0m\u001b[0;34m.\u001b[0m\u001b[0mget_loc\u001b[0m\u001b[0;34m(\u001b[0m\u001b[0mself\u001b[0m\u001b[0;34m.\u001b[0m\u001b[0m_maybe_cast_indexer\u001b[0m\u001b[0;34m(\u001b[0m\u001b[0mkey\u001b[0m\u001b[0;34m)\u001b[0m\u001b[0;34m)\u001b[0m\u001b[0;34m\u001b[0m\u001b[0m\n\u001b[0m\u001b[1;32m   2445\u001b[0m \u001b[0;34m\u001b[0m\u001b[0m\n\u001b[1;32m   2446\u001b[0m         \u001b[0mindexer\u001b[0m \u001b[0;34m=\u001b[0m \u001b[0mself\u001b[0m\u001b[0;34m.\u001b[0m\u001b[0mget_indexer\u001b[0m\u001b[0;34m(\u001b[0m\u001b[0;34m[\u001b[0m\u001b[0mkey\u001b[0m\u001b[0;34m]\u001b[0m\u001b[0;34m,\u001b[0m \u001b[0mmethod\u001b[0m\u001b[0;34m=\u001b[0m\u001b[0mmethod\u001b[0m\u001b[0;34m,\u001b[0m \u001b[0mtolerance\u001b[0m\u001b[0;34m=\u001b[0m\u001b[0mtolerance\u001b[0m\u001b[0;34m)\u001b[0m\u001b[0;34m\u001b[0m\u001b[0m\n",
      "\u001b[0;32mpandas/_libs/index.pyx\u001b[0m in \u001b[0;36mpandas._libs.index.IndexEngine.get_loc (pandas/_libs/index.c:5280)\u001b[0;34m()\u001b[0m\n",
      "\u001b[0;32mpandas/_libs/index.pyx\u001b[0m in \u001b[0;36mpandas._libs.index.IndexEngine.get_loc (pandas/_libs/index.c:5126)\u001b[0;34m()\u001b[0m\n",
      "\u001b[0;32mpandas/_libs/hashtable_class_helper.pxi\u001b[0m in \u001b[0;36mpandas._libs.hashtable.PyObjectHashTable.get_item (pandas/_libs/hashtable.c:20523)\u001b[0;34m()\u001b[0m\n",
      "\u001b[0;32mpandas/_libs/hashtable_class_helper.pxi\u001b[0m in \u001b[0;36mpandas._libs.hashtable.PyObjectHashTable.get_item (pandas/_libs/hashtable.c:20477)\u001b[0;34m()\u001b[0m\n",
      "\u001b[0;31mKeyError\u001b[0m: 'bienvenido'"
     ]
    }
   ],
   "source": [
    "label_with_turn('turn1_short1_pre2_20words.csv', 1, 1, 3)\n",
    "label_with_turn('turn3_short1_pre2_20words.csv', 3, 1, 3)\n",
    "label_with_turn('turn10_short1_pre2_20words.csv', 10, 1, 3)\n",
    "label_the_data('short_ans1.csv', 1, 3)\n",
    "label_the_data('short_ans2.csv', 2, 3)\n",
    "label_the_data('short_ans3.csv', 3, 3)"
   ]
  },
  {
   "cell_type": "code",
   "execution_count": null,
   "metadata": {},
   "outputs": [],
   "source": []
  }
 ],
 "metadata": {
  "kernelspec": {
   "display_name": "Python 3",
   "language": "python",
   "name": "python3"
  },
  "language_info": {
   "codemirror_mode": {
    "name": "ipython",
    "version": 3
   },
   "file_extension": ".py",
   "mimetype": "text/x-python",
   "name": "python",
   "nbconvert_exporter": "python",
   "pygments_lexer": "ipython3",
   "version": "3.5.2"
  }
 },
 "nbformat": 4,
 "nbformat_minor": 2
}
